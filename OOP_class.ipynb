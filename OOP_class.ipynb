{
  "nbformat": 4,
  "nbformat_minor": 0,
  "metadata": {
    "kernelspec": {
      "display_name": "Python 3",
      "language": "python",
      "name": "python3"
    },
    "language_info": {
      "codemirror_mode": {
        "name": "ipython",
        "version": 3
      },
      "file_extension": ".py",
      "mimetype": "text/x-python",
      "name": "python",
      "nbconvert_exporter": "python",
      "pygments_lexer": "ipython3",
      "version": "3.7.4"
    },
    "colab": {
      "name": "OOP_class.ipynb",
      "provenance": [],
      "collapsed_sections": [],
      "include_colab_link": true
    }
  },
  "cells": [
    {
      "cell_type": "markdown",
      "metadata": {
        "id": "view-in-github",
        "colab_type": "text"
      },
      "source": [
        "<a href=\"https://colab.research.google.com/github/sviteribuben/skillbox/blob/master/OOP_class.ipynb\" target=\"_parent\"><img src=\"https://colab.research.google.com/assets/colab-badge.svg\" alt=\"Open In Colab\"/></a>"
      ]
    },
    {
      "cell_type": "markdown",
      "metadata": {
        "id": "5-3u3gydZA8B"
      },
      "source": [
        "# Классы\n",
        "## Домашнее задание"
      ]
    },
    {
      "cell_type": "markdown",
      "metadata": {
        "id": "yMsXEQQXZA8I"
      },
      "source": [
        "### Вопросы по лекциям\n",
        "\n",
        "#### 1.\n",
        "\n",
        "Напишите название функции, которая является конструктором класса."
      ]
    },
    {
      "cell_type": "markdown",
      "metadata": {
        "id": "MU98EDghZA8J"
      },
      "source": [
        "**Ответ:**\n",
        "<br>`__init__ - (def __init__():)` запись функции конструктора класса"
      ]
    },
    {
      "cell_type": "markdown",
      "metadata": {
        "id": "4TinwgvZZA8J"
      },
      "source": [
        "#### 2.\n",
        "\n",
        "На что указывает переменная `self`?"
      ]
    },
    {
      "cell_type": "markdown",
      "metadata": {
        "id": "NbzggyxSZA8K"
      },
      "source": [
        "**Ответ:**<br>Пременная `self` указывает на конкретный созданный объект"
      ]
    },
    {
      "cell_type": "markdown",
      "metadata": {
        "id": "S8H6xYZFZA8K"
      },
      "source": [
        "#### 3.\n",
        "С помощью какой функции можно проверить, что некая строка является именем одного из атрибутов объекта?"
      ]
    },
    {
      "cell_type": "markdown",
      "metadata": {
        "id": "4ags2SYWZA8K"
      },
      "source": [
        "**Ответ:**<br> с помощью функции `hasattr`"
      ]
    },
    {
      "cell_type": "markdown",
      "metadata": {
        "id": "X8oarOAnZA8L"
      },
      "source": [
        "#### 4.\n",
        "Когда вызывается метод `__del__`? (относительно события удаления объекта)"
      ]
    },
    {
      "cell_type": "markdown",
      "metadata": {
        "id": "HvDG4Uk6ZA8L"
      },
      "source": [
        "**Ответ:**<br> метод `__del__` вызывается перед самым уничтожением объекта\n"
      ]
    },
    {
      "cell_type": "markdown",
      "metadata": {
        "id": "h_zvN6FcZA8L"
      },
      "source": [
        "#### 5.\n",
        "Верно ли, что атрибут класса перекрывает атрибут объекта?"
      ]
    },
    {
      "cell_type": "markdown",
      "metadata": {
        "id": "sLFCTranZA8M"
      },
      "source": [
        "**Ответ:**<br> Не верно. Атрибут объекта проверяется первичнее и перекрывает атрибут класса. А вот если атрибута объекта нет то идет проверка в namespace класса"
      ]
    },
    {
      "cell_type": "markdown",
      "metadata": {
        "id": "wimSS8suZA8M"
      },
      "source": [
        "#### 6.\n",
        "Можно ли атрибуты базового класса вызывать в дочернем классе? Если да, то напишите, нет ли исклчений?"
      ]
    },
    {
      "cell_type": "markdown",
      "metadata": {
        "id": "v1lSB3dwZA8M"
      },
      "source": [
        "**Ответ:**<br>Атрибуты базового (родительского) класса можно вызывать в дочернем классе. Кроме атрибутов с двумя подчерками  в начале (приватные атрибуты)"
      ]
    },
    {
      "cell_type": "markdown",
      "metadata": {
        "id": "Sham5JYOZA8M"
      },
      "source": [
        "#### 7.\n",
        "Объясните своими словами для чего нужен метод `super`."
      ]
    },
    {
      "cell_type": "markdown",
      "metadata": {
        "id": "V6leUKTSZA8N"
      },
      "source": [
        "**Ответ:**<br> метод `super` инициирует обращение к классам-предкам из дочернего класса, позволяет вызвать переопределенный метод родительского класса. Добавление в любой метод базового калсса новых параметров дочернего объекта."
      ]
    },
    {
      "cell_type": "markdown",
      "metadata": {
        "id": "3PyXkbwuZA8N"
      },
      "source": [
        "### Практика\n",
        "\n",
        "1. Напишите класс `Fraction` для работы с дробями. Пусть дробь в нашем классе предстает в виде `числитель/знаменатель`. Дробное число должно создаваться по запросу `Fraction(a, b)`, где `a` – это числитель, а `b` – знаменатель дроби. \n",
        "2. Добавьте возможность сложения (сложения через оператор сложения) для дроби. Предполагается, что операция сложения может проводиться как только между дробями, так и между дробью и целым числом. Результат оперции должен быть представлен в виде дроби.\n",
        "3. Добавьте возможность взятия раздости (вычитания через оператор вычитания) для дробей. Предполагается, что операция вычитания может проводиться как только для двух дробей, так и для дроби и целого числа. Результат оперции должен быть представлен в виде дроби.\n",
        "4. Добавьте возможность умножения (умножения через оператор умножения) для дробей. Предполагается, что операция умножения может проводиться как только для двух дробей, так и для дроби и целого числа. Результат оперции должен быть представлен в виде дроби.\n",
        "5. Добавьте возможность приведения дроби к целому числу через стандартную функцию `int()`.\n",
        "6. Добавьте возможность приведения дроби к числу с плавающей точкой через стандартную функцию `float()`.\n",
        "7. Создайте дочерний класс `OperationsOnFraction` и добавьте туда собственные методы `getint` и `getfloat`, которые будут возвращять целую часть дроби и представление дроби в виде числа с плавающей точкой соответственно. \n",
        " "
      ]
    },
    {
      "cell_type": "code",
      "metadata": {
        "id": "b_GQ0eubZA8N",
        "outputId": "76cd5161-9677-4dbd-cba1-4caabdb877e9"
      },
      "source": [
        "class Fraction:\n",
        "    def __init__(self, a=None, b=None):\n",
        "        self.a = a\n",
        "        self.b = b\n",
        "\n",
        "    def __str__(self):\n",
        "        if self.b is None:\n",
        "            return str(self.a) + '/' + str(self.a) # Если введено одно - считаем за целое\n",
        "        else:\n",
        "            return str(self.a) + '/' + str(self.b)\n",
        "        \n",
        "    def __add__(self, other):\n",
        "        new_a = self.a * other.b + self.b * other.a\n",
        "        new_b = self.b * other.b\n",
        "        return Fraction(new_a, new_b)\n",
        "    \n",
        "    def __sub__(self, other):\n",
        "        new_a = self.a * other.b - self.b * other.a\n",
        "        new_b = self.b * other.b\n",
        "        return Fraction(new_a, new_b)\n",
        "\n",
        "    def __mul__(self, other):\n",
        "        new_a = self.a * other.a\n",
        "        new_b = self.b * other.b\n",
        "        return Fraction(new_a, new_b)\n",
        "    \n",
        "    def integer(self):\n",
        "        res = int(self.a / self.b)\n",
        "        return res\n",
        "    \n",
        "    def floating(self):\n",
        "        res = float(self.a / self.b)\n",
        "        return res\n",
        "    \n",
        "    \n",
        "class OperationsOnFraction(Fraction):\n",
        "    \n",
        "   \n",
        "    def getint(self): # можно было переопределить на функционал базового калсса\n",
        "        res = int(self.a / self.b)\n",
        "        return res\n",
        "    \n",
        "    def getfloat(self):\n",
        "        res = float(self.a / self.b)\n",
        "        return res\n",
        "    \n",
        "    \n",
        "print('--- Создаем экземпляры класса ---')\n",
        "dr = Fraction(6, 7)\n",
        "dr2 = Fraction(2, 3)\n",
        "print(dr)\n",
        "print(dr2)\n",
        "print()\n",
        "print('--- РЕализация операций с дробями ---')\n",
        "print(dr2 + dr)\n",
        "print(dr - dr2)\n",
        "print(dr * dr2)\n",
        "print()\n",
        "print('--- Вывод целого и дробного вида дроби ---')\n",
        "print(dr.integer())\n",
        "print(dr.floating())\n",
        "print()\n",
        "print('--- Вывод целого и дробного вида дроби дочернего класса ---')\n",
        "dr_child = OperationsOnFraction(3, 4)\n",
        "print(dr_child.getint())\n",
        "print(dr_child.getfloat())\n"
      ],
      "execution_count": null,
      "outputs": [
        {
          "output_type": "stream",
          "text": [
            "--- Создаем экземпляры класса ---\n",
            "6/7\n",
            "2/3\n",
            "\n",
            "--- РЕализация операций с дробями ---\n",
            "32/21\n",
            "4/21\n",
            "12/21\n",
            "\n",
            "--- Вывод целого и дробного вида дроби ---\n",
            "0\n",
            "0.8571428571428571\n",
            "\n",
            "--- Вывод целого и дробного вида дроби дочернего класса ---\n",
            "0\n",
            "0.75\n"
          ],
          "name": "stdout"
        }
      ]
    }
  ]
}