{
  "nbformat": 4,
  "nbformat_minor": 0,
  "metadata": {
    "colab": {
      "name": "functions.ipynb",
      "provenance": [],
      "collapsed_sections": [],
      "include_colab_link": true
    },
    "kernelspec": {
      "display_name": "Python 3",
      "language": "python",
      "name": "python3"
    },
    "language_info": {
      "codemirror_mode": {
        "name": "ipython",
        "version": 3
      },
      "file_extension": ".py",
      "mimetype": "text/x-python",
      "name": "python",
      "nbconvert_exporter": "python",
      "pygments_lexer": "ipython3",
      "version": "3.7.4"
    }
  },
  "cells": [
    {
      "cell_type": "markdown",
      "metadata": {
        "id": "view-in-github",
        "colab_type": "text"
      },
      "source": [
        "<a href=\"https://colab.research.google.com/github/sviteribuben/skillbox/blob/master/functions.ipynb\" target=\"_parent\"><img src=\"https://colab.research.google.com/assets/colab-badge.svg\" alt=\"Open In Colab\"/></a>"
      ]
    },
    {
      "cell_type": "markdown",
      "metadata": {
        "id": "fm2YWUGvts2-"
      },
      "source": [
        "# Функции\n",
        "### Домашнее задание"
      ]
    },
    {
      "cell_type": "markdown",
      "metadata": {
        "id": "vtadtcbgts3A"
      },
      "source": [
        "#### 1.\n",
        "Почему возникла ошибка? Объясните и исправьте."
      ]
    },
    {
      "cell_type": "code",
      "metadata": {
        "id": "wYCHLbgJts3C",
        "outputId": "a5d47ca5-71fb-4003-ce4b-101f4c938e38"
      },
      "source": [
        "f = 1\n",
        "\n",
        "def factorial(n):\n",
        "    f = 1\n",
        "    for i in range(2, n + 1):\n",
        "        f = f * i\n",
        "    return f\n",
        "\n",
        "f2 = factorial(5)\n",
        "print(f)\n",
        "print(f2)"
      ],
      "execution_count": null,
      "outputs": [
        {
          "output_type": "stream",
          "text": [
            "1\n",
            "120\n"
          ],
          "name": "stdout"
        }
      ]
    },
    {
      "cell_type": "markdown",
      "metadata": {
        "id": "4AEgqr_Its3I"
      },
      "source": [
        "**Объяснение:** \n",
        "<br>Переменная f находится в пространстве имен функции, а вызывается из глобального скоупа в котором не определена. Ошибка в этом.<br>"
      ]
    },
    {
      "cell_type": "markdown",
      "metadata": {
        "id": "A9jbY_Ixts3K"
      },
      "source": [
        "#### 2.\n",
        "Почему переменная S после запуска функции сохранила значение ноль?"
      ]
    },
    {
      "cell_type": "code",
      "metadata": {
        "id": "A_cfBf0Dts3L",
        "outputId": "6f596828-96d2-45bc-d050-56292af00604"
      },
      "source": [
        "S = 0\n",
        "def sum(n, m):\n",
        "    S = n + m\n",
        "    return S\n",
        "\n",
        "print(sum(3, 4))\n",
        "print(S)"
      ],
      "execution_count": null,
      "outputs": [
        {
          "output_type": "stream",
          "text": [
            "7\n",
            "0\n"
          ],
          "name": "stdout"
        }
      ]
    },
    {
      "cell_type": "markdown",
      "metadata": {
        "id": "oxwz4yVYts3P"
      },
      "source": [
        "**Объяснение:** \n",
        "<br>Переменная S объявлена в глобальном пространстве имен далее эта переменная переопределена в лоакльном скоупе, возвращена - как результат работы функции в принт, а потом опять глобальная S распечатана из глобального пространства имен<br>"
      ]
    },
    {
      "cell_type": "markdown",
      "metadata": {
        "id": "ws1lmJfhts3R"
      },
      "source": [
        "#### 3.\n",
        "Почему возникла ошибка? Объясните и исправьте, чтобы функция могла работать с данными на входе в примере с `res`."
      ]
    },
    {
      "cell_type": "code",
      "metadata": {
        "id": "ad8eYc35ts3S",
        "outputId": "c991c697-d867-4403-f1fd-5851d65b7942"
      },
      "source": [
        "def mult(*, q, w, e, r, t, y):\n",
        "    return q + w + e + r + t + y\n",
        "#res = mult(1, 2, 3, 4, 5, 6)\n",
        "res = mult(q=1, w=2, e=3, r=4, t=5, y=6)\n",
        "print(res)"
      ],
      "execution_count": null,
      "outputs": [
        {
          "output_type": "stream",
          "text": [
            "21\n"
          ],
          "name": "stdout"
        }
      ]
    },
    {
      "cell_type": "markdown",
      "metadata": {
        "id": "yVwoWfiWts3Y"
      },
      "source": [
        "**Объяснение:** \n",
        "<br>Требуется, чтобы все параметры функции указывались явно. в исходнике параметры функции указаны позиционно.<br>Алсо функция будет работать корректно если убрать звездочку в начале, тоесть требование явного указания параметров функции. "
      ]
    },
    {
      "cell_type": "markdown",
      "metadata": {
        "id": "UTT3sbJXts3a"
      },
      "source": [
        "#### 4.\n",
        "Почему возникла ошибка? Объясните и исправьте, чтобы функция могла работать с данными на входе в примере."
      ]
    },
    {
      "cell_type": "code",
      "metadata": {
        "id": "xizQ5rdqts3b",
        "outputId": "a52d4f28-5521-48fe-a968-13b7491cfb65"
      },
      "source": [
        "# проблема в том и ошибка об этом и говорит, что именованный параметр функции стоит на первом месте, \n",
        "# а должен стоять на третьем (после исправления функция работает)\n",
        "\n",
        "def power(a, s,  d):\n",
        "    res = a ** s ** d\n",
        "    print(res)\n",
        "    \n",
        "power(5, 6, d = 4)\n"
      ],
      "execution_count": null,
      "outputs": [
        {
          "output_type": "stream",
          "text": [
            "733036532959081958493044038604220573003076872623105825587799726719137081664242889213090239865705342028379233496941111919796792708971905802219444504019006104332493489107721493845412453899793946281899700834091715387952751830219643610349979360602856524762182507733859966860842500858768382394753399581156286449561160783713877222895092808637540218804927005623038569306841733685039433236910980897592858987002063924013988530964522502594931500371157643132061597303111367258489022159044511817010529399435883286083212695075903281596592105429678751689059533454035251548334986509241552406961532864939006610513597608967402985707857424513196823658884413602881077337616965779954194874666031301491450438900838443296921074535307486056701074634195717288344127864971903293281532919139948732795811179970577905638353069459326437465009401802406334569163539571111057039009740125070184999823974525412495495402254164218902587890625\n"
          ],
          "name": "stdout"
        }
      ]
    },
    {
      "cell_type": "markdown",
      "metadata": {
        "id": "GfY6txsXts3f"
      },
      "source": [
        "#### 5.\n",
        "Почему возникла ошибка? Объясните и исправьте, чтобы функция могла работать с данными на входе в примере."
      ]
    },
    {
      "cell_type": "code",
      "metadata": {
        "id": "oYQQA2PBts3g",
        "outputId": "7036c68d-1c7f-4034-f3de-816e075f6059"
      },
      "source": [
        "# По условию на вход требовались позиционные параметры после распаковки списка (произвольное число).\n",
        "# в принте же был указан просто список - решение - распаковать список\n",
        "def mult2(*args):\n",
        "    res = 1\n",
        "    for i in args:\n",
        "        res += i\n",
        "    return res\n",
        "\n",
        "List = [1, 2, 3, 4, 5, 6, 7]\n",
        "# print(mult2(List))\n",
        "print(mult2(*List))\n"
      ],
      "execution_count": null,
      "outputs": [
        {
          "output_type": "stream",
          "text": [
            "29\n"
          ],
          "name": "stdout"
        }
      ]
    },
    {
      "cell_type": "markdown",
      "metadata": {
        "id": "QcuTA23Uts3l"
      },
      "source": [
        "#### 6.\n",
        "Почему возникла ошибка? Объясните и исправьте."
      ]
    },
    {
      "cell_type": "code",
      "metadata": {
        "id": "N51MkraMts3n"
      },
      "source": [
        "def some_function(a, b, *args, **kwargs):\n",
        "    pass"
      ],
      "execution_count": null,
      "outputs": []
    },
    {
      "cell_type": "markdown",
      "metadata": {
        "id": "Mj0qEUurts36"
      },
      "source": [
        "**Объяснение:** \n",
        "<br>позиционные параметры должны стоять первыми в вызове. Согласно синтаксису<br>"
      ]
    },
    {
      "cell_type": "markdown",
      "metadata": {
        "id": "Me-VY77Bts37"
      },
      "source": [
        "#### 7.\n",
        "Почему не был создан новый список при повторном запуске функции? Объясните и исправьте."
      ]
    },
    {
      "cell_type": "code",
      "metadata": {
        "id": "wXhSLV5xts3-",
        "outputId": "aa4dbf80-bc9a-42c0-c402-e63a1a2c71b1"
      },
      "source": [
        "def to_buy(*new_items, shopping_list=None):\n",
        "    if shopping_list is None:\n",
        "        shopping_list = []\n",
        "        for i in new_items:\n",
        "            shopping_list.append(i)\n",
        "    return shopping_list\n",
        "\n",
        "monday = to_buy('яблоки', 'молоко', 'хлеб')\n",
        "print(monday)\n",
        "\n",
        "tuesday = to_buy('груши', 'йогурт', 'мясо')\n",
        "print(tuesday)\n"
      ],
      "execution_count": null,
      "outputs": [
        {
          "output_type": "stream",
          "text": [
            "['яблоки', 'молоко', 'хлеб']\n",
            "['груши', 'йогурт', 'мясо']\n"
          ],
          "name": "stdout"
        }
      ]
    },
    {
      "cell_type": "markdown",
      "metadata": {
        "id": "nfb7HR6Lts4I"
      },
      "source": [
        "**Объяснение:** \n",
        "<br>Список shopping_list создается при обращении функции и остается в памяти. Каждый раз при вызове функции идет отсылка к этому списку с его содержимым. Нельзя создавать изменяемые дефалтные значения. Вариант решения из лекций.<br>"
      ]
    },
    {
      "cell_type": "markdown",
      "metadata": {
        "id": "nXWDuX9Kts4J"
      },
      "source": [
        "#### 8.\n",
        "Измените данную функцию так, чтобы она распечатывала названия продуктов из словаря в примере.\n"
      ]
    },
    {
      "cell_type": "code",
      "metadata": {
        "id": "SBW9DRlots4L",
        "outputId": "500ecd98-600a-4075-83fa-5c897ef31df8"
      },
      "source": [
        "def print_all(**kwargs):\n",
        "    for key, value in kwargs.items():\n",
        "        print(value)\n",
        "        \n",
        "print_all(**{'1' : 'яблоки', '2' :'молоко', '3' : 'хлеб', '4' : 'груши', '5' : 'йогурт', '6' : 'мясо'})"
      ],
      "execution_count": null,
      "outputs": [
        {
          "output_type": "stream",
          "text": [
            "яблоки\n",
            "молоко\n",
            "хлеб\n",
            "груши\n",
            "йогурт\n",
            "мясо\n"
          ],
          "name": "stdout"
        }
      ]
    },
    {
      "cell_type": "markdown",
      "metadata": {
        "id": "Qse7He_ets4W"
      },
      "source": [
        "#### 9.\n",
        "Программисты договорились, что переменные такого рода являются.. *(вопрос из лекции)*"
      ]
    },
    {
      "cell_type": "code",
      "metadata": {
        "id": "GZldqNGTts4Y"
      },
      "source": [
        "TOKEN = ..."
      ],
      "execution_count": null,
      "outputs": []
    },
    {
      "cell_type": "markdown",
      "metadata": {
        "id": "XwagZX5bts4c"
      },
      "source": [
        "**Ответ:** \n",
        "<br>константа\n",
        "<br>"
      ]
    },
    {
      "cell_type": "markdown",
      "metadata": {
        "id": "GhEM45Mots4d"
      },
      "source": [
        "#### 10.\n",
        "Напишите функцию, которая с помощью рекурсии считает сумму последовательности с шагом m. В качестве аргументов подаются целые положительные числа n (последний элемент последовательности) и m (шаг последовательности).\n",
        "\n",
        "Пример:\n",
        "\n",
        "```\n",
        "sum_of_seq(5, 1)\n",
        "15\n",
        " \n",
        "sum_of_seq(5, 9)\n",
        "5\n",
        "\n",
        "sum_of_seq(8, 2)\n",
        "20\n",
        "```\n"
      ]
    },
    {
      "cell_type": "code",
      "metadata": {
        "colab": {
          "base_uri": "https://localhost:8080/"
        },
        "id": "vPXkJ79ats4e",
        "outputId": "36ce40f9-428c-4b48-a040-b204ca57045d"
      },
      "source": [
        "# Возникли проблемы с этой задачей. \n",
        "# без рекурсии решение:\n",
        "# n = int(input('Целое число '))\n",
        "# m = int(input('Шаг последовательности '))\n",
        "# def sum_of_seq(n, m):\n",
        "#     s = 0\n",
        "#     for i in range(0, n + 1, m):\n",
        "#         s += i\n",
        "#         if n == 1:\n",
        "#             return 1\n",
        "#         elif n <= m:\n",
        "#             return n\n",
        "#     return s\n",
        "\n",
        "# res = sum_of_seq(n, m)\n",
        "# print(res)\n",
        "\n",
        "\n",
        "#решение с рекурсией суммирования без шага:\n",
        "# n = int(input('Целое число '))\n",
        "# def sum_of_seq(n):\n",
        "#     s = 0\n",
        "#     for i in range(0, n + 1):\n",
        "#         s = n + sum_of_seq(n - 1)\n",
        "#         if n == 1:\n",
        "#             return 1\n",
        "#     return s\n",
        "\n",
        "# res = sum_of_seq(n)\n",
        "# print(res)\n",
        "\n",
        "# здесь возникла проблема в применении рекурсии для алгаритма с шагом. \n",
        "# def sum_of_seq(n, m):\n",
        "#     s = 0\n",
        "#     for i in range(0, n + 1, m):\n",
        "#         s = sum_of_seq(n-1, m) + n\n",
        "#         if n == 1:\n",
        "#             return 1\n",
        "#         elif n <= m:\n",
        "#             return n\n",
        "#     return s\n",
        "\n",
        "# sum_of_seq(5, 1)\n",
        "\n",
        "\n",
        "def sum_of_seq(n, m):\n",
        "\n",
        "    if n <= 0:\n",
        "      return 0\n",
        "\n",
        "    elif n == 1:\n",
        "      return 1\n",
        "\n",
        "    return n + sum_of_seq(n - m, m)\n",
        "\n",
        "sum_of_seq(5, 1)"
      ],
      "execution_count": 2,
      "outputs": [
        {
          "output_type": "execute_result",
          "data": {
            "text/plain": [
              "15"
            ]
          },
          "metadata": {
            "tags": []
          },
          "execution_count": 2
        }
      ]
    },
    {
      "cell_type": "markdown",
      "metadata": {
        "id": "_nuDRzdBts4k"
      },
      "source": [
        "#### 11.\n",
        "Напишите функцию, которая возводит число в положительную степень с помощью рекурсии. В качестве аргументов подаются целые положительные числа n (число) и m (степень)."
      ]
    },
    {
      "cell_type": "code",
      "metadata": {
        "colab": {
          "base_uri": "https://localhost:8080/"
        },
        "id": "_9_BMZCxts4m",
        "outputId": "ba6fd2f9-0197-4604-ffd0-5426c3f8bd82"
      },
      "source": [
        "def step(n, m):\n",
        "    if m == 0:\n",
        "        return 1\n",
        "    else:\n",
        "        return n * step(n, m - 1)\n",
        "    \n",
        "n = int(input('number '))\n",
        "m = int(input('power '))\n",
        "res = step(n, m)\n",
        "print('result ', res)"
      ],
      "execution_count": 3,
      "outputs": [
        {
          "output_type": "stream",
          "text": [
            "number 23\n",
            "power 62\n",
            "result  2673781001490041309406973405603767976853455333058605705774088082159330990894338162929\n"
          ],
          "name": "stdout"
        }
      ]
    },
    {
      "cell_type": "markdown",
      "metadata": {
        "id": "1K4dbMwcts4v"
      },
      "source": [
        "#### 12.\n",
        "Напишите функцию, которая возводит число в отрицательную степень число с помощью рекурсии. В качестве аргументов подаются целое положительное число n (число) и целое отрицательное число m (степень)."
      ]
    },
    {
      "cell_type": "code",
      "metadata": {
        "id": "ddZY7Fdxts4x",
        "outputId": "f064cda9-08d2-4009-e241-34cd3e3a7fb6"
      },
      "source": [
        "def step(n, m):\n",
        "    if n == 0:\n",
        "        return 0\n",
        "    elif m == 0:\n",
        "        return 1\n",
        "    elif m == 1:\n",
        "        return n\n",
        "    elif m < 0:\n",
        "        return 1 / (n * step(n, -m -1 ))\n",
        "    else:\n",
        "        return n * step(n, m - 1)\n",
        " \n",
        "n = float(input('number '))\n",
        "m = int(input('negative power '))\n",
        "res = step(n, m)\n",
        "print('result ', res)"
      ],
      "execution_count": null,
      "outputs": [
        {
          "output_type": "stream",
          "text": [
            "number 10\n",
            "negative power -4\n",
            "result  0.0001\n"
          ],
          "name": "stdout"
        }
      ]
    },
    {
      "cell_type": "markdown",
      "metadata": {
        "id": "IxBt4VyQts41"
      },
      "source": [
        "#### 13.\n",
        "\n",
        "Напишите функцию, которая находит число Фиббоначи по его номеру. В качестве аргумента подается целое положительное число n (число)."
      ]
    },
    {
      "cell_type": "code",
      "metadata": {
        "id": "8DEaBWjkts43",
        "outputId": "52fa8a31-d906-4084-8bd7-926365c8b838"
      },
      "source": [
        "def fibonacci(n):\n",
        "    cur = 1\n",
        "    if n > 2:\n",
        "        cur = fibonacci(n-1) + fibonacci(n-2)\n",
        "    return cur\n",
        "\n",
        "n = int(input('Введите номер искомого элемента : '))\n",
        "value = fibonacci(n)\n",
        "print(\"Число из ряда Фибоначчи\", value)"
      ],
      "execution_count": null,
      "outputs": [
        {
          "output_type": "stream",
          "text": [
            "Введите номер искомого элемента : 10\n",
            "Число из ряда Фибоначчи 55\n"
          ],
          "name": "stdout"
        }
      ]
    }
  ]
}