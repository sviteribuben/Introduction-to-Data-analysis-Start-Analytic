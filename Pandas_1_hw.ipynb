{
  "nbformat": 4,
  "nbformat_minor": 0,
  "metadata": {
    "kernelspec": {
      "display_name": "Python 3",
      "language": "python",
      "name": "python3"
    },
    "language_info": {
      "codemirror_mode": {
        "name": "ipython",
        "version": 3
      },
      "file_extension": ".py",
      "mimetype": "text/x-python",
      "name": "python",
      "nbconvert_exporter": "python",
      "pygments_lexer": "ipython3",
      "version": "3.7.6"
    },
    "colab": {
      "name": "Pandas_1_hw.ipynb",
      "provenance": [],
      "collapsed_sections": [],
      "include_colab_link": true
    }
  },
  "cells": [
    {
      "cell_type": "markdown",
      "metadata": {
        "id": "view-in-github",
        "colab_type": "text"
      },
      "source": [
        "<a href=\"https://colab.research.google.com/github/sviteribuben/skillbox/blob/master/Pandas_1_hw.ipynb\" target=\"_parent\"><img src=\"https://colab.research.google.com/assets/colab-badge.svg\" alt=\"Open In Colab\"/></a>"
      ]
    },
    {
      "cell_type": "markdown",
      "metadata": {
        "id": "rmIFJWsImHqY"
      },
      "source": [
        "# Библиотека `pandas`: часть 1\n",
        "\n",
        "*Алла Тамбовцева*\n",
        "\n",
        "## Домашнее задание \n",
        "\n",
        "### Описание домашнего задания и формат сдачи\n",
        "\n",
        "В домашнем задании необходимо решить предложенные задачи по программированию – вписать свой код в ячейки после условий задач вместо комментария `### YOUR CODE HERE ###` в файле *homework-pandas1.ipynb* и сохранить изменения, используя опцию *Save and Checkpoint* из вкладки меню *File* или кнопку *Save and Checkpoint* на панели инструментов. Итоговый файл в формате `.ipynb` (файл Jupyter Notebook) необходимо загрузить в личный кабинет обучающей онлайн платформы Skillbox (https://go.skillbox.ru/) и отправить на проверку."
      ]
    },
    {
      "cell_type": "markdown",
      "metadata": {
        "id": "CEWg-jC5mHqh"
      },
      "source": [
        "### Задание 1\n",
        "\n",
        "Загрузить массив `NumPy` из файла `\"arr_pandas.npy\"` (как в задании к предыдущему модулю) и преобразовать его в датафрейм. Массив содержит данные по результатам соревнований Scottish Hill Races в 2000 году (полное описание на английском языке можно посмотреть на [странице](https://vincentarelbundock.github.io/Rdatasets/doc/DAAG/races2000.html) с документацией по исходному файлу с данными).\n",
        "\n",
        "**Подсказка (преобразование в датафрейм):**"
      ]
    },
    {
      "cell_type": "code",
      "metadata": {
        "id": "due9GD5rmHqi"
      },
      "source": [
        "import pandas as pd\n",
        "import numpy as np"
      ],
      "execution_count": null,
      "outputs": []
    },
    {
      "cell_type": "code",
      "metadata": {
        "id": "ZqByVqIymHqi"
      },
      "source": [
        "dat = pd.DataFrame(arr)  # arr - массив NumPy из файла"
      ],
      "execution_count": null,
      "outputs": []
    },
    {
      "cell_type": "code",
      "metadata": {
        "id": "Dn15Kug-mHqj",
        "outputId": "56df03aa-7400-474f-813c-8ba5ea6c3aa1"
      },
      "source": [
        "arr = np.load('arr_pandas.npy', allow_pickle=True)\n",
        "dat = pd.DataFrame(arr)\n",
        "dat.head(6)"
      ],
      "execution_count": null,
      "outputs": [
        {
          "output_type": "execute_result",
          "data": {
            "text/html": [
              "<div>\n",
              "<style scoped>\n",
              "    .dataframe tbody tr th:only-of-type {\n",
              "        vertical-align: middle;\n",
              "    }\n",
              "\n",
              "    .dataframe tbody tr th {\n",
              "        vertical-align: top;\n",
              "    }\n",
              "\n",
              "    .dataframe thead th {\n",
              "        text-align: right;\n",
              "    }\n",
              "</style>\n",
              "<table border=\"1\" class=\"dataframe\">\n",
              "  <thead>\n",
              "    <tr style=\"text-align: right;\">\n",
              "      <th></th>\n",
              "      <th>0</th>\n",
              "      <th>1</th>\n",
              "      <th>2</th>\n",
              "      <th>3</th>\n",
              "      <th>4</th>\n",
              "      <th>5</th>\n",
              "    </tr>\n",
              "  </thead>\n",
              "  <tbody>\n",
              "    <tr>\n",
              "      <th>0</th>\n",
              "      <td>Aonach Mor Gondola</td>\n",
              "      <td>2</td>\n",
              "      <td>2000</td>\n",
              "      <td>0.403611</td>\n",
              "      <td>0.518889</td>\n",
              "      <td>uphill</td>\n",
              "    </tr>\n",
              "    <tr>\n",
              "      <th>1</th>\n",
              "      <td>Broughton Brewery</td>\n",
              "      <td>2</td>\n",
              "      <td>650</td>\n",
              "      <td>0.254444</td>\n",
              "      <td>0.316667</td>\n",
              "      <td>other</td>\n",
              "    </tr>\n",
              "    <tr>\n",
              "      <th>2</th>\n",
              "      <td>El-Brim-Ick</td>\n",
              "      <td>3</td>\n",
              "      <td>750</td>\n",
              "      <td>0.485833</td>\n",
              "      <td>0.389167</td>\n",
              "      <td>other</td>\n",
              "    </tr>\n",
              "    <tr>\n",
              "      <th>3</th>\n",
              "      <td>The Devils Burdens</td>\n",
              "      <td>21</td>\n",
              "      <td>4100</td>\n",
              "      <td>2.39972</td>\n",
              "      <td>3.09333</td>\n",
              "      <td>relay</td>\n",
              "    </tr>\n",
              "    <tr>\n",
              "      <th>4</th>\n",
              "      <td>Tiso Carnethy</td>\n",
              "      <td>6</td>\n",
              "      <td>2500</td>\n",
              "      <td>0.782222</td>\n",
              "      <td>0.919167</td>\n",
              "      <td>hill</td>\n",
              "    </tr>\n",
              "    <tr>\n",
              "      <th>5</th>\n",
              "      <td>Criffel</td>\n",
              "      <td>7</td>\n",
              "      <td>1800</td>\n",
              "      <td>0.793333</td>\n",
              "      <td>1.00333</td>\n",
              "      <td>hill</td>\n",
              "    </tr>\n",
              "  </tbody>\n",
              "</table>\n",
              "</div>"
            ],
            "text/plain": [
              "                    0   1     2         3         4       5\n",
              "0  Aonach Mor Gondola   2  2000  0.403611  0.518889  uphill\n",
              "1   Broughton Brewery   2   650  0.254444  0.316667   other\n",
              "2         El-Brim-Ick   3   750  0.485833  0.389167   other\n",
              "3  The Devils Burdens  21  4100   2.39972   3.09333   relay\n",
              "4       Tiso Carnethy   6  2500  0.782222  0.919167    hill\n",
              "5             Criffel   7  1800  0.793333   1.00333    hill"
            ]
          },
          "metadata": {
            "tags": []
          },
          "execution_count": 3
        }
      ]
    },
    {
      "cell_type": "markdown",
      "metadata": {
        "id": "7h5xdNrCmHqk"
      },
      "source": [
        "### Задание 2\n",
        "\n",
        "Определить, сколько в датафрейме строк и столбцов. Привести код и указать ответ в виде текста или комментария к коду."
      ]
    },
    {
      "cell_type": "code",
      "metadata": {
        "id": "-eG0wlEMmHql",
        "outputId": "9d2d4e88-d5b7-452f-cfba-33f20ec43bad"
      },
      "source": [
        "dat.info\n",
        "# [77 rows x 6 columns]"
      ],
      "execution_count": null,
      "outputs": [
        {
          "output_type": "execute_result",
          "data": {
            "text/plain": [
              "<bound method DataFrame.info of                      0    1     2         3         4       5\n",
              "0   Aonach Mor Gondola    2  2000  0.403611  0.518889  uphill\n",
              "1    Broughton Brewery    2   650  0.254444  0.316667   other\n",
              "2          El-Brim-Ick    3   750  0.485833  0.389167   other\n",
              "3   The Devils Burdens   21  4100   2.39972   3.09333   relay\n",
              "4        Tiso Carnethy    6  2500  0.782222  0.919167    hill\n",
              "..                 ...  ...   ...       ...       ...     ...\n",
              "72               Tinto  4.5  1500  0.499444  0.581111    hill\n",
              "73          Druim Fada  6.5  1000  0.751111  0.972222   other\n",
              "74              Elrick  3.6   650  0.358056    0.4425   relay\n",
              "75             Gondola  2.5  2000  0.387222  0.518889  uphill\n",
              "76         Greenmantle    2   650  0.254444  0.316667   other\n",
              "\n",
              "[77 rows x 6 columns]>"
            ]
          },
          "metadata": {
            "tags": []
          },
          "execution_count": 5
        }
      ]
    },
    {
      "cell_type": "code",
      "metadata": {
        "id": "DmG11oIFmHql",
        "outputId": "b1bee141-54c7-4691-dcf3-dccc58ffb5f3"
      },
      "source": [
        "print(f'количество строк - {dat.shape[0]}, количество столбцов - {dat.shape[1]}')"
      ],
      "execution_count": null,
      "outputs": [
        {
          "output_type": "stream",
          "text": [
            "количество строк - 77, количество столбцов - 6\n"
          ],
          "name": "stdout"
        }
      ]
    },
    {
      "cell_type": "markdown",
      "metadata": {
        "id": "nwrspeUFmHqn"
      },
      "source": [
        "### Задание 3\n",
        "\n",
        "Присвоить столбцам следующие названия (указаны с пояснениями): \n",
        "\n",
        "* `id`: id участника\n",
        "* `dist`: расстояние в милях (по карте)\n",
        "* `climb`: высота, достигнутая на маршруте (в сумме за весь маршрут, в футах)\n",
        "* `time`: время (в часах)\n",
        "* `timef`: время для женщин (в часах)\n",
        "* `type`: тип гонки (*hill*, *marathon*, *relay*, *uphill* or *other*)"
      ]
    },
    {
      "cell_type": "code",
      "metadata": {
        "id": "FJ2fw2VRmHqn",
        "outputId": "d00d13d9-7b62-4021-c51a-202589adb6e5"
      },
      "source": [
        "dat.set_axis(['id','dist','climb', 'time', 'timef', 'type'], axis = 'columns', inplace = True)\n",
        "dat.head(10)"
      ],
      "execution_count": null,
      "outputs": [
        {
          "output_type": "execute_result",
          "data": {
            "text/html": [
              "<div>\n",
              "<style scoped>\n",
              "    .dataframe tbody tr th:only-of-type {\n",
              "        vertical-align: middle;\n",
              "    }\n",
              "\n",
              "    .dataframe tbody tr th {\n",
              "        vertical-align: top;\n",
              "    }\n",
              "\n",
              "    .dataframe thead th {\n",
              "        text-align: right;\n",
              "    }\n",
              "</style>\n",
              "<table border=\"1\" class=\"dataframe\">\n",
              "  <thead>\n",
              "    <tr style=\"text-align: right;\">\n",
              "      <th></th>\n",
              "      <th>id</th>\n",
              "      <th>dist</th>\n",
              "      <th>climb</th>\n",
              "      <th>time</th>\n",
              "      <th>timef</th>\n",
              "      <th>type</th>\n",
              "    </tr>\n",
              "  </thead>\n",
              "  <tbody>\n",
              "    <tr>\n",
              "      <th>0</th>\n",
              "      <td>Aonach Mor Gondola</td>\n",
              "      <td>2</td>\n",
              "      <td>2000</td>\n",
              "      <td>0.403611</td>\n",
              "      <td>0.518889</td>\n",
              "      <td>uphill</td>\n",
              "    </tr>\n",
              "    <tr>\n",
              "      <th>1</th>\n",
              "      <td>Broughton Brewery</td>\n",
              "      <td>2</td>\n",
              "      <td>650</td>\n",
              "      <td>0.254444</td>\n",
              "      <td>0.316667</td>\n",
              "      <td>other</td>\n",
              "    </tr>\n",
              "    <tr>\n",
              "      <th>2</th>\n",
              "      <td>El-Brim-Ick</td>\n",
              "      <td>3</td>\n",
              "      <td>750</td>\n",
              "      <td>0.485833</td>\n",
              "      <td>0.389167</td>\n",
              "      <td>other</td>\n",
              "    </tr>\n",
              "    <tr>\n",
              "      <th>3</th>\n",
              "      <td>The Devils Burdens</td>\n",
              "      <td>21</td>\n",
              "      <td>4100</td>\n",
              "      <td>2.39972</td>\n",
              "      <td>3.09333</td>\n",
              "      <td>relay</td>\n",
              "    </tr>\n",
              "    <tr>\n",
              "      <th>4</th>\n",
              "      <td>Tiso Carnethy</td>\n",
              "      <td>6</td>\n",
              "      <td>2500</td>\n",
              "      <td>0.782222</td>\n",
              "      <td>0.919167</td>\n",
              "      <td>hill</td>\n",
              "    </tr>\n",
              "    <tr>\n",
              "      <th>5</th>\n",
              "      <td>Criffel</td>\n",
              "      <td>7</td>\n",
              "      <td>1800</td>\n",
              "      <td>0.793333</td>\n",
              "      <td>1.00333</td>\n",
              "      <td>hill</td>\n",
              "    </tr>\n",
              "    <tr>\n",
              "      <th>6</th>\n",
              "      <td>Chapelgill</td>\n",
              "      <td>1.5</td>\n",
              "      <td>1400</td>\n",
              "      <td>0.314444</td>\n",
              "      <td>0.376667</td>\n",
              "      <td>hill</td>\n",
              "    </tr>\n",
              "    <tr>\n",
              "      <th>7</th>\n",
              "      <td>Norman's Law</td>\n",
              "      <td>5</td>\n",
              "      <td>700</td>\n",
              "      <td>0.464167</td>\n",
              "      <td>0.609167</td>\n",
              "      <td>hill</td>\n",
              "    </tr>\n",
              "    <tr>\n",
              "      <th>8</th>\n",
              "      <td>Craig Dunain</td>\n",
              "      <td>6</td>\n",
              "      <td>900</td>\n",
              "      <td>0.546111</td>\n",
              "      <td>0.625833</td>\n",
              "      <td>hill</td>\n",
              "    </tr>\n",
              "    <tr>\n",
              "      <th>9</th>\n",
              "      <td>Knockfarrel</td>\n",
              "      <td>5</td>\n",
              "      <td>1200</td>\n",
              "      <td>0.623333</td>\n",
              "      <td>0.734167</td>\n",
              "      <td>hill</td>\n",
              "    </tr>\n",
              "  </tbody>\n",
              "</table>\n",
              "</div>"
            ],
            "text/plain": [
              "                   id dist climb      time     timef    type\n",
              "0  Aonach Mor Gondola    2  2000  0.403611  0.518889  uphill\n",
              "1   Broughton Brewery    2   650  0.254444  0.316667   other\n",
              "2         El-Brim-Ick    3   750  0.485833  0.389167   other\n",
              "3  The Devils Burdens   21  4100   2.39972   3.09333   relay\n",
              "4       Tiso Carnethy    6  2500  0.782222  0.919167    hill\n",
              "5             Criffel    7  1800  0.793333   1.00333    hill\n",
              "6          Chapelgill  1.5  1400  0.314444  0.376667    hill\n",
              "7        Norman's Law    5   700  0.464167  0.609167    hill\n",
              "8        Craig Dunain    6   900  0.546111  0.625833    hill\n",
              "9         Knockfarrel    5  1200  0.623333  0.734167    hill"
            ]
          },
          "metadata": {
            "tags": []
          },
          "execution_count": 7
        }
      ]
    },
    {
      "cell_type": "markdown",
      "metadata": {
        "id": "HExSauZomHqo"
      },
      "source": [
        "### Задание 4\n",
        "\n",
        "Вывести на экран значение высоты, достигнутой на маршруте участником *Norman's Law*."
      ]
    },
    {
      "cell_type": "code",
      "metadata": {
        "id": "WQAwJk6FmHqo",
        "outputId": "0fc266b3-ecfd-4375-f838-f4a1b1e1a7f9"
      },
      "source": [
        "print(dat.iloc[7, 2])"
      ],
      "execution_count": null,
      "outputs": [
        {
          "output_type": "stream",
          "text": [
            "700\n"
          ],
          "name": "stdout"
        }
      ]
    },
    {
      "cell_type": "markdown",
      "metadata": {
        "id": "LfakDwsQmHqp"
      },
      "source": [
        "### Задание 5\n",
        "Вывести на экран значения показателей `dist`, `climb` , `time` для первых 10 участников."
      ]
    },
    {
      "cell_type": "code",
      "metadata": {
        "id": "bgQy0o0lmHqp",
        "outputId": "f0a5e608-29fe-4bcd-f968-6189624d46f6"
      },
      "source": [
        "dat[['dist', 'climb', 'time']][:10] # без сортировки\n",
        "# dat.sort_values('climb', ascending=False, inplace=True)\n",
        "# dat[['dist', 'climb', 'time']][:10] # после сортировки от большего к меньшему"
      ],
      "execution_count": null,
      "outputs": [
        {
          "output_type": "execute_result",
          "data": {
            "text/html": [
              "<div>\n",
              "<style scoped>\n",
              "    .dataframe tbody tr th:only-of-type {\n",
              "        vertical-align: middle;\n",
              "    }\n",
              "\n",
              "    .dataframe tbody tr th {\n",
              "        vertical-align: top;\n",
              "    }\n",
              "\n",
              "    .dataframe thead th {\n",
              "        text-align: right;\n",
              "    }\n",
              "</style>\n",
              "<table border=\"1\" class=\"dataframe\">\n",
              "  <thead>\n",
              "    <tr style=\"text-align: right;\">\n",
              "      <th></th>\n",
              "      <th>dist</th>\n",
              "      <th>climb</th>\n",
              "      <th>time</th>\n",
              "    </tr>\n",
              "  </thead>\n",
              "  <tbody>\n",
              "    <tr>\n",
              "      <th>0</th>\n",
              "      <td>2</td>\n",
              "      <td>2000</td>\n",
              "      <td>0.403611</td>\n",
              "    </tr>\n",
              "    <tr>\n",
              "      <th>1</th>\n",
              "      <td>2</td>\n",
              "      <td>650</td>\n",
              "      <td>0.254444</td>\n",
              "    </tr>\n",
              "    <tr>\n",
              "      <th>2</th>\n",
              "      <td>3</td>\n",
              "      <td>750</td>\n",
              "      <td>0.485833</td>\n",
              "    </tr>\n",
              "    <tr>\n",
              "      <th>3</th>\n",
              "      <td>21</td>\n",
              "      <td>4100</td>\n",
              "      <td>2.39972</td>\n",
              "    </tr>\n",
              "    <tr>\n",
              "      <th>4</th>\n",
              "      <td>6</td>\n",
              "      <td>2500</td>\n",
              "      <td>0.782222</td>\n",
              "    </tr>\n",
              "    <tr>\n",
              "      <th>5</th>\n",
              "      <td>7</td>\n",
              "      <td>1800</td>\n",
              "      <td>0.793333</td>\n",
              "    </tr>\n",
              "    <tr>\n",
              "      <th>6</th>\n",
              "      <td>1.5</td>\n",
              "      <td>1400</td>\n",
              "      <td>0.314444</td>\n",
              "    </tr>\n",
              "    <tr>\n",
              "      <th>7</th>\n",
              "      <td>5</td>\n",
              "      <td>700</td>\n",
              "      <td>0.464167</td>\n",
              "    </tr>\n",
              "    <tr>\n",
              "      <th>8</th>\n",
              "      <td>6</td>\n",
              "      <td>900</td>\n",
              "      <td>0.546111</td>\n",
              "    </tr>\n",
              "    <tr>\n",
              "      <th>9</th>\n",
              "      <td>5</td>\n",
              "      <td>1200</td>\n",
              "      <td>0.623333</td>\n",
              "    </tr>\n",
              "  </tbody>\n",
              "</table>\n",
              "</div>"
            ],
            "text/plain": [
              "  dist climb      time\n",
              "0    2  2000  0.403611\n",
              "1    2   650  0.254444\n",
              "2    3   750  0.485833\n",
              "3   21  4100   2.39972\n",
              "4    6  2500  0.782222\n",
              "5    7  1800  0.793333\n",
              "6  1.5  1400  0.314444\n",
              "7    5   700  0.464167\n",
              "8    6   900  0.546111\n",
              "9    5  1200  0.623333"
            ]
          },
          "metadata": {
            "tags": []
          },
          "execution_count": 9
        }
      ]
    },
    {
      "cell_type": "markdown",
      "metadata": {
        "id": "MtRm7vndmHqp"
      },
      "source": [
        "### Задание 6\n",
        "\n",
        "Вывести на экран сводную информацию по датафрейму, которая включает типы всех столбцов. Сколько столбцов типа `float` в датафрейме? Привести ответ на вопрос в виде текста или комментария к коду."
      ]
    },
    {
      "cell_type": "code",
      "metadata": {
        "id": "QMQI-aPGmHqq",
        "outputId": "bc584387-5a21-44a7-e337-2f920bc0bfe9"
      },
      "source": [
        "dat.info()\n",
        "# все столбцы в датафрейме - объекты"
      ],
      "execution_count": null,
      "outputs": [
        {
          "output_type": "stream",
          "text": [
            "<class 'pandas.core.frame.DataFrame'>\n",
            "RangeIndex: 77 entries, 0 to 76\n",
            "Data columns (total 6 columns):\n",
            " #   Column  Non-Null Count  Dtype \n",
            "---  ------  --------------  ----- \n",
            " 0   id      77 non-null     object\n",
            " 1   dist    77 non-null     object\n",
            " 2   climb   77 non-null     object\n",
            " 3   time    77 non-null     object\n",
            " 4   timef   75 non-null     object\n",
            " 5   type    77 non-null     object\n",
            "dtypes: object(6)\n",
            "memory usage: 3.7+ KB\n"
          ],
          "name": "stdout"
        }
      ]
    },
    {
      "cell_type": "code",
      "metadata": {
        "id": "ZqX7Y5QVmHqq",
        "outputId": "2b1a7966-c2a6-4401-f00c-ef659550b15c"
      },
      "source": [
        "dat.dtypes"
      ],
      "execution_count": null,
      "outputs": [
        {
          "output_type": "execute_result",
          "data": {
            "text/plain": [
              "id       object\n",
              "dist     object\n",
              "climb    object\n",
              "time     object\n",
              "timef    object\n",
              "type     object\n",
              "dtype: object"
            ]
          },
          "metadata": {
            "tags": []
          },
          "execution_count": 11
        }
      ]
    },
    {
      "cell_type": "markdown",
      "metadata": {
        "id": "7dH4TtAhmHqq"
      },
      "source": [
        "### Задание 7\n",
        "\n",
        "Выбрать строки, которые соответствуют участникам эстафеты (*relay*)."
      ]
    },
    {
      "cell_type": "code",
      "metadata": {
        "id": "oCFdpfRomHqr",
        "outputId": "1e5fd206-a219-4df6-9159-23a541c0b102"
      },
      "source": [
        "dat.loc[dat['type'] == 'relay']"
      ],
      "execution_count": null,
      "outputs": [
        {
          "output_type": "execute_result",
          "data": {
            "text/html": [
              "<div>\n",
              "<style scoped>\n",
              "    .dataframe tbody tr th:only-of-type {\n",
              "        vertical-align: middle;\n",
              "    }\n",
              "\n",
              "    .dataframe tbody tr th {\n",
              "        vertical-align: top;\n",
              "    }\n",
              "\n",
              "    .dataframe thead th {\n",
              "        text-align: right;\n",
              "    }\n",
              "</style>\n",
              "<table border=\"1\" class=\"dataframe\">\n",
              "  <thead>\n",
              "    <tr style=\"text-align: right;\">\n",
              "      <th></th>\n",
              "      <th>id</th>\n",
              "      <th>dist</th>\n",
              "      <th>climb</th>\n",
              "      <th>time</th>\n",
              "      <th>timef</th>\n",
              "      <th>type</th>\n",
              "    </tr>\n",
              "  </thead>\n",
              "  <tbody>\n",
              "    <tr>\n",
              "      <th>3</th>\n",
              "      <td>The Devils Burdens</td>\n",
              "      <td>21</td>\n",
              "      <td>4100</td>\n",
              "      <td>2.39972</td>\n",
              "      <td>3.09333</td>\n",
              "      <td>relay</td>\n",
              "    </tr>\n",
              "    <tr>\n",
              "      <th>16</th>\n",
              "      <td>Ben Rha</td>\n",
              "      <td>7.5</td>\n",
              "      <td>800</td>\n",
              "      <td>0.738056</td>\n",
              "      <td>0.997222</td>\n",
              "      <td>relay</td>\n",
              "    </tr>\n",
              "    <tr>\n",
              "      <th>74</th>\n",
              "      <td>Elrick</td>\n",
              "      <td>3.6</td>\n",
              "      <td>650</td>\n",
              "      <td>0.358056</td>\n",
              "      <td>0.4425</td>\n",
              "      <td>relay</td>\n",
              "    </tr>\n",
              "  </tbody>\n",
              "</table>\n",
              "</div>"
            ],
            "text/plain": [
              "                    id dist climb      time     timef   type\n",
              "3   The Devils Burdens   21  4100   2.39972   3.09333  relay\n",
              "16             Ben Rha  7.5   800  0.738056  0.997222  relay\n",
              "74              Elrick  3.6   650  0.358056    0.4425  relay"
            ]
          },
          "metadata": {
            "tags": []
          },
          "execution_count": 12
        }
      ]
    },
    {
      "cell_type": "markdown",
      "metadata": {
        "id": "nLrWGu4HmHqr"
      },
      "source": [
        "### Задание 8\n",
        "\n",
        "Выбрать строки, которые соответствуют участникам гонки в холмах (*hill*), которые в сумме достигли высоты более 1000 футов. Посчитать, сколько таких участников."
      ]
    },
    {
      "cell_type": "code",
      "metadata": {
        "id": "v4D5D-e3mHqr",
        "outputId": "df16e4c3-5560-4592-e6ef-c272b7eae60e"
      },
      "source": [
        "members_over_1000 = dat.loc[(dat['type'] == 'hill') & (dat['climb'] > 1000)]\n",
        "members_over_1000"
      ],
      "execution_count": null,
      "outputs": [
        {
          "output_type": "execute_result",
          "data": {
            "text/html": [
              "<div>\n",
              "<style scoped>\n",
              "    .dataframe tbody tr th:only-of-type {\n",
              "        vertical-align: middle;\n",
              "    }\n",
              "\n",
              "    .dataframe tbody tr th {\n",
              "        vertical-align: top;\n",
              "    }\n",
              "\n",
              "    .dataframe thead th {\n",
              "        text-align: right;\n",
              "    }\n",
              "</style>\n",
              "<table border=\"1\" class=\"dataframe\">\n",
              "  <thead>\n",
              "    <tr style=\"text-align: right;\">\n",
              "      <th></th>\n",
              "      <th>id</th>\n",
              "      <th>dist</th>\n",
              "      <th>climb</th>\n",
              "      <th>time</th>\n",
              "      <th>timef</th>\n",
              "      <th>type</th>\n",
              "    </tr>\n",
              "  </thead>\n",
              "  <tbody>\n",
              "    <tr>\n",
              "      <th>4</th>\n",
              "      <td>Tiso Carnethy</td>\n",
              "      <td>6</td>\n",
              "      <td>2500</td>\n",
              "      <td>0.782222</td>\n",
              "      <td>0.919167</td>\n",
              "      <td>hill</td>\n",
              "    </tr>\n",
              "    <tr>\n",
              "      <th>5</th>\n",
              "      <td>Criffel</td>\n",
              "      <td>7</td>\n",
              "      <td>1800</td>\n",
              "      <td>0.793333</td>\n",
              "      <td>1.00333</td>\n",
              "      <td>hill</td>\n",
              "    </tr>\n",
              "    <tr>\n",
              "      <th>6</th>\n",
              "      <td>Chapelgill</td>\n",
              "      <td>1.5</td>\n",
              "      <td>1400</td>\n",
              "      <td>0.314444</td>\n",
              "      <td>0.376667</td>\n",
              "      <td>hill</td>\n",
              "    </tr>\n",
              "    <tr>\n",
              "      <th>9</th>\n",
              "      <td>Knockfarrel</td>\n",
              "      <td>5</td>\n",
              "      <td>1200</td>\n",
              "      <td>0.623333</td>\n",
              "      <td>0.734167</td>\n",
              "      <td>hill</td>\n",
              "    </tr>\n",
              "    <tr>\n",
              "      <th>10</th>\n",
              "      <td>Screel</td>\n",
              "      <td>4</td>\n",
              "      <td>1300</td>\n",
              "      <td>0.458889</td>\n",
              "      <td>0.543611</td>\n",
              "      <td>hill</td>\n",
              "    </tr>\n",
              "    <tr>\n",
              "      <th>11</th>\n",
              "      <td>O.P.S. Clachnaben</td>\n",
              "      <td>10.5</td>\n",
              "      <td>3500</td>\n",
              "      <td>1.27889</td>\n",
              "      <td>1.48778</td>\n",
              "      <td>hill</td>\n",
              "    </tr>\n",
              "    <tr>\n",
              "      <th>17</th>\n",
              "      <td>Stuc A'Chroin</td>\n",
              "      <td>14</td>\n",
              "      <td>5000</td>\n",
              "      <td>1.98333</td>\n",
              "      <td>2.39889</td>\n",
              "      <td>hill</td>\n",
              "    </tr>\n",
              "    <tr>\n",
              "      <th>18</th>\n",
              "      <td>29th Dumyat</td>\n",
              "      <td>5</td>\n",
              "      <td>1250</td>\n",
              "      <td>0.552778</td>\n",
              "      <td>0.637778</td>\n",
              "      <td>hill</td>\n",
              "    </tr>\n",
              "    <tr>\n",
              "      <th>19</th>\n",
              "      <td>Ben Lomond</td>\n",
              "      <td>9</td>\n",
              "      <td>3192</td>\n",
              "      <td>1.03778</td>\n",
              "      <td>1.19917</td>\n",
              "      <td>hill</td>\n",
              "    </tr>\n",
              "    <tr>\n",
              "      <th>21</th>\n",
              "      <td>Goatfell</td>\n",
              "      <td>8</td>\n",
              "      <td>2866</td>\n",
              "      <td>1.22778</td>\n",
              "      <td>1.52639</td>\n",
              "      <td>hill</td>\n",
              "    </tr>\n",
              "    <tr>\n",
              "      <th>22</th>\n",
              "      <td>Scottish Nuclear Kaim</td>\n",
              "      <td>3.5</td>\n",
              "      <td>1250</td>\n",
              "      <td>0.431111</td>\n",
              "      <td>0.54</td>\n",
              "      <td>hill</td>\n",
              "    </tr>\n",
              "    <tr>\n",
              "      <th>28</th>\n",
              "      <td>12 Trig Trog</td>\n",
              "      <td>46</td>\n",
              "      <td>7500</td>\n",
              "      <td>8.30694</td>\n",
              "      <td>13.5478</td>\n",
              "      <td>hill</td>\n",
              "    </tr>\n",
              "    <tr>\n",
              "      <th>29</th>\n",
              "      <td>Kilpatricks</td>\n",
              "      <td>6</td>\n",
              "      <td>1400</td>\n",
              "      <td>0.739722</td>\n",
              "      <td>0.874167</td>\n",
              "      <td>hill</td>\n",
              "    </tr>\n",
              "    <tr>\n",
              "      <th>32</th>\n",
              "      <td>Yetholm</td>\n",
              "      <td>8</td>\n",
              "      <td>2500</td>\n",
              "      <td>1.19306</td>\n",
              "      <td>1.45111</td>\n",
              "      <td>hill</td>\n",
              "    </tr>\n",
              "    <tr>\n",
              "      <th>33</th>\n",
              "      <td>Ben Sheann</td>\n",
              "      <td>2.5</td>\n",
              "      <td>1400</td>\n",
              "      <td>0.381667</td>\n",
              "      <td>0.484722</td>\n",
              "      <td>hill</td>\n",
              "    </tr>\n",
              "    <tr>\n",
              "      <th>34</th>\n",
              "      <td>Glen Rosa</td>\n",
              "      <td>13</td>\n",
              "      <td>5500</td>\n",
              "      <td>2.22028</td>\n",
              "      <td>2.70472</td>\n",
              "      <td>hill</td>\n",
              "    </tr>\n",
              "    <tr>\n",
              "      <th>37</th>\n",
              "      <td>Scottish Borders</td>\n",
              "      <td>10</td>\n",
              "      <td>2000</td>\n",
              "      <td>1.19806</td>\n",
              "      <td>1.44972</td>\n",
              "      <td>hill</td>\n",
              "    </tr>\n",
              "    <tr>\n",
              "      <th>40</th>\n",
              "      <td>Cort-ma</td>\n",
              "      <td>6</td>\n",
              "      <td>1500</td>\n",
              "      <td>0.742222</td>\n",
              "      <td>0.870278</td>\n",
              "      <td>hill</td>\n",
              "    </tr>\n",
              "    <tr>\n",
              "      <th>42</th>\n",
              "      <td>Dollar</td>\n",
              "      <td>6</td>\n",
              "      <td>2000</td>\n",
              "      <td>0.638333</td>\n",
              "      <td>0.773611</td>\n",
              "      <td>hill</td>\n",
              "    </tr>\n",
              "    <tr>\n",
              "      <th>43</th>\n",
              "      <td>Ben Tee</td>\n",
              "      <td>9</td>\n",
              "      <td>2950</td>\n",
              "      <td>1.32778</td>\n",
              "      <td>1.78278</td>\n",
              "      <td>hill</td>\n",
              "    </tr>\n",
              "    <tr>\n",
              "      <th>45</th>\n",
              "      <td>Glamaig</td>\n",
              "      <td>4.5</td>\n",
              "      <td>2400</td>\n",
              "      <td>0.744722</td>\n",
              "      <td>0.936111</td>\n",
              "      <td>hill</td>\n",
              "    </tr>\n",
              "    <tr>\n",
              "      <th>46</th>\n",
              "      <td>Urie Loch</td>\n",
              "      <td>6</td>\n",
              "      <td>1400</td>\n",
              "      <td>0.773889</td>\n",
              "      <td>1.015</td>\n",
              "      <td>hill</td>\n",
              "    </tr>\n",
              "    <tr>\n",
              "      <th>48</th>\n",
              "      <td>Meall Ant-Suidhe</td>\n",
              "      <td>3.5</td>\n",
              "      <td>1500</td>\n",
              "      <td>0.465</td>\n",
              "      <td>0.609722</td>\n",
              "      <td>hill</td>\n",
              "    </tr>\n",
              "    <tr>\n",
              "      <th>52</th>\n",
              "      <td>Mash Hill</td>\n",
              "      <td>6</td>\n",
              "      <td>2500</td>\n",
              "      <td>0.794167</td>\n",
              "      <td>1.05194</td>\n",
              "      <td>hill</td>\n",
              "    </tr>\n",
              "    <tr>\n",
              "      <th>53</th>\n",
              "      <td>Ben Rhinnes</td>\n",
              "      <td>14</td>\n",
              "      <td>4900</td>\n",
              "      <td>1.97611</td>\n",
              "      <td>2.35583</td>\n",
              "      <td>hill</td>\n",
              "    </tr>\n",
              "    <tr>\n",
              "      <th>55</th>\n",
              "      <td>Creag Dubh</td>\n",
              "      <td>3</td>\n",
              "      <td>1223</td>\n",
              "      <td>0.463889</td>\n",
              "      <td>0.601667</td>\n",
              "      <td>hill</td>\n",
              "    </tr>\n",
              "    <tr>\n",
              "      <th>56</th>\n",
              "      <td>Glen Clova</td>\n",
              "      <td>15</td>\n",
              "      <td>5500</td>\n",
              "      <td>2.56722</td>\n",
              "      <td>2.96222</td>\n",
              "      <td>hill</td>\n",
              "    </tr>\n",
              "    <tr>\n",
              "      <th>59</th>\n",
              "      <td>Tap O'North</td>\n",
              "      <td>6</td>\n",
              "      <td>1220</td>\n",
              "      <td>0.665833</td>\n",
              "      <td>0.817778</td>\n",
              "      <td>hill</td>\n",
              "    </tr>\n",
              "    <tr>\n",
              "      <th>60</th>\n",
              "      <td>Lomonds</td>\n",
              "      <td>9</td>\n",
              "      <td>2200</td>\n",
              "      <td>1.05306</td>\n",
              "      <td>1.29389</td>\n",
              "      <td>hill</td>\n",
              "    </tr>\n",
              "    <tr>\n",
              "      <th>62</th>\n",
              "      <td>Ben Nevis</td>\n",
              "      <td>10</td>\n",
              "      <td>4400</td>\n",
              "      <td>1.42611</td>\n",
              "      <td>1.72361</td>\n",
              "      <td>hill</td>\n",
              "    </tr>\n",
              "    <tr>\n",
              "      <th>64</th>\n",
              "      <td>Moffat Beef Tub</td>\n",
              "      <td>2</td>\n",
              "      <td>1500</td>\n",
              "      <td>0.332222</td>\n",
              "      <td>0.436944</td>\n",
              "      <td>hill</td>\n",
              "    </tr>\n",
              "    <tr>\n",
              "      <th>65</th>\n",
              "      <td>Cairn William</td>\n",
              "      <td>6</td>\n",
              "      <td>1400</td>\n",
              "      <td>0.704444</td>\n",
              "      <td>0.809722</td>\n",
              "      <td>hill</td>\n",
              "    </tr>\n",
              "    <tr>\n",
              "      <th>66</th>\n",
              "      <td>Corrieyairick</td>\n",
              "      <td>16</td>\n",
              "      <td>2250</td>\n",
              "      <td>1.66472</td>\n",
              "      <td>1.96333</td>\n",
              "      <td>hill</td>\n",
              "    </tr>\n",
              "    <tr>\n",
              "      <th>67</th>\n",
              "      <td>Morven</td>\n",
              "      <td>5</td>\n",
              "      <td>1700</td>\n",
              "      <td>0.609167</td>\n",
              "      <td>0.785833</td>\n",
              "      <td>hill</td>\n",
              "    </tr>\n",
              "    <tr>\n",
              "      <th>68</th>\n",
              "      <td>Merrick</td>\n",
              "      <td>8</td>\n",
              "      <td>2710</td>\n",
              "      <td>1.13333</td>\n",
              "      <td>1.39472</td>\n",
              "      <td>hill</td>\n",
              "    </tr>\n",
              "    <tr>\n",
              "      <th>69</th>\n",
              "      <td>Two Breweries</td>\n",
              "      <td>18</td>\n",
              "      <td>4900</td>\n",
              "      <td>2.56583</td>\n",
              "      <td>3.08833</td>\n",
              "      <td>hill</td>\n",
              "    </tr>\n",
              "    <tr>\n",
              "      <th>70</th>\n",
              "      <td>Manor Water</td>\n",
              "      <td>10</td>\n",
              "      <td>2300</td>\n",
              "      <td>1.18444</td>\n",
              "      <td>1.4975</td>\n",
              "      <td>hill</td>\n",
              "    </tr>\n",
              "    <tr>\n",
              "      <th>71</th>\n",
              "      <td>Pentland</td>\n",
              "      <td>16</td>\n",
              "      <td>6200</td>\n",
              "      <td>2.37778</td>\n",
              "      <td>2.785</td>\n",
              "      <td>hill</td>\n",
              "    </tr>\n",
              "    <tr>\n",
              "      <th>72</th>\n",
              "      <td>Tinto</td>\n",
              "      <td>4.5</td>\n",
              "      <td>1500</td>\n",
              "      <td>0.499444</td>\n",
              "      <td>0.581111</td>\n",
              "      <td>hill</td>\n",
              "    </tr>\n",
              "  </tbody>\n",
              "</table>\n",
              "</div>"
            ],
            "text/plain": [
              "                       id  dist climb      time     timef  type\n",
              "4           Tiso Carnethy     6  2500  0.782222  0.919167  hill\n",
              "5                 Criffel     7  1800  0.793333   1.00333  hill\n",
              "6              Chapelgill   1.5  1400  0.314444  0.376667  hill\n",
              "9             Knockfarrel     5  1200  0.623333  0.734167  hill\n",
              "10                 Screel     4  1300  0.458889  0.543611  hill\n",
              "11      O.P.S. Clachnaben  10.5  3500   1.27889   1.48778  hill\n",
              "17          Stuc A'Chroin    14  5000   1.98333   2.39889  hill\n",
              "18            29th Dumyat     5  1250  0.552778  0.637778  hill\n",
              "19             Ben Lomond     9  3192   1.03778   1.19917  hill\n",
              "21               Goatfell     8  2866   1.22778   1.52639  hill\n",
              "22  Scottish Nuclear Kaim   3.5  1250  0.431111      0.54  hill\n",
              "28           12 Trig Trog    46  7500   8.30694   13.5478  hill\n",
              "29            Kilpatricks     6  1400  0.739722  0.874167  hill\n",
              "32                Yetholm     8  2500   1.19306   1.45111  hill\n",
              "33             Ben Sheann   2.5  1400  0.381667  0.484722  hill\n",
              "34              Glen Rosa    13  5500   2.22028   2.70472  hill\n",
              "37       Scottish Borders    10  2000   1.19806   1.44972  hill\n",
              "40                Cort-ma     6  1500  0.742222  0.870278  hill\n",
              "42                 Dollar     6  2000  0.638333  0.773611  hill\n",
              "43                Ben Tee     9  2950   1.32778   1.78278  hill\n",
              "45                Glamaig   4.5  2400  0.744722  0.936111  hill\n",
              "46              Urie Loch     6  1400  0.773889     1.015  hill\n",
              "48       Meall Ant-Suidhe   3.5  1500     0.465  0.609722  hill\n",
              "52              Mash Hill     6  2500  0.794167   1.05194  hill\n",
              "53            Ben Rhinnes    14  4900   1.97611   2.35583  hill\n",
              "55             Creag Dubh     3  1223  0.463889  0.601667  hill\n",
              "56             Glen Clova    15  5500   2.56722   2.96222  hill\n",
              "59            Tap O'North     6  1220  0.665833  0.817778  hill\n",
              "60                Lomonds     9  2200   1.05306   1.29389  hill\n",
              "62              Ben Nevis    10  4400   1.42611   1.72361  hill\n",
              "64        Moffat Beef Tub     2  1500  0.332222  0.436944  hill\n",
              "65          Cairn William     6  1400  0.704444  0.809722  hill\n",
              "66          Corrieyairick    16  2250   1.66472   1.96333  hill\n",
              "67                 Morven     5  1700  0.609167  0.785833  hill\n",
              "68                Merrick     8  2710   1.13333   1.39472  hill\n",
              "69          Two Breweries    18  4900   2.56583   3.08833  hill\n",
              "70            Manor Water    10  2300   1.18444    1.4975  hill\n",
              "71               Pentland    16  6200   2.37778     2.785  hill\n",
              "72                  Tinto   4.5  1500  0.499444  0.581111  hill"
            ]
          },
          "metadata": {
            "tags": []
          },
          "execution_count": 13
        }
      ]
    },
    {
      "cell_type": "code",
      "metadata": {
        "id": "vHeOLWoimHqs",
        "outputId": "d0304abd-e01c-4ff3-b03d-fb01637ac67b"
      },
      "source": [
        "print(f' Участники с условием: {members_over_1000.climb.count()}')"
      ],
      "execution_count": null,
      "outputs": [
        {
          "output_type": "stream",
          "text": [
            " Участники с условием: 39\n"
          ],
          "name": "stdout"
        }
      ]
    },
    {
      "cell_type": "markdown",
      "metadata": {
        "id": "mxXApLgdmHqs"
      },
      "source": [
        "### Задание 9\n",
        "\n",
        "Выбрать строки, соответствующие участникам, которые либо достигли высоты более 4000 футов, либо потратили менее 0.5 часов."
      ]
    },
    {
      "cell_type": "code",
      "metadata": {
        "id": "gH44x9MCmHqs",
        "outputId": "41edcf50-12a6-42e2-a6b0-a26be4eb6992"
      },
      "source": [
        "dat.loc[(dat['time'] < 0.5) | (dat['climb'] > 4000)]"
      ],
      "execution_count": null,
      "outputs": [
        {
          "output_type": "execute_result",
          "data": {
            "text/html": [
              "<div>\n",
              "<style scoped>\n",
              "    .dataframe tbody tr th:only-of-type {\n",
              "        vertical-align: middle;\n",
              "    }\n",
              "\n",
              "    .dataframe tbody tr th {\n",
              "        vertical-align: top;\n",
              "    }\n",
              "\n",
              "    .dataframe thead th {\n",
              "        text-align: right;\n",
              "    }\n",
              "</style>\n",
              "<table border=\"1\" class=\"dataframe\">\n",
              "  <thead>\n",
              "    <tr style=\"text-align: right;\">\n",
              "      <th></th>\n",
              "      <th>id</th>\n",
              "      <th>dist</th>\n",
              "      <th>climb</th>\n",
              "      <th>time</th>\n",
              "      <th>timef</th>\n",
              "      <th>type</th>\n",
              "    </tr>\n",
              "  </thead>\n",
              "  <tbody>\n",
              "    <tr>\n",
              "      <th>0</th>\n",
              "      <td>Aonach Mor Gondola</td>\n",
              "      <td>2</td>\n",
              "      <td>2000</td>\n",
              "      <td>0.403611</td>\n",
              "      <td>0.518889</td>\n",
              "      <td>uphill</td>\n",
              "    </tr>\n",
              "    <tr>\n",
              "      <th>1</th>\n",
              "      <td>Broughton Brewery</td>\n",
              "      <td>2</td>\n",
              "      <td>650</td>\n",
              "      <td>0.254444</td>\n",
              "      <td>0.316667</td>\n",
              "      <td>other</td>\n",
              "    </tr>\n",
              "    <tr>\n",
              "      <th>2</th>\n",
              "      <td>El-Brim-Ick</td>\n",
              "      <td>3</td>\n",
              "      <td>750</td>\n",
              "      <td>0.485833</td>\n",
              "      <td>0.389167</td>\n",
              "      <td>other</td>\n",
              "    </tr>\n",
              "    <tr>\n",
              "      <th>3</th>\n",
              "      <td>The Devils Burdens</td>\n",
              "      <td>21</td>\n",
              "      <td>4100</td>\n",
              "      <td>2.39972</td>\n",
              "      <td>3.09333</td>\n",
              "      <td>relay</td>\n",
              "    </tr>\n",
              "    <tr>\n",
              "      <th>6</th>\n",
              "      <td>Chapelgill</td>\n",
              "      <td>1.5</td>\n",
              "      <td>1400</td>\n",
              "      <td>0.314444</td>\n",
              "      <td>0.376667</td>\n",
              "      <td>hill</td>\n",
              "    </tr>\n",
              "    <tr>\n",
              "      <th>7</th>\n",
              "      <td>Norman's Law</td>\n",
              "      <td>5</td>\n",
              "      <td>700</td>\n",
              "      <td>0.464167</td>\n",
              "      <td>0.609167</td>\n",
              "      <td>hill</td>\n",
              "    </tr>\n",
              "    <tr>\n",
              "      <th>10</th>\n",
              "      <td>Screel</td>\n",
              "      <td>4</td>\n",
              "      <td>1300</td>\n",
              "      <td>0.458889</td>\n",
              "      <td>0.543611</td>\n",
              "      <td>hill</td>\n",
              "    </tr>\n",
              "    <tr>\n",
              "      <th>12</th>\n",
              "      <td>Hunters Bog</td>\n",
              "      <td>4.5</td>\n",
              "      <td>800</td>\n",
              "      <td>0.409444</td>\n",
              "      <td>0.477778</td>\n",
              "      <td>other</td>\n",
              "    </tr>\n",
              "    <tr>\n",
              "      <th>13</th>\n",
              "      <td>Aberfoyle Dash</td>\n",
              "      <td>3</td>\n",
              "      <td>1000</td>\n",
              "      <td>0.3375</td>\n",
              "      <td>0.381389</td>\n",
              "      <td>uphill</td>\n",
              "    </tr>\n",
              "    <tr>\n",
              "      <th>14</th>\n",
              "      <td>Manx Mountain</td>\n",
              "      <td>30.5</td>\n",
              "      <td>8000</td>\n",
              "      <td>4.46972</td>\n",
              "      <td>5.52333</td>\n",
              "      <td>marathon</td>\n",
              "    </tr>\n",
              "    <tr>\n",
              "      <th>15</th>\n",
              "      <td>Whangie Whizz</td>\n",
              "      <td>3.5</td>\n",
              "      <td>800</td>\n",
              "      <td>0.395556</td>\n",
              "      <td>0.464167</td>\n",
              "      <td>hill</td>\n",
              "    </tr>\n",
              "    <tr>\n",
              "      <th>17</th>\n",
              "      <td>Stuc A'Chroin</td>\n",
              "      <td>14</td>\n",
              "      <td>5000</td>\n",
              "      <td>1.98333</td>\n",
              "      <td>2.39889</td>\n",
              "      <td>hill</td>\n",
              "    </tr>\n",
              "    <tr>\n",
              "      <th>20</th>\n",
              "      <td>Kinnoull</td>\n",
              "      <td>4</td>\n",
              "      <td>800</td>\n",
              "      <td>0.387222</td>\n",
              "      <td>0.4525</td>\n",
              "      <td>hill</td>\n",
              "    </tr>\n",
              "    <tr>\n",
              "      <th>22</th>\n",
              "      <td>Scottish Nuclear Kaim</td>\n",
              "      <td>3.5</td>\n",
              "      <td>1250</td>\n",
              "      <td>0.431111</td>\n",
              "      <td>0.54</td>\n",
              "      <td>hill</td>\n",
              "    </tr>\n",
              "    <tr>\n",
              "      <th>25</th>\n",
              "      <td>Isle of Jura</td>\n",
              "      <td>16</td>\n",
              "      <td>7500</td>\n",
              "      <td>3.11639</td>\n",
              "      <td>3.83944</td>\n",
              "      <td>other</td>\n",
              "    </tr>\n",
              "    <tr>\n",
              "      <th>26</th>\n",
              "      <td>Scolty</td>\n",
              "      <td>5</td>\n",
              "      <td>800</td>\n",
              "      <td>0.495833</td>\n",
              "      <td>0.579167</td>\n",
              "      <td>hill</td>\n",
              "    </tr>\n",
              "    <tr>\n",
              "      <th>28</th>\n",
              "      <td>12 Trig Trog</td>\n",
              "      <td>46</td>\n",
              "      <td>7500</td>\n",
              "      <td>8.30694</td>\n",
              "      <td>13.5478</td>\n",
              "      <td>hill</td>\n",
              "    </tr>\n",
              "    <tr>\n",
              "      <th>33</th>\n",
              "      <td>Ben Sheann</td>\n",
              "      <td>2.5</td>\n",
              "      <td>1400</td>\n",
              "      <td>0.381667</td>\n",
              "      <td>0.484722</td>\n",
              "      <td>hill</td>\n",
              "    </tr>\n",
              "    <tr>\n",
              "      <th>34</th>\n",
              "      <td>Glen Rosa</td>\n",
              "      <td>13</td>\n",
              "      <td>5500</td>\n",
              "      <td>2.22028</td>\n",
              "      <td>2.70472</td>\n",
              "      <td>hill</td>\n",
              "    </tr>\n",
              "    <tr>\n",
              "      <th>35</th>\n",
              "      <td>West Highland Way</td>\n",
              "      <td>95</td>\n",
              "      <td>9200</td>\n",
              "      <td>15.4389</td>\n",
              "      <td>18.8792</td>\n",
              "      <td>other</td>\n",
              "    </tr>\n",
              "    <tr>\n",
              "      <th>38</th>\n",
              "      <td>Eildon Two</td>\n",
              "      <td>4.5</td>\n",
              "      <td>1500</td>\n",
              "      <td>0.427222</td>\n",
              "      <td>0.507778</td>\n",
              "      <td>other</td>\n",
              "    </tr>\n",
              "    <tr>\n",
              "      <th>44</th>\n",
              "      <td>Black Hill</td>\n",
              "      <td>4</td>\n",
              "      <td>600</td>\n",
              "      <td>0.447778</td>\n",
              "      <td>0.532222</td>\n",
              "      <td>hill</td>\n",
              "    </tr>\n",
              "    <tr>\n",
              "      <th>48</th>\n",
              "      <td>Meall Ant-Suidhe</td>\n",
              "      <td>3.5</td>\n",
              "      <td>1500</td>\n",
              "      <td>0.465</td>\n",
              "      <td>0.609722</td>\n",
              "      <td>hill</td>\n",
              "    </tr>\n",
              "    <tr>\n",
              "      <th>50</th>\n",
              "      <td>Lochaber AC</td>\n",
              "      <td>2</td>\n",
              "      <td>900</td>\n",
              "      <td>0.284722</td>\n",
              "      <td>0.360556</td>\n",
              "      <td>hill</td>\n",
              "    </tr>\n",
              "    <tr>\n",
              "      <th>51</th>\n",
              "      <td>Lochaber Highland</td>\n",
              "      <td>2</td>\n",
              "      <td>900</td>\n",
              "      <td>0.294167</td>\n",
              "      <td>0.473056</td>\n",
              "      <td>hill</td>\n",
              "    </tr>\n",
              "    <tr>\n",
              "      <th>53</th>\n",
              "      <td>Ben Rhinnes</td>\n",
              "      <td>14</td>\n",
              "      <td>4900</td>\n",
              "      <td>1.97611</td>\n",
              "      <td>2.35583</td>\n",
              "      <td>hill</td>\n",
              "    </tr>\n",
              "    <tr>\n",
              "      <th>55</th>\n",
              "      <td>Creag Dubh</td>\n",
              "      <td>3</td>\n",
              "      <td>1223</td>\n",
              "      <td>0.463889</td>\n",
              "      <td>0.601667</td>\n",
              "      <td>hill</td>\n",
              "    </tr>\n",
              "    <tr>\n",
              "      <th>56</th>\n",
              "      <td>Glen Clova</td>\n",
              "      <td>15</td>\n",
              "      <td>5500</td>\n",
              "      <td>2.56722</td>\n",
              "      <td>2.96222</td>\n",
              "      <td>hill</td>\n",
              "    </tr>\n",
              "    <tr>\n",
              "      <th>57</th>\n",
              "      <td>Caerketton</td>\n",
              "      <td>2.5</td>\n",
              "      <td>800</td>\n",
              "      <td>0.208611</td>\n",
              "      <td>0.246667</td>\n",
              "      <td>hill</td>\n",
              "    </tr>\n",
              "    <tr>\n",
              "      <th>61</th>\n",
              "      <td>Oban</td>\n",
              "      <td>2.25</td>\n",
              "      <td>500</td>\n",
              "      <td>0.232222</td>\n",
              "      <td>0.298889</td>\n",
              "      <td>hill</td>\n",
              "    </tr>\n",
              "    <tr>\n",
              "      <th>62</th>\n",
              "      <td>Ben Nevis</td>\n",
              "      <td>10</td>\n",
              "      <td>4400</td>\n",
              "      <td>1.42611</td>\n",
              "      <td>1.72361</td>\n",
              "      <td>hill</td>\n",
              "    </tr>\n",
              "    <tr>\n",
              "      <th>63</th>\n",
              "      <td>Braemar</td>\n",
              "      <td>4</td>\n",
              "      <td>2000</td>\n",
              "      <td>0.407778</td>\n",
              "      <td>NaN</td>\n",
              "      <td>other</td>\n",
              "    </tr>\n",
              "    <tr>\n",
              "      <th>64</th>\n",
              "      <td>Moffat Beef Tub</td>\n",
              "      <td>2</td>\n",
              "      <td>1500</td>\n",
              "      <td>0.332222</td>\n",
              "      <td>0.436944</td>\n",
              "      <td>hill</td>\n",
              "    </tr>\n",
              "    <tr>\n",
              "      <th>69</th>\n",
              "      <td>Two Breweries</td>\n",
              "      <td>18</td>\n",
              "      <td>4900</td>\n",
              "      <td>2.56583</td>\n",
              "      <td>3.08833</td>\n",
              "      <td>hill</td>\n",
              "    </tr>\n",
              "    <tr>\n",
              "      <th>71</th>\n",
              "      <td>Pentland</td>\n",
              "      <td>16</td>\n",
              "      <td>6200</td>\n",
              "      <td>2.37778</td>\n",
              "      <td>2.785</td>\n",
              "      <td>hill</td>\n",
              "    </tr>\n",
              "    <tr>\n",
              "      <th>72</th>\n",
              "      <td>Tinto</td>\n",
              "      <td>4.5</td>\n",
              "      <td>1500</td>\n",
              "      <td>0.499444</td>\n",
              "      <td>0.581111</td>\n",
              "      <td>hill</td>\n",
              "    </tr>\n",
              "    <tr>\n",
              "      <th>74</th>\n",
              "      <td>Elrick</td>\n",
              "      <td>3.6</td>\n",
              "      <td>650</td>\n",
              "      <td>0.358056</td>\n",
              "      <td>0.4425</td>\n",
              "      <td>relay</td>\n",
              "    </tr>\n",
              "    <tr>\n",
              "      <th>75</th>\n",
              "      <td>Gondola</td>\n",
              "      <td>2.5</td>\n",
              "      <td>2000</td>\n",
              "      <td>0.387222</td>\n",
              "      <td>0.518889</td>\n",
              "      <td>uphill</td>\n",
              "    </tr>\n",
              "    <tr>\n",
              "      <th>76</th>\n",
              "      <td>Greenmantle</td>\n",
              "      <td>2</td>\n",
              "      <td>650</td>\n",
              "      <td>0.254444</td>\n",
              "      <td>0.316667</td>\n",
              "      <td>other</td>\n",
              "    </tr>\n",
              "  </tbody>\n",
              "</table>\n",
              "</div>"
            ],
            "text/plain": [
              "                       id  dist climb      time     timef      type\n",
              "0      Aonach Mor Gondola     2  2000  0.403611  0.518889    uphill\n",
              "1       Broughton Brewery     2   650  0.254444  0.316667     other\n",
              "2             El-Brim-Ick     3   750  0.485833  0.389167     other\n",
              "3      The Devils Burdens    21  4100   2.39972   3.09333     relay\n",
              "6              Chapelgill   1.5  1400  0.314444  0.376667      hill\n",
              "7            Norman's Law     5   700  0.464167  0.609167      hill\n",
              "10                 Screel     4  1300  0.458889  0.543611      hill\n",
              "12            Hunters Bog   4.5   800  0.409444  0.477778     other\n",
              "13         Aberfoyle Dash     3  1000    0.3375  0.381389    uphill\n",
              "14          Manx Mountain  30.5  8000   4.46972   5.52333  marathon\n",
              "15          Whangie Whizz   3.5   800  0.395556  0.464167      hill\n",
              "17          Stuc A'Chroin    14  5000   1.98333   2.39889      hill\n",
              "20               Kinnoull     4   800  0.387222    0.4525      hill\n",
              "22  Scottish Nuclear Kaim   3.5  1250  0.431111      0.54      hill\n",
              "25           Isle of Jura    16  7500   3.11639   3.83944     other\n",
              "26                 Scolty     5   800  0.495833  0.579167      hill\n",
              "28           12 Trig Trog    46  7500   8.30694   13.5478      hill\n",
              "33             Ben Sheann   2.5  1400  0.381667  0.484722      hill\n",
              "34              Glen Rosa    13  5500   2.22028   2.70472      hill\n",
              "35      West Highland Way    95  9200   15.4389   18.8792     other\n",
              "38             Eildon Two   4.5  1500  0.427222  0.507778     other\n",
              "44             Black Hill     4   600  0.447778  0.532222      hill\n",
              "48       Meall Ant-Suidhe   3.5  1500     0.465  0.609722      hill\n",
              "50            Lochaber AC     2   900  0.284722  0.360556      hill\n",
              "51      Lochaber Highland     2   900  0.294167  0.473056      hill\n",
              "53            Ben Rhinnes    14  4900   1.97611   2.35583      hill\n",
              "55             Creag Dubh     3  1223  0.463889  0.601667      hill\n",
              "56             Glen Clova    15  5500   2.56722   2.96222      hill\n",
              "57             Caerketton   2.5   800  0.208611  0.246667      hill\n",
              "61                   Oban  2.25   500  0.232222  0.298889      hill\n",
              "62              Ben Nevis    10  4400   1.42611   1.72361      hill\n",
              "63                Braemar     4  2000  0.407778       NaN     other\n",
              "64        Moffat Beef Tub     2  1500  0.332222  0.436944      hill\n",
              "69          Two Breweries    18  4900   2.56583   3.08833      hill\n",
              "71               Pentland    16  6200   2.37778     2.785      hill\n",
              "72                  Tinto   4.5  1500  0.499444  0.581111      hill\n",
              "74                 Elrick   3.6   650  0.358056    0.4425     relay\n",
              "75                Gondola   2.5  2000  0.387222  0.518889    uphill\n",
              "76            Greenmantle     2   650  0.254444  0.316667     other"
            ]
          },
          "metadata": {
            "tags": []
          },
          "execution_count": 15
        }
      ]
    },
    {
      "cell_type": "markdown",
      "metadata": {
        "id": "f6C2c_iPmHqt"
      },
      "source": [
        "### Задание 10\n",
        "\n",
        "Создать столбец `time_min`, который содержит время маршрута, измеренное в минутах."
      ]
    },
    {
      "cell_type": "code",
      "metadata": {
        "id": "KNdw_D3mmHqt",
        "outputId": "3d6d0a94-6bc5-41bd-a3a3-750cbe77063a"
      },
      "source": [
        "dat['time_min'] = dat['time'] * 60\n",
        "dat.tail(15)"
      ],
      "execution_count": null,
      "outputs": [
        {
          "output_type": "execute_result",
          "data": {
            "text/html": [
              "<div>\n",
              "<style scoped>\n",
              "    .dataframe tbody tr th:only-of-type {\n",
              "        vertical-align: middle;\n",
              "    }\n",
              "\n",
              "    .dataframe tbody tr th {\n",
              "        vertical-align: top;\n",
              "    }\n",
              "\n",
              "    .dataframe thead th {\n",
              "        text-align: right;\n",
              "    }\n",
              "</style>\n",
              "<table border=\"1\" class=\"dataframe\">\n",
              "  <thead>\n",
              "    <tr style=\"text-align: right;\">\n",
              "      <th></th>\n",
              "      <th>id</th>\n",
              "      <th>dist</th>\n",
              "      <th>climb</th>\n",
              "      <th>time</th>\n",
              "      <th>timef</th>\n",
              "      <th>type</th>\n",
              "      <th>time_min</th>\n",
              "    </tr>\n",
              "  </thead>\n",
              "  <tbody>\n",
              "    <tr>\n",
              "      <th>62</th>\n",
              "      <td>Ben Nevis</td>\n",
              "      <td>10</td>\n",
              "      <td>4400</td>\n",
              "      <td>1.42611</td>\n",
              "      <td>1.72361</td>\n",
              "      <td>hill</td>\n",
              "      <td>85.5667</td>\n",
              "    </tr>\n",
              "    <tr>\n",
              "      <th>63</th>\n",
              "      <td>Braemar</td>\n",
              "      <td>4</td>\n",
              "      <td>2000</td>\n",
              "      <td>0.407778</td>\n",
              "      <td>NaN</td>\n",
              "      <td>other</td>\n",
              "      <td>24.4667</td>\n",
              "    </tr>\n",
              "    <tr>\n",
              "      <th>64</th>\n",
              "      <td>Moffat Beef Tub</td>\n",
              "      <td>2</td>\n",
              "      <td>1500</td>\n",
              "      <td>0.332222</td>\n",
              "      <td>0.436944</td>\n",
              "      <td>hill</td>\n",
              "      <td>19.9333</td>\n",
              "    </tr>\n",
              "    <tr>\n",
              "      <th>65</th>\n",
              "      <td>Cairn William</td>\n",
              "      <td>6</td>\n",
              "      <td>1400</td>\n",
              "      <td>0.704444</td>\n",
              "      <td>0.809722</td>\n",
              "      <td>hill</td>\n",
              "      <td>42.2667</td>\n",
              "    </tr>\n",
              "    <tr>\n",
              "      <th>66</th>\n",
              "      <td>Corrieyairick</td>\n",
              "      <td>16</td>\n",
              "      <td>2250</td>\n",
              "      <td>1.66472</td>\n",
              "      <td>1.96333</td>\n",
              "      <td>hill</td>\n",
              "      <td>99.8833</td>\n",
              "    </tr>\n",
              "    <tr>\n",
              "      <th>67</th>\n",
              "      <td>Morven</td>\n",
              "      <td>5</td>\n",
              "      <td>1700</td>\n",
              "      <td>0.609167</td>\n",
              "      <td>0.785833</td>\n",
              "      <td>hill</td>\n",
              "      <td>36.55</td>\n",
              "    </tr>\n",
              "    <tr>\n",
              "      <th>68</th>\n",
              "      <td>Merrick</td>\n",
              "      <td>8</td>\n",
              "      <td>2710</td>\n",
              "      <td>1.13333</td>\n",
              "      <td>1.39472</td>\n",
              "      <td>hill</td>\n",
              "      <td>68</td>\n",
              "    </tr>\n",
              "    <tr>\n",
              "      <th>69</th>\n",
              "      <td>Two Breweries</td>\n",
              "      <td>18</td>\n",
              "      <td>4900</td>\n",
              "      <td>2.56583</td>\n",
              "      <td>3.08833</td>\n",
              "      <td>hill</td>\n",
              "      <td>153.95</td>\n",
              "    </tr>\n",
              "    <tr>\n",
              "      <th>70</th>\n",
              "      <td>Manor Water</td>\n",
              "      <td>10</td>\n",
              "      <td>2300</td>\n",
              "      <td>1.18444</td>\n",
              "      <td>1.4975</td>\n",
              "      <td>hill</td>\n",
              "      <td>71.0667</td>\n",
              "    </tr>\n",
              "    <tr>\n",
              "      <th>71</th>\n",
              "      <td>Pentland</td>\n",
              "      <td>16</td>\n",
              "      <td>6200</td>\n",
              "      <td>2.37778</td>\n",
              "      <td>2.785</td>\n",
              "      <td>hill</td>\n",
              "      <td>142.667</td>\n",
              "    </tr>\n",
              "    <tr>\n",
              "      <th>72</th>\n",
              "      <td>Tinto</td>\n",
              "      <td>4.5</td>\n",
              "      <td>1500</td>\n",
              "      <td>0.499444</td>\n",
              "      <td>0.581111</td>\n",
              "      <td>hill</td>\n",
              "      <td>29.9667</td>\n",
              "    </tr>\n",
              "    <tr>\n",
              "      <th>73</th>\n",
              "      <td>Druim Fada</td>\n",
              "      <td>6.5</td>\n",
              "      <td>1000</td>\n",
              "      <td>0.751111</td>\n",
              "      <td>0.972222</td>\n",
              "      <td>other</td>\n",
              "      <td>45.0667</td>\n",
              "    </tr>\n",
              "    <tr>\n",
              "      <th>74</th>\n",
              "      <td>Elrick</td>\n",
              "      <td>3.6</td>\n",
              "      <td>650</td>\n",
              "      <td>0.358056</td>\n",
              "      <td>0.4425</td>\n",
              "      <td>relay</td>\n",
              "      <td>21.4833</td>\n",
              "    </tr>\n",
              "    <tr>\n",
              "      <th>75</th>\n",
              "      <td>Gondola</td>\n",
              "      <td>2.5</td>\n",
              "      <td>2000</td>\n",
              "      <td>0.387222</td>\n",
              "      <td>0.518889</td>\n",
              "      <td>uphill</td>\n",
              "      <td>23.2333</td>\n",
              "    </tr>\n",
              "    <tr>\n",
              "      <th>76</th>\n",
              "      <td>Greenmantle</td>\n",
              "      <td>2</td>\n",
              "      <td>650</td>\n",
              "      <td>0.254444</td>\n",
              "      <td>0.316667</td>\n",
              "      <td>other</td>\n",
              "      <td>15.2667</td>\n",
              "    </tr>\n",
              "  </tbody>\n",
              "</table>\n",
              "</div>"
            ],
            "text/plain": [
              "                 id dist climb      time     timef    type time_min\n",
              "62        Ben Nevis   10  4400   1.42611   1.72361    hill  85.5667\n",
              "63          Braemar    4  2000  0.407778       NaN   other  24.4667\n",
              "64  Moffat Beef Tub    2  1500  0.332222  0.436944    hill  19.9333\n",
              "65    Cairn William    6  1400  0.704444  0.809722    hill  42.2667\n",
              "66    Corrieyairick   16  2250   1.66472   1.96333    hill  99.8833\n",
              "67           Morven    5  1700  0.609167  0.785833    hill    36.55\n",
              "68          Merrick    8  2710   1.13333   1.39472    hill       68\n",
              "69    Two Breweries   18  4900   2.56583   3.08833    hill   153.95\n",
              "70      Manor Water   10  2300   1.18444    1.4975    hill  71.0667\n",
              "71         Pentland   16  6200   2.37778     2.785    hill  142.667\n",
              "72            Tinto  4.5  1500  0.499444  0.581111    hill  29.9667\n",
              "73       Druim Fada  6.5  1000  0.751111  0.972222   other  45.0667\n",
              "74           Elrick  3.6   650  0.358056    0.4425   relay  21.4833\n",
              "75          Gondola  2.5  2000  0.387222  0.518889  uphill  23.2333\n",
              "76      Greenmantle    2   650  0.254444  0.316667   other  15.2667"
            ]
          },
          "metadata": {
            "tags": []
          },
          "execution_count": 17
        }
      ]
    },
    {
      "cell_type": "markdown",
      "metadata": {
        "id": "qyx8B9kImHqt"
      },
      "source": [
        "### Задание 11\n",
        "\n",
        "Создать столбец `year` с годом соревнований (везде 2000 год). Внимание: столбец с годом должен быть числовым (целочисленным)."
      ]
    },
    {
      "cell_type": "code",
      "metadata": {
        "id": "vzqOVa7emHqu",
        "outputId": "58935b0b-2a46-4473-aa9e-cc7e487fecee"
      },
      "source": [
        "# df.assig(year = 2000)\n",
        "dat['year'] = 2000\n",
        "dat.info()"
      ],
      "execution_count": null,
      "outputs": [
        {
          "output_type": "stream",
          "text": [
            "<class 'pandas.core.frame.DataFrame'>\n",
            "RangeIndex: 77 entries, 0 to 76\n",
            "Data columns (total 8 columns):\n",
            " #   Column    Non-Null Count  Dtype \n",
            "---  ------    --------------  ----- \n",
            " 0   id        77 non-null     object\n",
            " 1   dist      77 non-null     object\n",
            " 2   climb     77 non-null     object\n",
            " 3   time      77 non-null     object\n",
            " 4   timef     75 non-null     object\n",
            " 5   type      77 non-null     object\n",
            " 6   time_min  77 non-null     object\n",
            " 7   year      77 non-null     int64 \n",
            "dtypes: int64(1), object(7)\n",
            "memory usage: 4.9+ KB\n"
          ],
          "name": "stdout"
        }
      ]
    },
    {
      "cell_type": "markdown",
      "metadata": {
        "id": "wVTJWKrImHqu"
      },
      "source": [
        ".<br> .<br> .<br> .<br> .<br> .<br> .<br> .<br> .<br> .<br> .<br> .<br> .<br> .<br> .<br> .<br> .<br> .<br> \n",
        "# Дополнительное (необязательное) задание.\n",
        "<br>\n",
        "\n"
      ]
    },
    {
      "cell_type": "markdown",
      "metadata": {
        "id": "FQu3EjD_mHqu"
      },
      "source": [
        "### Задание 1\n",
        "\n",
        "Загрузить датафрейм из файла `extraversion.csv`, используя код ниже. При этом файл `extraversion.csv` должен находиться в той же папке, что и ноутбук с решениями. Его можно поместить в ту же папку, нажав кнопку *Upload* в *Home*."
      ]
    },
    {
      "cell_type": "code",
      "metadata": {
        "id": "7s2XHffomHqu"
      },
      "source": [
        "# кодировка UTF-8, чтобы кириллица корректно считывалась на Windows\n",
        "ps = pd.read_csv(\"extraversion.csv\", encoding = \"UTF-8\")"
      ],
      "execution_count": null,
      "outputs": []
    },
    {
      "cell_type": "markdown",
      "metadata": {
        "id": "fyifj2DDmHqv"
      },
      "source": [
        "Файл содержит результаты учебного психометрического исследования, целью которого является выявление связи между уровнем экстраверсии человека и его склонности к участию в волонтёрской деятельности. Датафрейм содержит следующие столбцы:\n",
        "\n",
        "* `sex`: пол респондента (Женский, Мужской);\n",
        "* `volunteer`: регулярное участие в волонтёрской деятельности (Да, Нет);\n",
        "* `Q 1` - `Q 57`: ответы на вопросы по анкете Айзенка (Да, Нет), информацию об анкете и сами вопросы можно найти на [этой](http://ipp.hse.ru/57-testytest-ajzenka-ekstraversiya-introversiya-nejrotizm) странице."
      ]
    },
    {
      "cell_type": "code",
      "metadata": {
        "id": "9P1xqnS7mHqv",
        "outputId": "433d51ac-0f6b-45c3-db11-dd7c7f00190e"
      },
      "source": [
        "ps.tail()"
      ],
      "execution_count": null,
      "outputs": [
        {
          "output_type": "execute_result",
          "data": {
            "text/html": [
              "<div>\n",
              "<style scoped>\n",
              "    .dataframe tbody tr th:only-of-type {\n",
              "        vertical-align: middle;\n",
              "    }\n",
              "\n",
              "    .dataframe tbody tr th {\n",
              "        vertical-align: top;\n",
              "    }\n",
              "\n",
              "    .dataframe thead th {\n",
              "        text-align: right;\n",
              "    }\n",
              "</style>\n",
              "<table border=\"1\" class=\"dataframe\">\n",
              "  <thead>\n",
              "    <tr style=\"text-align: right;\">\n",
              "      <th></th>\n",
              "      <th>Unnamed: 0</th>\n",
              "      <th>Unnamed: 0.1</th>\n",
              "      <th>sex</th>\n",
              "      <th>volunteer</th>\n",
              "      <th>Q 1</th>\n",
              "      <th>Q 2</th>\n",
              "      <th>Q 3</th>\n",
              "      <th>Q 4</th>\n",
              "      <th>Q 5</th>\n",
              "      <th>Q 6</th>\n",
              "      <th>...</th>\n",
              "      <th>Q 48</th>\n",
              "      <th>Q 49</th>\n",
              "      <th>Q 50</th>\n",
              "      <th>Q 51</th>\n",
              "      <th>Q 52</th>\n",
              "      <th>Q 53</th>\n",
              "      <th>Q 54</th>\n",
              "      <th>Q 55</th>\n",
              "      <th>Q 56</th>\n",
              "      <th>Q 57</th>\n",
              "    </tr>\n",
              "  </thead>\n",
              "  <tbody>\n",
              "    <tr>\n",
              "      <th>47</th>\n",
              "      <td>47</td>\n",
              "      <td>48</td>\n",
              "      <td>Женский</td>\n",
              "      <td>Нет</td>\n",
              "      <td>Нет</td>\n",
              "      <td>Нет</td>\n",
              "      <td>Нет</td>\n",
              "      <td>Да</td>\n",
              "      <td>Да</td>\n",
              "      <td>Да</td>\n",
              "      <td>...</td>\n",
              "      <td>Да</td>\n",
              "      <td>Нет</td>\n",
              "      <td>Нет</td>\n",
              "      <td>Да</td>\n",
              "      <td>Да</td>\n",
              "      <td>Нет</td>\n",
              "      <td>Да</td>\n",
              "      <td>Нет</td>\n",
              "      <td>Нет</td>\n",
              "      <td>Нет</td>\n",
              "    </tr>\n",
              "    <tr>\n",
              "      <th>48</th>\n",
              "      <td>48</td>\n",
              "      <td>49</td>\n",
              "      <td>Женский</td>\n",
              "      <td>Да</td>\n",
              "      <td>Да</td>\n",
              "      <td>Да</td>\n",
              "      <td>Нет</td>\n",
              "      <td>Да</td>\n",
              "      <td>Да</td>\n",
              "      <td>Да</td>\n",
              "      <td>...</td>\n",
              "      <td>Да</td>\n",
              "      <td>Да</td>\n",
              "      <td>Да</td>\n",
              "      <td>Нет</td>\n",
              "      <td>Нет</td>\n",
              "      <td>Да</td>\n",
              "      <td>Да</td>\n",
              "      <td>Нет</td>\n",
              "      <td>Нет</td>\n",
              "      <td>Нет</td>\n",
              "    </tr>\n",
              "    <tr>\n",
              "      <th>49</th>\n",
              "      <td>49</td>\n",
              "      <td>50</td>\n",
              "      <td>Женский</td>\n",
              "      <td>Да</td>\n",
              "      <td>Нет</td>\n",
              "      <td>Нет</td>\n",
              "      <td>Нет</td>\n",
              "      <td>Нет</td>\n",
              "      <td>Да</td>\n",
              "      <td>Нет</td>\n",
              "      <td>...</td>\n",
              "      <td>Да</td>\n",
              "      <td>Нет</td>\n",
              "      <td>Да</td>\n",
              "      <td>Нет</td>\n",
              "      <td>Да</td>\n",
              "      <td>Нет</td>\n",
              "      <td>Да</td>\n",
              "      <td>Да</td>\n",
              "      <td>Да</td>\n",
              "      <td>Нет</td>\n",
              "    </tr>\n",
              "    <tr>\n",
              "      <th>50</th>\n",
              "      <td>50</td>\n",
              "      <td>51</td>\n",
              "      <td>Женский</td>\n",
              "      <td>Нет</td>\n",
              "      <td>Да</td>\n",
              "      <td>Да</td>\n",
              "      <td>Нет</td>\n",
              "      <td>Нет</td>\n",
              "      <td>Да</td>\n",
              "      <td>Нет</td>\n",
              "      <td>...</td>\n",
              "      <td>Да</td>\n",
              "      <td>Нет</td>\n",
              "      <td>Нет</td>\n",
              "      <td>Нет</td>\n",
              "      <td>Да</td>\n",
              "      <td>Да</td>\n",
              "      <td>Нет</td>\n",
              "      <td>Да</td>\n",
              "      <td>Да</td>\n",
              "      <td>Да</td>\n",
              "    </tr>\n",
              "    <tr>\n",
              "      <th>51</th>\n",
              "      <td>51</td>\n",
              "      <td>52</td>\n",
              "      <td>Женский</td>\n",
              "      <td>Да</td>\n",
              "      <td>Да</td>\n",
              "      <td>Да</td>\n",
              "      <td>Нет</td>\n",
              "      <td>Да</td>\n",
              "      <td>Да</td>\n",
              "      <td>Да</td>\n",
              "      <td>...</td>\n",
              "      <td>Да</td>\n",
              "      <td>Нет</td>\n",
              "      <td>Да</td>\n",
              "      <td>Да</td>\n",
              "      <td>Да</td>\n",
              "      <td>Да</td>\n",
              "      <td>Да</td>\n",
              "      <td>Да</td>\n",
              "      <td>Нет</td>\n",
              "      <td>Нет</td>\n",
              "    </tr>\n",
              "  </tbody>\n",
              "</table>\n",
              "<p>5 rows × 61 columns</p>\n",
              "</div>"
            ],
            "text/plain": [
              "    Unnamed: 0  Unnamed: 0.1      sex volunteer  Q 1  Q 2  Q 3  Q 4 Q 5  Q 6  \\\n",
              "47          47            48  Женский       Нет  Нет  Нет  Нет   Да  Да   Да   \n",
              "48          48            49  Женский        Да   Да   Да  Нет   Да  Да   Да   \n",
              "49          49            50  Женский        Да  Нет  Нет  Нет  Нет  Да  Нет   \n",
              "50          50            51  Женский       Нет   Да   Да  Нет  Нет  Да  Нет   \n",
              "51          51            52  Женский        Да   Да   Да  Нет   Да  Да   Да   \n",
              "\n",
              "    ... Q 48 Q 49 Q 50 Q 51 Q 52 Q 53 Q 54 Q 55 Q 56 Q 57  \n",
              "47  ...   Да  Нет  Нет   Да   Да  Нет   Да  Нет  Нет  Нет  \n",
              "48  ...   Да   Да   Да  Нет  Нет   Да   Да  Нет  Нет  Нет  \n",
              "49  ...   Да  Нет   Да  Нет   Да  Нет   Да   Да   Да  Нет  \n",
              "50  ...   Да  Нет  Нет  Нет   Да   Да  Нет   Да   Да   Да  \n",
              "51  ...   Да  Нет   Да   Да   Да   Да   Да   Да  Нет  Нет  \n",
              "\n",
              "[5 rows x 61 columns]"
            ]
          },
          "metadata": {
            "tags": []
          },
          "execution_count": 22
        }
      ]
    },
    {
      "cell_type": "markdown",
      "metadata": {
        "id": "OLzYXinNmHqv"
      },
      "source": [
        "### Задание 2\n",
        "\n",
        "Определить, сколько в датафрейме строк и столбцов. Привести код и указать ответ в виде текста или комментария к коду."
      ]
    },
    {
      "cell_type": "code",
      "metadata": {
        "id": "SJY5AXu8mHqw",
        "outputId": "3e8e53e0-7e7a-46ab-eac7-240350da3075"
      },
      "source": [
        "print(f'количество строк - {ps.shape[0]}, количество столбцов - {ps.shape[1]}')"
      ],
      "execution_count": null,
      "outputs": [
        {
          "output_type": "stream",
          "text": [
            "количество строк - 52, количество столбцов - 61\n"
          ],
          "name": "stdout"
        }
      ]
    },
    {
      "cell_type": "markdown",
      "metadata": {
        "id": "4h9yhogvmHqw"
      },
      "source": [
        "### Задание 3\n",
        "\n",
        "Переименовать столбцы `Q 1`-`Q 57` в `Q1`-`Q57`, другими словами, убрать в названиях всех столбцов пробелы в середине (если есть). \n",
        "\n",
        "**Подсказка 1:** Метод `.replace()` для строк на [pythontutor.ru](https://pythontutor.ru/lessons/str/).\n",
        "\n",
        "**Подсказка 2:** Для выполнения этого задания можно написать функцию, которая будет заменять пробелы на «пустоту», а потом применить её с помощью функции `map()` ко всем элементам списка. Пример ниже иллюстрирует применение функции для изменения регистра текста."
      ]
    },
    {
      "cell_type": "code",
      "metadata": {
        "id": "wJwPKErpmHqw",
        "outputId": "7c19cef7-42b2-4110-d2fc-d06f45c3d0e1"
      },
      "source": [
        "# Пример\n",
        "\n",
        "L = ['яблоко', 'груша', 'слива']  # исходный список\n",
        "\n",
        "# функция принимает на вход строку x и возвращает её же, \n",
        "# но большими буквами – метод .upper()\n",
        "\n",
        "def f(x):\n",
        "    \"\"\"\n",
        "    Input: x is a string.\n",
        "    Output: x is a string.\n",
        "    Makes all letters uppercase. \n",
        "    \"\"\"\n",
        "    return x.upper()\n",
        "\n",
        "# результат: применяем функцию f к списку L через map и преобразуем в список\n",
        "# можно убрать list() вначале и убедиться, что он здесь нужен\n",
        "\n",
        "list(map(f, L))  "
      ],
      "execution_count": null,
      "outputs": [
        {
          "output_type": "execute_result",
          "data": {
            "text/plain": [
              "['ЯБЛОКО', 'ГРУША', 'СЛИВА']"
            ]
          },
          "metadata": {
            "tags": []
          },
          "execution_count": 34
        }
      ]
    },
    {
      "cell_type": "code",
      "metadata": {
        "id": "cJjCuw72mHqx",
        "outputId": "a526381e-11c7-474b-dc76-1f5332f9bb3e"
      },
      "source": [
        "QQ = list(ps.columns)\n",
        "def f(x):\n",
        "\n",
        "    return x.replace(' ', '')\n",
        "\n",
        "qqq = list(map(f, QQ))\n",
        "ps.columns = qqq\n",
        "ps.columns"
      ],
      "execution_count": null,
      "outputs": [
        {
          "output_type": "execute_result",
          "data": {
            "text/plain": [
              "Index(['Unnamed:0', 'Unnamed:0.1', 'sex', 'volunteer', 'Q1', 'Q2', 'Q3', 'Q4',\n",
              "       'Q5', 'Q6', 'Q7', 'Q8', 'Q9', 'Q10', 'Q11', 'Q12', 'Q13', 'Q14', 'Q15',\n",
              "       'Q16', 'Q17', 'Q18', 'Q19', 'Q20', 'Q21', 'Q22', 'Q23', 'Q24', 'Q25',\n",
              "       'Q26', 'Q27', 'Q28', 'Q29', 'Q30', 'Q31', 'Q32', 'Q33', 'Q34', 'Q35',\n",
              "       'Q36', 'Q37', 'Q38', 'Q39', 'Q40', 'Q41', 'Q42', 'Q43', 'Q44', 'Q45',\n",
              "       'Q46', 'Q47', 'Q48', 'Q49', 'Q50', 'Q51', 'Q52', 'Q53', 'Q54', 'Q55',\n",
              "       'Q56', 'Q57'],\n",
              "      dtype='object')"
            ]
          },
          "metadata": {
            "tags": []
          },
          "execution_count": 42
        }
      ]
    },
    {
      "cell_type": "markdown",
      "metadata": {
        "id": "3GVaIuHtmHqx"
      },
      "source": [
        "### Задание 4\n",
        "\n",
        "Выбрать столбцы `Q1`, `Q3`, `Q8`, `Q10`, `Q13`, `Q17`, `Q22`, `Q25`, `Q27`, `Q39`, `Q44`, `Q46`, `Q49`, `Q53`, `Q56` и сохранить их в отдельный датафрейм `extra_yes`. \n",
        "\n",
        "Выбрать столбцы `Q5`, `Q15`, `Q20`, `Q29`, `Q32`, `Q34`, `Q37`,`Q41`, `Q51` и сохранить их в отдельный датафрейм `extra_no`.\n",
        "\n",
        "Эти столбцы будут использоваться для вычисления индекса экстраверсии."
      ]
    },
    {
      "cell_type": "code",
      "metadata": {
        "id": "4okLYR6umHqx"
      },
      "source": [
        "extra_yes = ps[['Q1', 'Q3', 'Q8', 'Q10', 'Q13', 'Q17', 'Q22', 'Q25', 'Q27', 'Q39', 'Q44', 'Q46', 'Q49', 'Q53', 'Q56']]\n",
        "extra_no = ps[['Q5', 'Q15', 'Q20', 'Q29', 'Q32', 'Q34', 'Q37', 'Q41', 'Q51']]"
      ],
      "execution_count": null,
      "outputs": []
    },
    {
      "cell_type": "markdown",
      "metadata": {
        "id": "N0Ea8IMDmHqx"
      },
      "source": [
        "### Задание 5\n",
        "\n",
        "Посчитать для каждой строки в датафрейме `extra_yes` число ответов `\"Да\"` и полученный результат сохранить в переменную `extra_yes_sum`. Посчитать для каждой строки в датафрейме `extra_no` число ответов `\"Нет\"` и полученный результат сохранить в переменную `extra_no_sum`.\n",
        "\n",
        "**Подсказка 1:** метод `.isin()` для [датафреймов](https://pandas.pydata.org/pandas-docs/stable/reference/api/pandas.DataFrame.isin.html) `pandas`.\n",
        "\n",
        "**Подсказка 2:** метод `.sum()` для [датафреймов](https://pandas.pydata.org/pandas-docs/stable/reference/api/pandas.DataFrame.sum.html) `pandas`. "
      ]
    },
    {
      "cell_type": "code",
      "metadata": {
        "id": "od4H93AnmHqy",
        "outputId": "2be49fc8-9649-4671-f23d-7b20d7468bcf"
      },
      "source": [
        "idx = extra_yes.isin(['Да'])\n",
        "extra_yes_sum = idx.sum()\n",
        "print(extra_yes_sum)"
      ],
      "execution_count": null,
      "outputs": [
        {
          "output_type": "stream",
          "text": [
            "Q1     43\n",
            "Q3      7\n",
            "Q8     15\n",
            "Q10    11\n",
            "Q13    33\n",
            "Q17    34\n",
            "Q22    12\n",
            "Q25    37\n",
            "Q27    37\n",
            "Q39    22\n",
            "Q44    11\n",
            "Q46    27\n",
            "Q49    21\n",
            "Q53    23\n",
            "Q56    34\n",
            "dtype: int64\n"
          ],
          "name": "stdout"
        }
      ]
    },
    {
      "cell_type": "code",
      "metadata": {
        "id": "Fb3MaG1AmHqy",
        "outputId": "6879dcae-c667-4b5b-dca8-4ba2f84e6603"
      },
      "source": [
        "idx2 = extra_no.isin(['Нет'])\n",
        "# idx2\n",
        "extra_no_sum = idx2.sum()\n",
        "print(extra_no_sum)"
      ],
      "execution_count": null,
      "outputs": [
        {
          "output_type": "stream",
          "text": [
            "Q5      4\n",
            "Q15    38\n",
            "Q20     6\n",
            "Q29    26\n",
            "Q32    26\n",
            "Q34    23\n",
            "Q37    27\n",
            "Q41    43\n",
            "Q51    33\n",
            "dtype: int64\n"
          ],
          "name": "stdout"
        }
      ]
    },
    {
      "cell_type": "markdown",
      "metadata": {
        "id": "LuMLqkckmHqy"
      },
      "source": [
        "### Задание 6\n",
        "\n",
        "Добавить в исходный датафрейм столбец `extra`, который представляет собой индекс экстраверсии, который считается так: сумма числа ответов \"Да\" в `extra_yes` и числа ответов \"Нет\" в `extra_no`."
      ]
    },
    {
      "cell_type": "code",
      "metadata": {
        "id": "C77Pw6FTmHqz"
      },
      "source": [
        "### YOUR CODE HERE ###"
      ],
      "execution_count": null,
      "outputs": []
    },
    {
      "cell_type": "markdown",
      "metadata": {
        "id": "kuQ_JcrOmHqz"
      },
      "source": [
        "### Задание 7"
      ]
    },
    {
      "cell_type": "markdown",
      "metadata": {
        "id": "JGjb-te8mHqz"
      },
      "source": [
        "Добавить в исходный датафрейм столбец `female`, состоящий из значений 0 и 1 (0 — Мужской, 1 — Женский). \n",
        "\n",
        "**Подсказка:** возможно, пригодится метод `.astype()` для [Series](https://pandas.pydata.org/pandas-docs/version/0.23.4/generated/pandas.Series.astype.html) в `pandas`, он преобразует типы столбцов."
      ]
    },
    {
      "cell_type": "code",
      "metadata": {
        "id": "QiWpD29_mHqz"
      },
      "source": [
        "### YOUR CODE HERE ###"
      ],
      "execution_count": null,
      "outputs": []
    },
    {
      "cell_type": "markdown",
      "metadata": {
        "id": "QeByDSLDmHq0"
      },
      "source": [
        "### Задание 8\n",
        "\n",
        "Выбрать из исходного датафрейма строки, которые соответствуют либо волонтёрам с индексом экстраверсии выше 15, либо не-волонтёрам с индексом экстраверсии ниже 15. Сохранить в датафрейм `pure`."
      ]
    },
    {
      "cell_type": "code",
      "metadata": {
        "id": "evYCoWSMmHq0"
      },
      "source": [
        "### YOUR CODE HERE ###"
      ],
      "execution_count": null,
      "outputs": []
    },
    {
      "cell_type": "markdown",
      "metadata": {
        "id": "L0vUzKOtmHq0"
      },
      "source": [
        "### Задание 9\n",
        "\n",
        "Определить (любым способом, кроме явного подсчёта), сколько волонтёров и не-волонтёров в датафрейме `pure`."
      ]
    },
    {
      "cell_type": "code",
      "metadata": {
        "id": "09iPikjtmHq0"
      },
      "source": [
        "### YOUR CODE HERE ###"
      ],
      "execution_count": null,
      "outputs": []
    },
    {
      "cell_type": "markdown",
      "metadata": {
        "id": "ERh3EOYEmHq0"
      },
      "source": [
        "### Задание 10\n",
        "\n",
        "Определить минимальное, максимальное, среднее и медианное значение индекса экстраверсии в датафрейме `pure`. Сохранить полученные результаты в отдельные переменные (их должно быть 4).\n",
        "\n",
        "Добавить в датафрейм `pure` столбец `high`, состоящий из 0 и 1, где 1 соответствует респондентам, уровень экстраверсии которых выше значения $m = \\max\\{\\text{median}, \\text{mean}\\}$, то есть максимума из медианного и среднего значения, а 0 — респондентам с уровнем экстраверсии не выше $m$."
      ]
    },
    {
      "cell_type": "code",
      "metadata": {
        "id": "QnrThPYRmHq1"
      },
      "source": [
        "### YOUR CODE HERE ###"
      ],
      "execution_count": null,
      "outputs": []
    }
  ]
}