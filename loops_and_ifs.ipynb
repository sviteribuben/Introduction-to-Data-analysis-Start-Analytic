{
  "nbformat": 4,
  "nbformat_minor": 0,
  "metadata": {
    "colab": {
      "name": "jun_anl_loops_and_ifs.ipynb",
      "provenance": [],
      "collapsed_sections": [],
      "include_colab_link": true
    },
    "kernelspec": {
      "display_name": "Python 3",
      "language": "python",
      "name": "python3"
    },
    "language_info": {
      "codemirror_mode": {
        "name": "ipython",
        "version": 3
      },
      "file_extension": ".py",
      "mimetype": "text/x-python",
      "name": "python",
      "nbconvert_exporter": "python",
      "pygments_lexer": "ipython3",
      "version": "3.7.4"
    }
  },
  "cells": [
    {
      "cell_type": "markdown",
      "metadata": {
        "id": "view-in-github",
        "colab_type": "text"
      },
      "source": [
        "<a href=\"https://colab.research.google.com/github/sviteribuben/skillbox/blob/master/loops_and_ifs.ipynb\" target=\"_parent\"><img src=\"https://colab.research.google.com/assets/colab-badge.svg\" alt=\"Open In Colab\"/></a>"
      ]
    },
    {
      "cell_type": "markdown",
      "metadata": {
        "id": "APhOecC6pli2"
      },
      "source": [
        "# Циклы и условия\n",
        "\n",
        "## Домашняя работа"
      ]
    },
    {
      "cell_type": "markdown",
      "metadata": {
        "id": "6UFjTyXJpli3"
      },
      "source": [
        "## 1\n",
        "\n",
        "Напишите программу, которая будет запрашивать на вход числа (через запятую на одной строке) и выводить наибольшее значение из списка."
      ]
    },
    {
      "cell_type": "code",
      "metadata": {
        "id": "C6cxT_rYpli4",
        "outputId": "dadae3e6-9590-4996-c895-fa19d47119bc"
      },
      "source": [
        "# Решение без built-in функций\n",
        "\n",
        "input_numbers = input(\"Enter numbers by comma \")\n",
        "family_list = input_numbers.split(\", \")\n",
        "int_lst = [int(x) for x in family_list]\n",
        "\n",
        "max = 0\n",
        "for i in int_lst:\n",
        "    if i > max:\n",
        "        max = i\n",
        "        \n",
        "# family_list_1 = list(map(lambda x: int(x), family_list))\n",
        "# print(int_lst)\n",
        "print(max)"
      ],
      "execution_count": null,
      "outputs": [
        {
          "output_type": "stream",
          "text": [
            "Enter numbers by comma 5, 9, 6, 8, 64, 22, 3\n",
            "64\n"
          ],
          "name": "stdout"
        }
      ]
    },
    {
      "cell_type": "markdown",
      "metadata": {
        "id": "knvk0Pripli-"
      },
      "source": [
        "### 2\n",
        "\n",
        "Напишите программу, которая будет запрашивать на вход числа (каждое с новой строки) до тех пор, пока не будет введен ноль (0). На выход должно выводиться второе по величине значение."
      ]
    },
    {
      "cell_type": "code",
      "metadata": {
        "id": "kNlBPlIjpli_",
        "outputId": "c4ad6111-520f-4f16-f87f-bb8fe583c604"
      },
      "source": [
        "# если без метода sort, то\n",
        "list_1=[]\n",
        "list_2 =[]\n",
        "m = int(input('Введите число '))\n",
        "list_1.append(m)\n",
        "\n",
        "if m == 0:\n",
        "    print('ZERO')\n",
        "\n",
        "while m != 0:\n",
        "    m = int(input('Вы ввели не ноль '))\n",
        "    list_2.append(m)\n",
        "    list_all = list_1 + list_2\n",
        "\n",
        "for i in range(len(list_all)):\n",
        "    # первый элемент - меньший\n",
        "    lowest_value_index = i\n",
        "    # перебираем неотсортированные элементы\n",
        "    for j in range(i + 1, len(list_all)):\n",
        "        if list_all[j] < list_all[lowest_value_index]:\n",
        "            lowest_value_index = j\n",
        "# замена\n",
        "    list_all[i], list_all[lowest_value_index] = list_all[lowest_value_index], list_all[i]\n",
        "\n",
        "print(list_all)\n",
        "print(list_all[-2])"
      ],
      "execution_count": null,
      "outputs": [
        {
          "output_type": "stream",
          "text": [
            "Введите число 123\n",
            "Вы ввели не ноль 5454\n",
            "Вы ввели не ноль 674\n",
            "Вы ввели не ноль 1\n",
            "Вы ввели не ноль 2323\n",
            "Вы ввели не ноль 0\n",
            "[0, 1, 123, 674, 2323, 5454]\n",
            "2323\n"
          ],
          "name": "stdout"
        }
      ]
    },
    {
      "cell_type": "markdown",
      "metadata": {
        "id": "VdciZusGpljB"
      },
      "source": [
        "### 3\n",
        "\n",
        "Напишите программу, которая принимает на вход год, а на выход выдает количество дней в этом году."
      ]
    },
    {
      "cell_type": "code",
      "metadata": {
        "id": "VasdFmMNpljC",
        "outputId": "84927533-7bf5-418c-a478-1fff5ebcd1c6"
      },
      "source": [
        "#решал подобную задачу ранее)\n",
        "year = int(input(\"Введите год: \"))\n",
        " \n",
        "if year % 4 == 0:\n",
        "    if year % 100 == 0 and year % 400 != 0:\n",
        "        year = 365\n",
        "    else:\n",
        "        year = 366\n",
        "else:\n",
        "    year = 365\n",
        " \n",
        "print(\"Количество дней в году:\", year)"
      ],
      "execution_count": null,
      "outputs": [
        {
          "output_type": "stream",
          "text": [
            "Введите год: 2014\n",
            "Количество дней в году: 365\n"
          ],
          "name": "stdout"
        }
      ]
    },
    {
      "cell_type": "markdown",
      "metadata": {
        "id": "jAuf9TA-pljE"
      },
      "source": [
        "### 4\n",
        "\n",
        "Напишите программу, которая на вход получает координаты двух клеток шахматной доски и выводит соощение о том, являются ли эти клетки одного цвета."
      ]
    },
    {
      "cell_type": "code",
      "metadata": {
        "id": "5QWjZEl2pljE",
        "outputId": "c9e5fa1b-c8b6-4465-c313-c3b6e224ce28"
      },
      "source": [
        "coord1 = int(input('Введите координату по горизонтале первой клетки (от 1 до 8) '))\n",
        "coord2 = int(input('Введите координату по вертикале первой клетки (от 1 до 8) '))\n",
        "coord3 = int(input('Введите координату по горизонтале второй клетки (от 1 до 8) '))\n",
        "coord4 = int(input('Введите координату по вертикале второй клетки (от 1 до 8) '))\n",
        "   \n",
        "cell1 = (coord1 + coord2) % 2\n",
        "cell2 = (coord3 + coord4) % 2\n",
        "if cell1 == cell2:\n",
        "    print('Окрашены в один цвет')\n",
        "else:\n",
        "    print('Окрашены в разный цвет')"
      ],
      "execution_count": null,
      "outputs": [
        {
          "output_type": "stream",
          "text": [
            "Введите координату по горизонтале первой клетки (от 1 до 8) 1\n",
            "Введите координату по вертикале первой клетки (от 1 до 8) 2\n",
            "Введите координату по горизонтале второй клетки (от 1 до 8) 3\n",
            "Введите координату по вертикале второй клетки (от 1 до 8) 55\n",
            "Окрашены в разный цвет\n"
          ],
          "name": "stdout"
        }
      ]
    },
    {
      "cell_type": "markdown",
      "metadata": {
        "id": "h-ikKxW8pljG"
      },
      "source": [
        "### 5\n",
        "\n",
        "Напишите программу, которая на вход получает число, а на выходе сообщает, простое это число или составное."
      ]
    },
    {
      "cell_type": "code",
      "metadata": {
        "id": "ihOz-5j9pljH",
        "outputId": "a620ebee-6cad-4005-8b54-5c980c89836f"
      },
      "source": [
        "# это лишь только один из возможных алгоритмов поиска, формул и подходов очень много.\n",
        "\n",
        "n = int(input('input your number: '))\n",
        "\n",
        "if n % 2 != 0 or n // 2 == 1:\n",
        "    print('ввели целое')\n",
        "else:\n",
        "    print('составное')"
      ],
      "execution_count": null,
      "outputs": [
        {
          "output_type": "stream",
          "text": [
            "input your number: 46\n",
            "составное\n"
          ],
          "name": "stdout"
        }
      ]
    },
    {
      "cell_type": "markdown",
      "metadata": {
        "id": "3G6WAQPbpljJ"
      },
      "source": [
        "### 6\n",
        "\n",
        "Напишите программу, которая на вход получает целое число больше 2 и выводит по нему его наименьший натуральный делитель, отличный от 1."
      ]
    },
    {
      "cell_type": "code",
      "metadata": {
        "id": "PMfx4MhhpljK",
        "outputId": "ab52da94-0f34-48de-e233-13041aa44a58"
      },
      "source": [
        "# можно все в функцию обернуть но лучше через while\n",
        "n = int(input(\"введите целое число больше 2: \"))\n",
        "i = 2\n",
        "while n % i:\n",
        "    i += 1\n",
        "print(i)"
      ],
      "execution_count": null,
      "outputs": [
        {
          "output_type": "stream",
          "text": [
            "введите целое число больше 2: 33\n",
            "3\n"
          ],
          "name": "stdout"
        }
      ]
    },
    {
      "cell_type": "markdown",
      "metadata": {
        "id": "wGUqJFdlpljM"
      },
      "source": [
        "### 7\n",
        "\n",
        "Напишите программу, которая поможет составить план тренировок для подготовки к марафону. Она получает на вход число километров на планируемом марафоне, сколько пользователь планирует пробежать в первый день тренировок и на сколько процентов планирует увеличивать каждый день это расстояние. На выходе программа должна выдавать, сколько дней пользователю потребуется для того, чтобы подготовиться пробежать целевое количество километров."
      ]
    },
    {
      "cell_type": "code",
      "metadata": {
        "id": "GxD-3EurpljO",
        "outputId": "8aca82d0-4b35-4bb6-d26b-bb4c8836f16c"
      },
      "source": [
        "#получаем на вход данные и переводим в int\n",
        "distance = int(input('Количество км в марафоне: '))\n",
        "distance_first_day = int(input('Пробегу в первый день, км: '))\n",
        "increase = int(input('Прогресс, %: ')) * 0.01\n",
        "#находим прогресс по дням и объявляем результирующий лист\n",
        "m = distance_first_day * (1 + increase)\n",
        "list_days = []\n",
        "res = 0\n",
        "#проходим циклом по вводным и решаем условие \n",
        "while distance_first_day <= distance:\n",
        "    distance_first_day += m    \n",
        "    days = distance // distance_first_day\n",
        "    list_days.append(int(days))\n",
        "\n",
        "# решение без встроенной функции sum()    \n",
        "for x in list_days:\n",
        "    res += x\n",
        "\n",
        "print('Вам необходимо готовиться {} дней'. format(res))\n",
        "# print('Вам необходимо готовиться {} дней'. format(sum(list_days)))"
      ],
      "execution_count": null,
      "outputs": [
        {
          "output_type": "stream",
          "text": [
            "Количество км в марафоне: 42\n",
            "Пробегу в первый день, км: 5\n",
            "Прогресс, %: 5\n",
            "Вам необходимо готовиться 12 дней\n"
          ],
          "name": "stdout"
        }
      ]
    },
    {
      "cell_type": "markdown",
      "metadata": {
        "id": "kfYWrvFMpljT"
      },
      "source": [
        "### 8\n",
        "\n",
        "Напишите программу, которая на вход получает число n и считает по нему сумму 1²+2²+3²+...+n²."
      ]
    },
    {
      "cell_type": "code",
      "metadata": {
        "id": "FqdcneavpljU",
        "outputId": "adfd5119-268c-4f68-f551-bfaa7ce96230"
      },
      "source": [
        "#Мне ближе решать через список, но скорее всего предполагалось без списка)\n",
        "#num = int(input('input number '))\n",
        "#m = []\n",
        "#for i in range(1, num + 1):\n",
        "#    n = i ** 2\n",
        "#    m.append(n)\n",
        "\n",
        "#print(sum(m))\n",
        "\n",
        "\n",
        "#можно без списка\n",
        "num = int(input('input number '))\n",
        "n = 0\n",
        "sum_num = 0\n",
        "for i in range(1, num + 1):\n",
        "    n = i ** 2\n",
        "    sum_num += n\n",
        "\n",
        "print(sum_num)"
      ],
      "execution_count": null,
      "outputs": [
        {
          "output_type": "stream",
          "text": [
            "input number 100\n",
            "338350\n"
          ],
          "name": "stdout"
        }
      ]
    },
    {
      "cell_type": "markdown",
      "metadata": {
        "id": "9X47JpF0pljY"
      },
      "source": [
        "## 9\n",
        "\n",
        "Напишите программу, которая на вход получает число n и считает по нему сумму сумму 1! + 2! + 3! + ... + n!"
      ]
    },
    {
      "cell_type": "code",
      "metadata": {
        "id": "FMbt__Msplja",
        "outputId": "b6499d45-c412-4167-d770-048d44e6c86b"
      },
      "source": [
        "num = int(input('input number '))\n",
        "\n",
        "start_factorial = 1\n",
        "start_sum = 0\n",
        "for i in range(1, num + 1):\n",
        "    start_factorial *= i\n",
        "    start_sum += start_factorial\n",
        "print(start_sum)"
      ],
      "execution_count": null,
      "outputs": [
        {
          "output_type": "stream",
          "text": [
            "input number 100\n",
            "94269001683709979260859834124473539872070722613982672442938359305624678223479506023400294093599136466986609124347432647622826870038220556442336528920420940313\n"
          ],
          "name": "stdout"
        }
      ]
    },
    {
      "cell_type": "markdown",
      "metadata": {
        "id": "pvJcW_IGpljf"
      },
      "source": [
        "### 10\n",
        "\n",
        "Напишите программу, которая получает на вход последовательность чисел (каждое число с новой строки до того момента, пока пользователь не введет 0) и считает количество четных элементов в последовательности."
      ]
    },
    {
      "cell_type": "code",
      "metadata": {
        "id": "1SI4xAejpljg",
        "outputId": "6bc654d8-718e-469d-8dce-3cfa9946d3f1"
      },
      "source": [
        "even_number = -1\n",
        "i = -1\n",
        "while i != 0:\n",
        "    i = int(input('input number '))\n",
        "    if i % 2 == 0:\n",
        "        even_number += 1\n",
        "print('Четных элементов {}'.format(even_number))"
      ],
      "execution_count": null,
      "outputs": [
        {
          "output_type": "stream",
          "text": [
            "input number 45\n",
            "input number 56\n",
            "input number 22\n",
            "input number 33\n",
            "input number 11\n",
            "input number 44\n",
            "input number 0\n",
            "Четных элементов 3\n"
          ],
          "name": "stdout"
        }
      ]
    },
    {
      "cell_type": "markdown",
      "metadata": {
        "id": "kjZ5mZJPplji"
      },
      "source": [
        "### 11\n",
        "\n",
        "Напишите программу, которая формирует список игроков женской команды по футболу. Программа должна записывать возраст и пол претендента. Возраст должен запрашиваться после пола и только в том случае, если пол претендента женский. Если пол претендента мужской, программа должна сообщать о том, что он не подходит. Возраст претенденток должен быть от 18 до 35 лет. Если кандидат удовлетворяет требованиям, должно появляться соответствующее сообщение."
      ]
    },
    {
      "cell_type": "code",
      "metadata": {
        "id": "5Z7B5Ww4pljl",
        "outputId": "7ffe0166-dbc4-4053-d148-5cc5322e734a"
      },
      "source": [
        "sex = input('Sex (female / male): ')\n",
        "\n",
        "list_new = []\n",
        "\n",
        "if sex == 'female':\n",
        "    age = int(input('Age: '))\n",
        "    if 18 <= age <= 35:\n",
        "        name = input('Name ')\n",
        "        list_new.append(name)\n",
        "    else:\n",
        "        print('Age problem')\n",
        "else:\n",
        "    print('Gender problem')\n",
        "\n",
        "print(list_new)"
      ],
      "execution_count": null,
      "outputs": [
        {
          "output_type": "stream",
          "text": [
            "Sex (female / male): female\n",
            "Age: 34\n",
            "Name Anna\n",
            "['Anna']\n"
          ],
          "name": "stdout"
        }
      ]
    },
    {
      "cell_type": "markdown",
      "metadata": {
        "id": "p2a5qXs9pljn"
      },
      "source": [
        "### 12\n",
        "\n",
        "\n",
        "Напишите программу, которая на вход получает максимальную ширину ромба и рисует его.\n",
        " \n",
        "Пример вывода для числа 5:\n",
        "```  \n",
        "  *\n",
        " ***\n",
        "*****\n",
        " ***\n",
        "  *```"
      ]
    },
    {
      "cell_type": "code",
      "metadata": {
        "id": "ic8b0VlVpljo",
        "outputId": "26ee6e8f-230e-4e2b-da37-a960d42e65fd"
      },
      "source": [
        "s = int(input()) \n",
        "if s % 2 == 1:\n",
        "    for i in range(1, s, 2):\n",
        "        i = ' ' * ((s - i) // 2)  + '*' * i + ' ' * (s - i)\n",
        "        print(i)\n",
        "    for i in range(s, 0, -2):\n",
        "        i = ' ' * ((s - i) // 2)  + '*' * i + ' ' * (s - i)\n",
        "        print(i)"
      ],
      "execution_count": null,
      "outputs": [
        {
          "output_type": "stream",
          "text": [
            "5\n",
            "  *    \n",
            " ***  \n",
            "*****\n",
            " ***  \n",
            "  *    \n"
          ],
          "name": "stdout"
        }
      ]
    },
    {
      "cell_type": "markdown",
      "metadata": {
        "id": "_8da7_bVpljq"
      },
      "source": [
        "### 13\n",
        "\n",
        "Напишите программу, которая запрашивает у пользователя сторону квадрата и символ, а затем рисует этот символ по диагоналям квадрата.\n",
        " \n",
        "Пример вывода для числа 5:\n",
        "```\n",
        " \n",
        "#   #\n",
        " # #\n",
        "  #  \n",
        " # #\n",
        "#   #\n",
        "```"
      ]
    },
    {
      "cell_type": "code",
      "metadata": {
        "id": "ihscl-aRpljq",
        "outputId": "b1bee5ab-d16f-4c29-fc09-1a4a70675af1"
      },
      "source": [
        "n = int(input())\n",
        "m = input()\n",
        "\n",
        "for i in range(n):\n",
        "    for j in range(n):\n",
        "        if i == j or i == n - 1 - j:\n",
        "            print(m, end='')\n",
        "        else:\n",
        "            print(' ', end='')\n",
        "    print()"
      ],
      "execution_count": null,
      "outputs": [
        {
          "output_type": "stream",
          "text": [
            "5\n",
            "#\n",
            "#   #\n",
            " # # \n",
            "  #  \n",
            " # # \n",
            "#   #\n"
          ],
          "name": "stdout"
        }
      ]
    },
    {
      "cell_type": "markdown",
      "metadata": {
        "id": "CQSZ-7LVpljs"
      },
      "source": [
        "### 14\n",
        "\n",
        "В корзине лежат шары. Если раскладывать их группами по 2, 3, 4, 5, 6, в корзине остается один шар. Если разложить по 7 шаров, то в корзине не останется ничего.  <br>\n",
        "Какое минимальное количество шаров находится в корзине?"
      ]
    },
    {
      "cell_type": "code",
      "metadata": {
        "id": "gonUr7CYpljt",
        "outputId": "a93e218b-defe-4c78-92c0-db9c4cfba392"
      },
      "source": [
        "# Вызвала затруднение эта задача( \n",
        "# Решал так - предположим, что число шаров, удовлетворяющее условиям, не больше 1000. \n",
        "\n",
        "n = 7\n",
        "\n",
        "while n < 1000:\n",
        "    n += 7\n",
        "    if n % 2 == 1 and n % 3 == 1 and n % 4 == 1 and n % 5 == 1 and n % 6 == 1 and n % 7 == 0:\n",
        "        print('В корзине', n, 'шар')\n",
        "        break\n",
        "#     else:\n",
        "#         print('stop')"
      ],
      "execution_count": null,
      "outputs": [
        {
          "output_type": "stream",
          "text": [
            "В корзине 301 шар\n"
          ],
          "name": "stdout"
        }
      ]
    },
    {
      "cell_type": "markdown",
      "metadata": {
        "id": "hRdcAf23pljw"
      },
      "source": [
        "### 15\n",
        "\n",
        "Рабочие клеили обои на стены. Первую стену поклеили за M минут, а каждую следующую на 5 минут больше, чем предыдущую.\n",
        "Напишите программу, которая запрашивает сколько стен было в квартире под поклейку, а также время работы с первой стеной. Программа должна выводить, сколько **часов** рабочие потратили на поклейку обоев во всей квартире."
      ]
    },
    {
      "cell_type": "code",
      "metadata": {
        "id": "IpJDLsdWpljx",
        "outputId": "608fec6b-5c8d-45fe-a10b-b48742a85c56"
      },
      "source": [
        "# решение без функции sum()\n",
        "walls = int(input('Сколько стен '))\n",
        "minutes = (int(input('Сколько минут ')) - 5)\n",
        "m = []\n",
        "for i in range(walls):\n",
        "    minutes += 5\n",
        "    m.append(minutes)\n",
        "\n",
        "res = 0\n",
        "for x in m:\n",
        "    res += x\n",
        "\n",
        "hours = res // 60\n",
        "print('Будет затрачено', hours, 'часа')\n",
        "print('...или', res, 'минут')"
      ],
      "execution_count": null,
      "outputs": [
        {
          "output_type": "stream",
          "text": [
            "Сколько стен 5\n",
            "Сколько минут 40\n",
            "Будет затрачено 4 часа\n",
            "...или 250 минут\n"
          ],
          "name": "stdout"
        }
      ]
    },
    {
      "cell_type": "markdown",
      "metadata": {
        "id": "xumjalNLpljz"
      },
      "source": [
        "### 16\n",
        "\n",
        "Напишите программу, которая убирает из списка повторяющиеся элементы. Программа должна запрашивать на вход слова, каждое с новой строки, пока пользователь не введет пустую строку. Затем должна выводить список без повторяющихся элементов. "
      ]
    },
    {
      "cell_type": "code",
      "metadata": {
        "id": "tO5aW8lFpljz",
        "outputId": "c8f9ffc3-985c-41e1-a0a8-66a2643ee756"
      },
      "source": [
        "# решение без использование set()\n",
        "\n",
        "lst = []\n",
        "i = 0\n",
        "\n",
        "while i != '':\n",
        "    i = input('input word ')\n",
        "    lst.append(i)\n",
        "    \n",
        "lst.remove('')\n",
        "lst_without_duplicates = []\n",
        "\n",
        "for i in lst:\n",
        "    if i not in lst_without_duplicates:\n",
        "        lst_without_duplicates.append(i)\n",
        "\n",
        "lst = lst_without_duplicates\n",
        "# print(list(set(lst)))\n",
        "print(lst)\n"
      ],
      "execution_count": null,
      "outputs": [
        {
          "output_type": "stream",
          "text": [
            "input word dlfm\n",
            "input word dfdk\n",
            "input word dd\n",
            "input word dd\n",
            "input word ff\n",
            "input word ff\n",
            "input word \n",
            "['dlfm', 'dfdk', 'dd', 'ff']\n"
          ],
          "name": "stdout"
        }
      ]
    },
    {
      "cell_type": "markdown",
      "metadata": {
        "id": "fgVKtqi9plj2"
      },
      "source": [
        "### 17\n",
        "\n",
        "Напишите программу, которая выводит число пар одинаковых элементов в списке. Программа должна запрашивать на вход слова, каждое с новой строки, пока пользователь не введет пустую строку. "
      ]
    },
    {
      "cell_type": "code",
      "metadata": {
        "id": "oEhAs2MYplj3",
        "outputId": "b347295c-37c9-49d0-be40-b68244ffb2f0"
      },
      "source": [
        "# решение без использования count()\n",
        "lst = []\n",
        "i = 0\n",
        "# par = 0\n",
        "while i != '':\n",
        "    i = input('input word ')\n",
        "    lst.append(i)\n",
        "#     if lst.count(i) == 2:\n",
        "#         par += 1\n",
        "    \n",
        "lst.remove('')\n",
        "# print(par)\n",
        "\n",
        "res = 0\n",
        "for i in range(len(lst)):\n",
        "    for j in range(i + 1, len(lst)):\n",
        "        if lst[i] == lst[j]:\n",
        "            res += 1\n",
        "\n",
        "print('Количество пар: ', res)"
      ],
      "execution_count": null,
      "outputs": [
        {
          "output_type": "stream",
          "text": [
            "input word ee\n",
            "input word rr\n",
            "input word tt\n",
            "input word yy\n",
            "input word uu\n",
            "input word ee\n",
            "input word tt\n",
            "input word yy\n",
            "input word \n",
            "Количество пар:  3\n"
          ],
          "name": "stdout"
        }
      ]
    },
    {
      "cell_type": "markdown",
      "metadata": {
        "id": "XjjMpEvHplj7"
      },
      "source": [
        "### 18\n",
        "\n",
        "Будем считать, что кубик может иметь неограниченное количество граней (натуральное число). Напишите программу, которая запрашивает, сколько граней имеется у двух разных кубиков. Затем выводит все возможные комбинации результатов бросков двух таких кубиков. "
      ]
    },
    {
      "cell_type": "code",
      "metadata": {
        "id": "cUKQo6ZLTCcD",
        "outputId": "8eac41b2-9b0e-492f-f531-91343b6c4d8b"
      },
      "source": [
        "#Если граней у кубов одинаковое количество то можно решить через факториал\n",
        "first_cube = int(input('Количество граней: '))\n",
        "result = 1\n",
        "for i in range(2, first_cube + 1):\n",
        "    result *= i\n",
        "\n",
        "print('все возможные комбинации результатов бросков двух таких кубиков', result * 2)\n",
        "    \n"
      ],
      "execution_count": null,
      "outputs": [
        {
          "output_type": "stream",
          "text": [
            "Количество граней: 6\n",
            "все возможные комбинации результатов бросков двух таких кубиков 1440\n"
          ],
          "name": "stdout"
        }
      ]
    }
  ]
}