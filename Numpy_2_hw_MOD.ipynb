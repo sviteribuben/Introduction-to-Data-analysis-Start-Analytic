{
  "nbformat": 4,
  "nbformat_minor": 0,
  "metadata": {
    "kernelspec": {
      "display_name": "Python 3",
      "language": "python",
      "name": "python3"
    },
    "language_info": {
      "codemirror_mode": {
        "name": "ipython",
        "version": 3
      },
      "file_extension": ".py",
      "mimetype": "text/x-python",
      "name": "python",
      "nbconvert_exporter": "python",
      "pygments_lexer": "ipython3",
      "version": "3.7.6"
    },
    "colab": {
      "name": "Numpy_2_hw_MOD.ipynb",
      "provenance": [],
      "collapsed_sections": [],
      "include_colab_link": true
    }
  },
  "cells": [
    {
      "cell_type": "markdown",
      "metadata": {
        "id": "view-in-github",
        "colab_type": "text"
      },
      "source": [
        "<a href=\"https://colab.research.google.com/github/sviteribuben/skillbox/blob/master/Numpy_2_hw_MOD.ipynb\" target=\"_parent\"><img src=\"https://colab.research.google.com/assets/colab-badge.svg\" alt=\"Open In Colab\"/></a>"
      ]
    },
    {
      "cell_type": "markdown",
      "metadata": {
        "id": "vJTa1zXZfqjE"
      },
      "source": [
        "# Библиотека `NumPy`: часть 2\n",
        "\n",
        "*Алла Тамбовцева*\n",
        "\n",
        "## Домашнее задание \n",
        "\n",
        "### Описание домашнего задания и формат сдачи\n",
        "\n",
        "В домашнем задании необходимо решить предложенные задачи по программированию – вписать свой код в ячейки после условий задач вместо комментария `### YOUR CODE HERE ###` в файле *homework-numpy2.ipynb* и сохранить изменения, используя опцию *Save and Checkpoint* из вкладки меню *File* или кнопку *Save and Checkpoint* на панели инструментов. Итоговый файл в формате `.ipynb` (файл Jupyter Notebook) необходимо загрузить в личный кабинет обучающей онлайн платформы Skillbox (https://go.skillbox.ru/) и отправить на проверку."
      ]
    },
    {
      "cell_type": "markdown",
      "metadata": {
        "id": "SeaEAgI-fqjM"
      },
      "source": [
        "### Задание 1\n",
        "Загрузить из файла `array_hw.npy` массив и сохранить его как `arr`. Массив содержит объёмы продаж мороженого (в штуках) в 5 магазинах за одну неделю в июне (7 дней, с понедельника до воскресенья). В заданиях 2-5 нужно работать с массивом `arr`."
      ]
    },
    {
      "cell_type": "code",
      "metadata": {
        "id": "sz0es7G_fqjM",
        "outputId": "50dfd91f-8426-40a8-fe94-49b695d9071e"
      },
      "source": [
        "import numpy as np\n",
        "arr = np.load('array_hw.npy')\n",
        "arr"
      ],
      "execution_count": null,
      "outputs": [
        {
          "output_type": "execute_result",
          "data": {
            "text/plain": [
              "array([[100,  80,  70,  60, 120],\n",
              "       [ 65,  55,  20,  50,  60],\n",
              "       [ 80,  90,  75,  80,  60],\n",
              "       [ 45,  60,  70,  20,  40],\n",
              "       [ 82,  47,  56,  89,  92],\n",
              "       [115, 120, 113, 106, 107],\n",
              "       [ 46,  74,  23,  34,  19]], dtype=int64)"
            ]
          },
          "metadata": {
            "tags": []
          },
          "execution_count": 1
        }
      ]
    },
    {
      "cell_type": "markdown",
      "metadata": {
        "id": "MjD1_9qWfqjO"
      },
      "source": [
        "### Задание 2\n",
        "Если думать о массиве `arr` как о таблице, сейчас в таблице магазины идут по столбцам (1 магазин = 1 столбец, всего 5), а дни – по строкам (1 день = 1 строка, всего 7). Преобразовать массив `arr` таким образом, чтобы по строкам шли магазины, а по столбцам – дни (1 строка = 1 магазин). Сохранить изменения. Проверить, что форма массива изменилась."
      ]
    },
    {
      "cell_type": "code",
      "metadata": {
        "id": "uvccTXvrfqjO",
        "outputId": "a1a335b1-d66f-419f-cb61-d3a37247326a"
      },
      "source": [
        "arrt = arr.T\n",
        "# arrt.shape\n",
        "arrt"
      ],
      "execution_count": null,
      "outputs": [
        {
          "output_type": "execute_result",
          "data": {
            "text/plain": [
              "array([[100,  65,  80,  45,  82, 115,  46],\n",
              "       [ 80,  55,  90,  60,  47, 120,  74],\n",
              "       [ 70,  20,  75,  70,  56, 113,  23],\n",
              "       [ 60,  50,  80,  20,  89, 106,  34],\n",
              "       [120,  60,  60,  40,  92, 107,  19]], dtype=int64)"
            ]
          },
          "metadata": {
            "tags": []
          },
          "execution_count": 2
        }
      ]
    },
    {
      "cell_type": "markdown",
      "metadata": {
        "id": "UvwOLf7NfqjP"
      },
      "source": [
        "### Задание 3\n",
        "\n",
        "Давайте представим, что информация по продажам обновилась: оказалось, что пятый магазин в воскресенье продал не 19 порций мороженого, а 25, и второй магазин продал во вторник не 55 порций, а 65. Изменить массив `arr` в соответствии с этой информацией."
      ]
    },
    {
      "cell_type": "code",
      "metadata": {
        "id": "xrKsdQ6KfqjP",
        "outputId": "c06f6457-1efe-48ab-e980-100ce572dfc1"
      },
      "source": [
        "arrt[4, 6] = 25\n",
        "arrt[1, 1] = 65\n",
        "arrt"
      ],
      "execution_count": null,
      "outputs": [
        {
          "output_type": "execute_result",
          "data": {
            "text/plain": [
              "array([[100,  65,  80,  45,  82, 115,  46],\n",
              "       [ 80,  65,  90,  60,  47, 120,  74],\n",
              "       [ 70,  20,  75,  70,  56, 113,  23],\n",
              "       [ 60,  50,  80,  20,  89, 106,  34],\n",
              "       [120,  60,  60,  40,  92, 107,  25]], dtype=int64)"
            ]
          },
          "metadata": {
            "tags": []
          },
          "execution_count": 3
        }
      ]
    },
    {
      "cell_type": "markdown",
      "metadata": {
        "id": "WplhRJd2fqjQ"
      },
      "source": [
        "### Задание 4\n",
        "\n",
        "Посчитать суммарный объём продаж мороженого по всем магазинам."
      ]
    },
    {
      "cell_type": "code",
      "metadata": {
        "id": "nJt6aO7KfqjQ",
        "outputId": "9d5e47fe-0c89-48fa-d8f9-d3e00a1c82de"
      },
      "source": [
        "arrt.sum()"
      ],
      "execution_count": null,
      "outputs": [
        {
          "output_type": "execute_result",
          "data": {
            "text/plain": [
              "2439"
            ]
          },
          "metadata": {
            "tags": []
          },
          "execution_count": 4
        }
      ]
    },
    {
      "cell_type": "markdown",
      "metadata": {
        "id": "I3kcTozffqjQ"
      },
      "source": [
        "### Задание 5\n",
        "\n",
        "Выгрузить обновлённый массив `arr` в txt-файл. Сам txt-файл загружать в систему не нужно, только написать соответствующий код в ipynb-файл."
      ]
    },
    {
      "cell_type": "code",
      "metadata": {
        "id": "iw6YwdXUfqjR"
      },
      "source": [
        "np.savetxt('arrt.txt', arrt)"
      ],
      "execution_count": null,
      "outputs": []
    },
    {
      "cell_type": "markdown",
      "metadata": {
        "id": "Fc3uHc0ZfqjR"
      },
      "source": [
        "### Задание 6\n",
        "Дан массив `income`, содержащий значения прибыли магазина в тысячах на начало, середину и конец года, за четыре года подряд (значения никак не сгруппированы, можно считать, что они так выгрузились из файла). \n",
        "Изменить форму массива так, чтобы значения были сгруппированы по три значения в каждом списке внутри массива (прибыль на начало, середину и конец года)."
      ]
    },
    {
      "cell_type": "code",
      "metadata": {
        "id": "gLZYY-ZJfqjR"
      },
      "source": [
        "# массив\n",
        "income = np.array([1000, 2000, 3500, \n",
        "                   2500, 1500, 3800, \n",
        "                   1200, 9000, 12000,\n",
        "                   4500, 6700, 11000])"
      ],
      "execution_count": null,
      "outputs": []
    },
    {
      "cell_type": "code",
      "metadata": {
        "id": "7NvtRd9dfqjS",
        "outputId": "94526567-f654-4af5-8fc2-811b87838f35"
      },
      "source": [
        "income_group = income.reshape(4, 3)\n",
        "income_group"
      ],
      "execution_count": null,
      "outputs": [
        {
          "output_type": "execute_result",
          "data": {
            "text/plain": [
              "array([[ 1000,  2000,  3500],\n",
              "       [ 2500,  1500,  3800],\n",
              "       [ 1200,  9000, 12000],\n",
              "       [ 4500,  6700, 11000]])"
            ]
          },
          "metadata": {
            "tags": []
          },
          "execution_count": 7
        }
      ]
    },
    {
      "cell_type": "markdown",
      "metadata": {
        "id": "2p0084hmfqjS"
      },
      "source": [
        "### Задание 7\n",
        "Создать список `turnout` (*list*, не массив), содержащий следующие значения явки на избирательные участки в процентах:\n",
        "\n",
        "23.56, 45.78, 34.92, 57.34, 56.55, 67.23.\n",
        "\n",
        "Создать, используя списковые включения и встроенные, не из `NumPy`, функции для округления, новый список `turnout_r`, который состоит из округлённых до первого знака после запятой значений явки из `turnout`."
      ]
    },
    {
      "cell_type": "code",
      "metadata": {
        "id": "sv15UPVxfqjS",
        "outputId": "5203f5d9-926a-42db-fb2f-9ff384ac61f1"
      },
      "source": [
        "turnout = [23.56, 45.78, 34.92, 57.34, 56.55, 67.23]\n",
        "turnout_r = [ round(i, 1) for i in turnout ]\n",
        "turnout_r"
      ],
      "execution_count": null,
      "outputs": [
        {
          "output_type": "execute_result",
          "data": {
            "text/plain": [
              "[23.6, 45.8, 34.9, 57.3, 56.5, 67.2]"
            ]
          },
          "metadata": {
            "tags": []
          },
          "execution_count": 8
        }
      ]
    },
    {
      "cell_type": "markdown",
      "metadata": {
        "id": "9cDcWI_YfqjT"
      },
      "source": [
        "### Задание 8\n",
        "Выполнить те же операции, что и в предыдущей задаче, но с использованием массивов и функций `NumPy`. Другими словами, создать массив `turnout` и на его основе создать массив `turnout_r` с округлёнными до первого знака значениями явки."
      ]
    },
    {
      "cell_type": "code",
      "metadata": {
        "id": "Ok80r2_5fqjT",
        "outputId": "e39a0ece-1998-46a0-a758-da4917d84774"
      },
      "source": [
        "turnout = np.array([23.56, 45.78, 34.92, 57.34, 56.55, 67.23]) \n",
        "turnout_r = turnout.round(1)\n",
        "# turnout_r\n",
        "print(turnout_r)"
      ],
      "execution_count": null,
      "outputs": [
        {
          "output_type": "stream",
          "text": [
            "[23.6 45.8 34.9 57.3 56.6 67.2]\n"
          ],
          "name": "stdout"
        }
      ]
    },
    {
      "cell_type": "markdown",
      "metadata": {
        "id": "Y512bxvRfqjT"
      },
      "source": [
        "### Задание 9\n",
        "\n",
        "Зайдите на [страницу](https://ru.wikipedia.org/wiki/%D0%9C%D0%B5%D0%B6%D0%B4%D1%83%D0%BD%D0%B0%D1%80%D0%BE%D0%B4%D0%BD%D1%8B%D0%B9_%D0%B8%D0%BD%D0%B4%D0%B5%D0%BA%D1%81_%D1%81%D1%87%D0%B0%D1%81%D1%82%D1%8C%D1%8F) Википедии, посвящённую Международному индексу счастья, выберите из таблицы **2012 Международный индекс счастья** любые 5 стран и любые 3 показателя и создайте структурированный массив `happy`, такой, в котором есть поле «название страны» и поля для трёх выбранных показателей. Выберите подходящий тип для каждого поля (показателя) в массиве и учтите это при создание структурированного массива. Выведите полученный массив на экран."
      ]
    },
    {
      "cell_type": "code",
      "metadata": {
        "id": "HJXUAzeWfqjU",
        "outputId": "89f4d49e-6026-4667-e629-1faaab893317"
      },
      "source": [
        "happy = np.array([('Норвегия', 7.6, 29), ('Венесуэла', 7.5, 9), ('Швейцария', 7.5, 34), ('Коста-Рика', 7.3, 1), ('Куба', 5.4, 12) ], \n",
        "                 dtype = [('название страны', 'U50'), ('Удовлетворенность жизнью', float), ('Место в рейтинге', int)])\n",
        "happy\n",
        "# print(happy)"
      ],
      "execution_count": null,
      "outputs": [
        {
          "output_type": "execute_result",
          "data": {
            "text/plain": [
              "array([('Норвегия', 7.6, 29), ('Венесуэла', 7.5,  9),\n",
              "       ('Швейцария', 7.5, 34), ('Коста-Рика', 7.3,  1), ('Куба', 5.4, 12)],\n",
              "      dtype=[('название страны', '<U50'), ('Удовлетворенность жизнью', '<f8'), ('Место в рейтинге', '<i4')])"
            ]
          },
          "metadata": {
            "tags": []
          },
          "execution_count": 10
        }
      ]
    },
    {
      "cell_type": "markdown",
      "metadata": {
        "id": "cLkte1fNfqjU"
      },
      "source": [
        "### Задание 10\n",
        "Сконвертируйте полученный в предыдущей задаче структурированный массив в обычный список и выведите на экран его второй элемент."
      ]
    },
    {
      "cell_type": "code",
      "metadata": {
        "id": "WKTZvDSUfqjU",
        "outputId": "2cbdf803-9c91-456b-f768-2c9b19c44905"
      },
      "source": [
        "print(happy)\n",
        "print('--------------')\n",
        "happy[1]"
      ],
      "execution_count": null,
      "outputs": [
        {
          "output_type": "stream",
          "text": [
            "[('Норвегия', 7.6, 29) ('Венесуэла', 7.5,  9) ('Швейцария', 7.5, 34)\n",
            " ('Коста-Рика', 7.3,  1) ('Куба', 5.4, 12)]\n",
            "--------------\n"
          ],
          "name": "stdout"
        },
        {
          "output_type": "execute_result",
          "data": {
            "text/plain": [
              "('Венесуэла', 7.5, 9)"
            ]
          },
          "metadata": {
            "tags": []
          },
          "execution_count": 11
        }
      ]
    },
    {
      "cell_type": "markdown",
      "metadata": {
        "id": "2ewj7hyHfqjV"
      },
      "source": [
        ".<br> .<br> .<br> .<br> .<br> .<br> .<br> .<br> .<br> .<br> .<br> .<br> .<br> .<br> .<br> .<br> .<br> .<br> \n",
        "# Дополнительное (необязательное) задание.\n",
        "<br>"
      ]
    },
    {
      "cell_type": "markdown",
      "metadata": {
        "id": "uplaYklo0zrv"
      },
      "source": [
        "### Задание 1\n",
        "\n",
        "Написать функцию `build_array()`, которая принимает на вход размерность квадратной матрицы (двумерного массива, в котором число строк и число столбцов совпадают) и создаёт единичную матрицу `E` (массив) соответствующей размерности. Использовать готовую функцию `np.eye()` нельзя, можно использовать циклы и условные конструкции.\n",
        "\n",
        "**Пример:**\n",
        "\n",
        "Ввод:\n",
        "\n",
        "    build_array(4)\n",
        "\n",
        "Вывод:\n",
        "\n",
        "    array([[1., 0., 0., 0.],\n",
        "       [0., 1., 0., 0.],\n",
        "       [0., 0., 1., 0.],\n",
        "       [0., 0., 0., 1.]])\n",
        "       \n",
        "**Подсказка:** про циклы, условные конструкции, функции и двумерные массивы можно почитать в соответствующих разделах pythontutor.ru: [цикл for](http://pythontutor.ru/lessons/for_loop/), [условия](http://pythontutor.ru/lessons/ifelse/), [функции](http://pythontutor.ru/lessons/functions/) и [массивы](http://pythontutor.ru/lessons/2d_arrays/)."
      ]
    },
    {
      "cell_type": "code",
      "metadata": {
        "id": "saSGBa2N0zrw",
        "outputId": "c93ca9f7-5d4f-4fcb-d5a5-aaea957085b6"
      },
      "source": [
        "def build_array(size=None):\n",
        "    arr = [[0] * size for i in range(size)] #генерируем массив нулями\n",
        "    for i in range(size): #проходим рэнжем по всем спискам\n",
        "        arr[i][i] = 1 \n",
        "        for j in range(i + 1, i):\n",
        "            arr[i][j] = 0\n",
        "    return np.array(arr)\n",
        "\n",
        "build_array(size=5)"
      ],
      "execution_count": null,
      "outputs": [
        {
          "output_type": "execute_result",
          "data": {
            "text/plain": [
              "array([[1, 0, 0, 0, 0],\n",
              "       [0, 1, 0, 0, 0],\n",
              "       [0, 0, 1, 0, 0],\n",
              "       [0, 0, 0, 1, 0],\n",
              "       [0, 0, 0, 0, 1]])"
            ]
          },
          "metadata": {
            "tags": []
          },
          "execution_count": 12
        }
      ]
    },
    {
      "cell_type": "markdown",
      "metadata": {
        "id": "jgutn2Sj0zr1"
      },
      "source": [
        "### Задание 2\n",
        "\n",
        "Напишите функцию `my_reshape()`, которая принимает на вход массив и его новую размерность (пару чисел), и:\n",
        "\n",
        "* если указанные измерения корректны, то возвращает массив новой размерности;\n",
        "* если указанные измерения некорректны, то возвращает пустой массив (пример: из массива 2×5 нельзя сделать новый массив 4×3, потому что в старом массиве 10 элементов, а в новом – 12).\n",
        "\n",
        "**Пример:**\n",
        "\n",
        "Ввод:\n",
        "\n",
        "    A = np.array([[2, 4, 6], \n",
        "            [4, 8, 10]])\n",
        "\n",
        "    my_reshape(A, 6, 1)\n",
        "\n",
        "Вывод:\n",
        "\n",
        "    array([[2], \n",
        "       [4], \n",
        "       [6], \n",
        "       [4], \n",
        "       [8],\n",
        "       [10]])\n",
        "\n",
        "Ввод:\n",
        "\n",
        "    A = np.array([[2, 4, 6], \n",
        "            [4, 8, 10]])\n",
        "\n",
        "    my_reshape(A, 4, 2)\n",
        "\n",
        "Вывод:\n",
        "\n",
        "    array([])\n",
        "\n",
        "**Примечание:** результаты в выводе могут визуально отличаться (выводиться без переносов по строкам, с указанием типа данных), это нормально, примеры модифицированы для читаемости.\n",
        "\n",
        "**Подсказка:** см. материалы, предложенные в задаче 1."
      ]
    },
    {
      "cell_type": "code",
      "metadata": {
        "id": "BARsZ6SU0zr1",
        "outputId": "627d6db4-d8f1-4247-e841-55f51745bb76"
      },
      "source": [
        "def my_reshape(A, i, j):\n",
        "    '''Проверяем строки и столбцы'''\n",
        "    if A.shape[0] * A.shape[1] == i * j:\n",
        "        A = np.resize(A, (i, j))\n",
        "        print(f'array({A})')\n",
        "    else:\n",
        "        print('array([])')\n",
        "\n",
        "A = np.array([[2, 4, 6], \n",
        "        [4, 8, 10]])\n",
        "my_reshape(A, 6, 1)"
      ],
      "execution_count": null,
      "outputs": [
        {
          "output_type": "stream",
          "text": [
            "array([[ 2]\n",
            " [ 4]\n",
            " [ 6]\n",
            " [ 4]\n",
            " [ 8]\n",
            " [10]])\n"
          ],
          "name": "stdout"
        }
      ]
    },
    {
      "cell_type": "code",
      "metadata": {
        "id": "JfO2BuiVfqjW"
      },
      "source": [
        ""
      ],
      "execution_count": null,
      "outputs": []
    }
  ]
}