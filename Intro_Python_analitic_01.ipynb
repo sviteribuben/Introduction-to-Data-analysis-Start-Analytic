{
  "nbformat": 4,
  "nbformat_minor": 0,
  "metadata": {
    "kernelspec": {
      "display_name": "Python 3",
      "language": "python",
      "name": "python3"
    },
    "language_info": {
      "codemirror_mode": {
        "name": "ipython",
        "version": 3
      },
      "file_extension": ".py",
      "mimetype": "text/x-python",
      "name": "python",
      "nbconvert_exporter": "python",
      "pygments_lexer": "ipython3",
      "version": "3.7.3"
    },
    "colab": {
      "name": "Intro_Python_analitic_01.ipynb",
      "provenance": [],
      "collapsed_sections": [],
      "include_colab_link": true
    }
  },
  "cells": [
    {
      "cell_type": "markdown",
      "metadata": {
        "id": "view-in-github",
        "colab_type": "text"
      },
      "source": [
        "<a href=\"https://colab.research.google.com/github/sviteribuben/skillbox/blob/master/Intro_Python_analitic_01.ipynb\" target=\"_parent\"><img src=\"https://colab.research.google.com/assets/colab-badge.svg\" alt=\"Open In Colab\"/></a>"
      ]
    },
    {
      "cell_type": "markdown",
      "metadata": {
        "id": "aeFhVxydPV09"
      },
      "source": [
        "# Введение в Python\n",
        "\n",
        "*Алла Тамбовцева*\n",
        "\n",
        "## Домашнее задание"
      ]
    },
    {
      "cell_type": "markdown",
      "metadata": {
        "id": "tPBEQIkjPV1E"
      },
      "source": [
        "В домашнем задании необходимо решить предложенные задачи по программированию – вписать\n",
        "свой код в ячейки после условий задач вместо комментария ### YOUR CODE HERE ### в файле\n",
        "homework1.ipynb и сохранить изменения, используя опцию Save and Checkpoint из вкладки меню\n",
        "File или кнопку Save and Checkpoint на панели инструментов. Итоговый файл в формате .ipynb\n",
        "(файл Jupyter Notebook) необходимо загрузить в личный кабинет обучающей онлайн платформы\n",
        "Skillbox (https://go.skillbox.ru/) и отправить на проверку.\n",
        "Во всех задачах под входными данными подразумевается то, что ввёл пользователь (с клавиатуры\n",
        "или просто сохранил в переменную), под выходными данными – результат исполнения кода.\n",
        "Программа здесь – строки кода, необходимые для выполнения задачи и выдачи результатов на\n",
        "экран. <br><br>\n",
        "В задачах понадобится запрашивать какую-то информацию у пользователя с клавиатуры. Для этого нужно использовать функцию `input()`, примеры использования которой были приведены в видео-уроках."
      ]
    },
    {
      "cell_type": "markdown",
      "metadata": {
        "id": "ZCiZ2WvUPV1F"
      },
      "source": [
        "### Задача 1\n",
        "\n",
        "Вычислите в Python:\n",
        "    \n",
        "$9^2 + 6^4$;\n",
        "\n",
        "$\\log(54)$ (натуральный логарифм);\n",
        "\n",
        "$\\sqrt{8} - \\sqrt{12}$;\n",
        "\n",
        "$\\sin(45) + \\cos(45)$."
      ]
    },
    {
      "cell_type": "code",
      "metadata": {
        "scrolled": true,
        "colab": {
          "base_uri": "https://localhost:8080/"
        },
        "id": "BtDhqDQMPV1G",
        "outputId": "ecb261da-dc58-486f-e882-6317202421fd"
      },
      "source": [
        "9 ** 2 + 6 ** 4"
      ],
      "execution_count": 1,
      "outputs": [
        {
          "output_type": "execute_result",
          "data": {
            "text/plain": [
              "1377"
            ]
          },
          "metadata": {
            "tags": []
          },
          "execution_count": 1
        }
      ]
    },
    {
      "cell_type": "code",
      "metadata": {
        "colab": {
          "base_uri": "https://localhost:8080/"
        },
        "id": "_Z-Bmn1mPV1H",
        "outputId": "6a6a8432-8d5e-4d17-cb93-e8322c33a2f1"
      },
      "source": [
        "import math\n",
        "\n",
        "math.log(54) # Натуральный логорифм"
      ],
      "execution_count": 2,
      "outputs": [
        {
          "output_type": "execute_result",
          "data": {
            "text/plain": [
              "3.9889840465642745"
            ]
          },
          "metadata": {
            "tags": []
          },
          "execution_count": 2
        }
      ]
    },
    {
      "cell_type": "code",
      "metadata": {
        "colab": {
          "base_uri": "https://localhost:8080/"
        },
        "id": "OJ_7tDCwPV1I",
        "outputId": "ac8b1591-fc09-499b-94fb-2615175eec55"
      },
      "source": [
        "# Извлечение квадратного корня с помощью модуля math\n",
        "math.sqrt(8) - math.sqrt(12)"
      ],
      "execution_count": 3,
      "outputs": [
        {
          "output_type": "execute_result",
          "data": {
            "text/plain": [
              "-0.6356744903915641"
            ]
          },
          "metadata": {
            "tags": []
          },
          "execution_count": 3
        }
      ]
    },
    {
      "cell_type": "code",
      "metadata": {
        "colab": {
          "base_uri": "https://localhost:8080/"
        },
        "id": "FZxskZl-PV1I",
        "outputId": "3d589fc6-3c3c-4d2e-8d3a-7384c05c8e5e"
      },
      "source": [
        "# Извлечение квадратного корня средствами Python\n",
        "8 ** (1 / 2) - 12 ** (1 / 2)"
      ],
      "execution_count": 4,
      "outputs": [
        {
          "output_type": "execute_result",
          "data": {
            "text/plain": [
              "-0.6356744903915641"
            ]
          },
          "metadata": {
            "tags": []
          },
          "execution_count": 4
        }
      ]
    },
    {
      "cell_type": "code",
      "metadata": {
        "colab": {
          "base_uri": "https://localhost:8080/"
        },
        "id": "G_hFgizHPV1I",
        "outputId": "46fb1548-41ca-43d1-bb38-7260742b319d"
      },
      "source": [
        "from math import sin, cos\n",
        "\n",
        "sin(45) + cos(45)"
      ],
      "execution_count": 6,
      "outputs": [
        {
          "output_type": "execute_result",
          "data": {
            "text/plain": [
              "1.3762255133518482"
            ]
          },
          "metadata": {
            "tags": []
          },
          "execution_count": 6
        }
      ]
    },
    {
      "cell_type": "markdown",
      "metadata": {
        "id": "LeR-ngGbPV1J"
      },
      "source": [
        "### Задача 2\n",
        "\n",
        "Напишите программу, которая запрашивает у пользователя размер обуви, а выводит на экран размер скальных туфель (туфли для скалолазания), учитывая, что обычно размер скальных туфель на 2 размера меньше обычного.\n",
        "\n",
        "**Пример работы программы:**\n",
        "\n",
        "*Входные данные*\n",
        "\n",
        "    38\n",
        "\n",
        "*Выходные данные*\n",
        "\n",
        "    36"
      ]
    },
    {
      "cell_type": "code",
      "metadata": {
        "colab": {
          "base_uri": "https://localhost:8080/"
        },
        "id": "h_RHcTEbPV1J",
        "outputId": "75041822-409d-4bee-a96d-282d3bcc3abf"
      },
      "source": [
        "user_size = int(input(\"Введите размер обуви: \"))\n",
        "\n",
        "print(\"Вам подойдут скальные туфли\", user_size - 2, \"размера\")\n"
      ],
      "execution_count": 7,
      "outputs": [
        {
          "output_type": "stream",
          "text": [
            "Введите размер обуви: 38\n",
            "Вам подойдут скальные туфли 36 размера\n"
          ],
          "name": "stdout"
        }
      ]
    },
    {
      "cell_type": "markdown",
      "metadata": {
        "id": "TAPAX_ewPV1J"
      },
      "source": [
        "### Задача 3\n",
        "\n",
        "Тест по английскому языку состоит из трёх частей. Ученик последовательно вводит с клавиатуры набранные баллы за каждую часть – три целых числа. Каждое число вводится на отдельной строке, то есть `input()` запрашивается три раза. Напишите программу, которая считает итоговый балл за тест – сумму баллов за три части.\n",
        "\n",
        "**Пример работы программы:**\n",
        "\n",
        "*Входные данные*\n",
        "\n",
        "    5\n",
        "    4\n",
        "    6\n",
        "    \n",
        "*Выходные данные*\n",
        "\n",
        "    15"
      ]
    },
    {
      "cell_type": "code",
      "metadata": {
        "colab": {
          "base_uri": "https://localhost:8080/"
        },
        "id": "Va4L-D__PV1K",
        "outputId": "1b3878c4-e5b8-4f37-96e8-da8fb3b45475"
      },
      "source": [
        "first_part = int(input(\"Балл за первую часть: \"))\n",
        "second_part = int(input(\"Балл за вторую часть: \"))\n",
        "third_part = int(input(\"Балл за третью часть: \"))\n",
        "summary = first_part + second_part + third_part\n",
        "print()\n",
        "print('Ваш суммарный балл:', summary)\n"
      ],
      "execution_count": 8,
      "outputs": [
        {
          "output_type": "stream",
          "text": [
            "Балл за первую часть: 5\n",
            "Балл за вторую часть: 4\n",
            "Балл за третью часть: 6\n",
            "\n",
            "Ваш суммарный балл: 15\n"
          ],
          "name": "stdout"
        }
      ]
    },
    {
      "cell_type": "markdown",
      "metadata": {
        "id": "1VdL6ArFPV1K"
      },
      "source": [
        "### Задача 4\n",
        "\n",
        "В переменной `salary` хранится значение заработной платы человека в рублях (можете сами присвоить `salary` какое-нибудь значение).\n",
        "\n",
        "Напишите программу, которая выражает заработную плату человека в *тысячах рублей* и\n",
        "\n",
        "\n",
        "a) сохраняет результат в переменную `salary_th` и выводит результат на экран;\n",
        "\n",
        "b) выводит на экран сообщение (с подставленным вместо `___` значением):\n",
        "\n",
        "    Ваша заработная плата __ тысяч рублей.\n",
        "    \n",
        "**Пример работы программы (пункт a):**\n",
        "\n",
        "\n",
        "*Входные данные*\n",
        "\n",
        "    salary = 35000\n",
        "\n",
        "*Выходные данные*\n",
        "    \n",
        "    35\n",
        "    \n",
        "**Пример работы программы (пункт b):**\n",
        "\n",
        "\n",
        "*Входные данные*\n",
        "\n",
        "    salary = 35000\n",
        "\n",
        "*Выходные данные*\n",
        "    \n",
        "    Ваша заработная плата 35 тысяч рублей."
      ]
    },
    {
      "cell_type": "code",
      "metadata": {
        "colab": {
          "base_uri": "https://localhost:8080/"
        },
        "id": "xk9unf0aPV1K",
        "outputId": "109fac26-007c-45d9-edad-9a49e48322d8"
      },
      "source": [
        "# Запрашиваем у пользователя зарплату и сохраняем в переменной salary\n",
        "salary = int(input('Ваш доход в рублях: '))\n",
        "\n",
        "salary_th = salary // 1000\n",
        "print('Ваша заработная плата {} тысяч рублей.'.format(salary_th))\n"
      ],
      "execution_count": 9,
      "outputs": [
        {
          "output_type": "stream",
          "text": [
            "Ваш доход в рублях: 35000\n",
            "Ваша заработная плата 35 тысяч рублей.\n"
          ],
          "name": "stdout"
        }
      ]
    },
    {
      "cell_type": "markdown",
      "metadata": {
        "id": "Mq9B6S9zPV1L"
      },
      "source": [
        "### Задача 5\n",
        "\n",
        "Напишите программу, которая запрашивает у пользователя сумму (в рублях), которую он хочет перевести своему другу на карту другого банка, и возвращает сумму списания (в рублях) с учётом комиссии банка 5%.\n",
        "\n",
        "*Примечание:* считайте, что сумма перевода – целое число.\n",
        "\n",
        "**Пример работы программы:**\n",
        "\n",
        "*Входные данные*\n",
        "\n",
        "    1000\n",
        "\n",
        "*Выходные данные*\n",
        "\n",
        "    1050.0"
      ]
    },
    {
      "cell_type": "code",
      "metadata": {
        "colab": {
          "base_uri": "https://localhost:8080/"
        },
        "id": "0MOa8cbNPV1L",
        "outputId": "a1a1590a-239c-4699-84e1-4707b7500f1f"
      },
      "source": [
        "# конвертим ввод сразу во float\n",
        "trans_value = float(input('Сколько переводим: '))\n",
        "comission = trans_value * (0.05 + 1)\n",
        "print('С комиссией банка получим: ', comission)\n"
      ],
      "execution_count": 10,
      "outputs": [
        {
          "output_type": "stream",
          "text": [
            "Сколько переводим: 1000\n",
            "С комиссией банка получим:  1050.0\n"
          ],
          "name": "stdout"
        }
      ]
    },
    {
      "cell_type": "markdown",
      "metadata": {
        "id": "u4yTmY7YPV1L"
      },
      "source": [
        "\n",
        "### Задача 6\n",
        "\n",
        "Питон выполз на улицу погулять и решил поиграть: просил прохожих назвать какую-нибудь цифру (т.е. ввести её с клавиатуры) и приписывал эту цифру к цифре, которую назвал предыдущий прохожий. Напишите код, который позволит определить, какое число получится после опроса четырёх прохожих, если известно, что первый прохожий назвал цифру 5. Задача не подразумевает использование циклов; запускать код несколько раз / копировать строки кода или ячейки можно. Обратите внимание: в результате должно получиться *целое число*, не строка.\n",
        "\n",
        "**Пример-пояснение:** первый назвал цифру 5, второй ‒ цифру 6, третий ‒ 3. Получили число 563.\n",
        "\n",
        "**Пример работы программы:**\n",
        "\n",
        "*Входные данные*\n",
        "\n",
        "    5\n",
        "    6\n",
        "    3\n",
        "    0\n",
        "    \n",
        "*Выходные данные*\n",
        "    \n",
        "    5630\n",
        "\n",
        "**Подсказка:** для склеивания строк (такая операция называется *конкатенацией*) в Python используется `+`:"
      ]
    },
    {
      "cell_type": "code",
      "metadata": {
        "colab": {
          "base_uri": "https://localhost:8080/"
        },
        "id": "c-tlmUAURYbr",
        "outputId": "439701c1-9182-449d-99cf-a29f88a29552"
      },
      "source": [
        "a = input()\r\n",
        "b = input()\r\n",
        "c = input()\r\n",
        "\r\n",
        "print(a+b+c)"
      ],
      "execution_count": 14,
      "outputs": [
        {
          "output_type": "stream",
          "text": [
            "5\n",
            "6\n",
            "7\n",
            "567\n"
          ],
          "name": "stdout"
        }
      ]
    },
    {
      "cell_type": "code",
      "metadata": {
        "colab": {
          "base_uri": "https://localhost:8080/"
        },
        "id": "kHs7nYImPV1M",
        "outputId": "e7985d41-544d-41a2-9a12-09459b41df5d"
      },
      "source": [
        "a = \"pass\"\n",
        "b = \"word\"\n",
        "\n",
        "print(a + b)"
      ],
      "execution_count": 11,
      "outputs": [
        {
          "output_type": "stream",
          "text": [
            "password\n"
          ],
          "name": "stdout"
        }
      ]
    },
    {
      "cell_type": "code",
      "metadata": {
        "colab": {
          "base_uri": "https://localhost:8080/"
        },
        "id": "yrjkBPlPPV1M",
        "outputId": "bcec56f1-3feb-4604-92eb-e2341e7e105a"
      },
      "source": [
        "# со ввода приходит str чтобы выполнить условие - преобразуем в int после конкатенации\n",
        "user_1 = input('назовите число: ')\n",
        "user_2 = input('назовите число: ')\n",
        "user_3 = input('назовите число: ')\n",
        "user_4 = input('назовите число: ')\n",
        "print()\n",
        "print(int(user_1 + user_2 + user_3 + user_4))"
      ],
      "execution_count": 12,
      "outputs": [
        {
          "output_type": "stream",
          "text": [
            "назовите число: 6\n",
            "назовите число: 8\n",
            "назовите число: 58\n",
            "назовите число: 2\n",
            "\n",
            "68582\n"
          ],
          "name": "stdout"
        }
      ]
    },
    {
      "cell_type": "markdown",
      "metadata": {
        "id": "6GdPQsu5PV1M"
      },
      "source": [
        "### Задача 7* (дополнительная)\n",
        "\n",
        "Дано целое число `n`. Выведите следующее за ним чётное число. При решении этой задачи *нельзя* использовать условный оператор `if` и циклы.\n",
        "\n",
        "**Подсказка.** В Python существует оператор целочисленного деления `//` (обсуждалсся в видео-уроках) и взятия остатка при делении `%`. Например, результат выполнения операции `15 % 7` равен 1:"
      ]
    },
    {
      "cell_type": "code",
      "metadata": {
        "id": "bVX8JnFsPV1N",
        "outputId": "5365ad40-49f6-4d1d-bed8-b690b222d5e1"
      },
      "source": [
        "15 % 7 # 15 : 7 = 2 и 1 в остатке"
      ],
      "execution_count": null,
      "outputs": [
        {
          "output_type": "execute_result",
          "data": {
            "text/plain": [
              "1"
            ]
          },
          "metadata": {
            "tags": []
          },
          "execution_count": 12
        }
      ]
    },
    {
      "cell_type": "markdown",
      "metadata": {
        "id": "qZsoVnZDPV1N"
      },
      "source": [
        "**Примеры работы программы**\n",
        "\n",
        "*Входные данные*\n",
        "\n",
        "    7\n",
        "\n",
        "*Выходные данные*\n",
        "\n",
        "    8\n",
        "\n",
        "*Входные данные*\n",
        "\n",
        "    8\n",
        "\n",
        "*Выходные данные*\n",
        "\n",
        "    10"
      ]
    },
    {
      "cell_type": "code",
      "metadata": {
        "colab": {
          "base_uri": "https://localhost:8080/"
        },
        "id": "T-gPwpR1PV1N",
        "outputId": "df6b9ff0-5aa4-46d0-a2a6-0525b41b3776"
      },
      "source": [
        "# Получаем на ввод строку и преобразуем в целое число\n",
        "n = int(input('введите число '))\n",
        "# решаем без использования операторов и циклов\n",
        "# Но с использованием целочисленного деления и остатка от деления\n",
        "n_output = (n + 1) % 2 + (n + 1) // n + (n)\n",
        "print('Следующее четное число:', n_output)\n",
        "# Есть проблема((( при вводе единицы на выходе тройка.\n"
      ],
      "execution_count": 13,
      "outputs": [
        {
          "output_type": "stream",
          "text": [
            "введите число 7\n",
            "Следующее четное число: 8\n"
          ],
          "name": "stdout"
        }
      ]
    }
  ]
}