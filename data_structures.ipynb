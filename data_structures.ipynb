{
  "nbformat": 4,
  "nbformat_minor": 0,
  "metadata": {
    "colab": {
      "name": "data_structures.ipynb",
      "provenance": [],
      "collapsed_sections": [],
      "include_colab_link": true
    },
    "kernelspec": {
      "display_name": "Python 3",
      "language": "python",
      "name": "python3"
    },
    "language_info": {
      "codemirror_mode": {
        "name": "ipython",
        "version": 3
      },
      "file_extension": ".py",
      "mimetype": "text/x-python",
      "name": "python",
      "nbconvert_exporter": "python",
      "pygments_lexer": "ipython3",
      "version": "3.7.3"
    }
  },
  "cells": [
    {
      "cell_type": "markdown",
      "metadata": {
        "id": "view-in-github",
        "colab_type": "text"
      },
      "source": [
        "<a href=\"https://colab.research.google.com/github/sviteribuben/skillbox/blob/master/data_structures.ipynb\" target=\"_parent\"><img src=\"https://colab.research.google.com/assets/colab-badge.svg\" alt=\"Open In Colab\"/></a>"
      ]
    },
    {
      "cell_type": "markdown",
      "metadata": {
        "id": "7lPyzNzeLIOj"
      },
      "source": [
        "# Базовые структуры данных\n",
        "\n",
        "\n",
        "\n",
        "## Домашнее задание \n",
        "\n",
        "### Описание домашнего задания и формат сдачи\n",
        "\n",
        "В домашнем задании необходимо решить предложенные задачи по программированию – вписать свой код в ячейки после условий задач вместо комментария `### YOUR CODE HERE ###` в файле *jun_anl_data_structures.ipynb* и сохранить изменения, используя опцию *Save and Checkpoint* из вкладки меню *File* или кнопку *Save and Checkpoint* на панели инструментов. Итоговый файл в формате `.ipynb` (файл Jupyter Notebook) необходимо загрузить в личный кабинет обучающей онлайн платформы Skillbox (https://go.skillbox.ru/) и отправить на проверку."
      ]
    },
    {
      "cell_type": "markdown",
      "metadata": {
        "id": "awb1K2hlLIOl"
      },
      "source": [
        "**NB!** Во всех заданиях обязательно наличие выдачи."
      ]
    },
    {
      "cell_type": "markdown",
      "metadata": {
        "id": "3ndIOSVeLIOm"
      },
      "source": [
        "## Индексация списка"
      ]
    },
    {
      "cell_type": "code",
      "metadata": {
        "id": "XSWqZnZ2LIOo"
      },
      "source": [
        "L = [[[1, 2, 3, 4, 5, 6, 7, 8, 9, 10], [11, 12, 13, 14, 15, 16, 17, 18, 19, 20]], \n",
        "    [[21, 22, 23, 24, 25, 26, 27, 28, 29, 30], [31, 32, 33, 34, 35, 36, 37, 38, 39, 40]], \n",
        "    [[41, 42, 43, 44, 45], [46, [47, 48], 49, 50], [51, 52, 53, 54, 55], [56, 57, 58, 59, 60]], \n",
        "    [61, 62, 63, [64, 65, 66, 67, 68, 69, 70, 71], 72, 73, 74, [75, [76, 77, 78], 79], 80], \n",
        "    [81, 82, 83, 84, 85, 86, 87, 88, 89, 90, 91, 92, 93, 94, 95, 96, 97, 98, 99, 100]]"
      ],
      "execution_count": 2,
      "outputs": []
    },
    {
      "cell_type": "markdown",
      "metadata": {
        "id": "jwigC9WlLIOt"
      },
      "source": [
        "### 1.\n",
        "Из приведенного выше списка списков выведите с помощью индексов число `7`."
      ]
    },
    {
      "cell_type": "code",
      "metadata": {
        "colab": {
          "base_uri": "https://localhost:8080/"
        },
        "id": "PDaSjPzRLIOu",
        "outputId": "e7e1466c-338a-40ea-c739-ac39e706e99f"
      },
      "source": [
        "print(L[0][0][6])"
      ],
      "execution_count": 3,
      "outputs": [
        {
          "output_type": "stream",
          "text": [
            "7\n"
          ],
          "name": "stdout"
        }
      ]
    },
    {
      "cell_type": "markdown",
      "metadata": {
        "id": "TF6eb9fYLIOw"
      },
      "source": [
        "### 2.\n",
        "Из приведенного выше списка списков выведите с помощью индексов число `49`."
      ]
    },
    {
      "cell_type": "code",
      "metadata": {
        "id": "l_oW37-qLIOx",
        "outputId": "e985c6db-8b5d-4f79-fb19-b5777850eb0c"
      },
      "source": [
        "print(L[2][1][2])\n"
      ],
      "execution_count": null,
      "outputs": [
        {
          "output_type": "stream",
          "text": [
            "49\n"
          ],
          "name": "stdout"
        }
      ]
    },
    {
      "cell_type": "markdown",
      "metadata": {
        "id": "FBDB0JeBLIO1"
      },
      "source": [
        "### 3.\n",
        "Из приведенного выше списка списков выведите с помощью индексов число `78`."
      ]
    },
    {
      "cell_type": "code",
      "metadata": {
        "id": "tpM-jm4bLIO2",
        "outputId": "4f33d683-1a22-490c-8c63-3738823797d2"
      },
      "source": [
        "print(L[3][7][1][2])\n"
      ],
      "execution_count": null,
      "outputs": [
        {
          "output_type": "stream",
          "text": [
            "78\n"
          ],
          "name": "stdout"
        }
      ]
    },
    {
      "cell_type": "markdown",
      "metadata": {
        "id": "gnaTfR3BLIO5"
      },
      "source": [
        "### 4.\n",
        "Из приведенного выше списка списков выведите с помощью индексов (используя **отрицательные значения**) число `99`."
      ]
    },
    {
      "cell_type": "code",
      "metadata": {
        "id": "sA0ImW8oLIO6",
        "outputId": "b767d7e2-0fd2-402e-f4b4-5573f2ef768e"
      },
      "source": [
        "print(L[-1][-2])\n",
        "\n"
      ],
      "execution_count": null,
      "outputs": [
        {
          "output_type": "stream",
          "text": [
            "99\n"
          ],
          "name": "stdout"
        }
      ]
    },
    {
      "cell_type": "markdown",
      "metadata": {
        "id": "07mV6-oeLIO-"
      },
      "source": [
        "### 5.\n",
        "Из приведенного выше списка списков сделайте **срез** с числом `74`. "
      ]
    },
    {
      "cell_type": "code",
      "metadata": {
        "id": "OM-zgJ15LIO-",
        "outputId": "fa556e0b-6390-436c-d61a-e8a34d0addda"
      },
      "source": [
        "print(L[3][6:7])"
      ],
      "execution_count": null,
      "outputs": [
        {
          "output_type": "stream",
          "text": [
            "[74]\n"
          ],
          "name": "stdout"
        }
      ]
    },
    {
      "cell_type": "markdown",
      "metadata": {
        "id": "TE82rH0CLIPB"
      },
      "source": [
        "### 6.\n",
        "Из приведенного выше списка списков сделайте **срез** с числами `47, 48`. "
      ]
    },
    {
      "cell_type": "code",
      "metadata": {
        "id": "MKpqyOINLIPD",
        "outputId": "3a77e0a9-1bec-4bdb-9d55-a78d84e80faa"
      },
      "source": [
        "print(L[2][1][1:2])\n",
        "\n"
      ],
      "execution_count": null,
      "outputs": [
        {
          "output_type": "stream",
          "text": [
            "[[47, 48]]\n"
          ],
          "name": "stdout"
        }
      ]
    },
    {
      "cell_type": "markdown",
      "metadata": {
        "id": "t6Fgb0AkLIPK"
      },
      "source": [
        "### 7.\n",
        "Из приведенного выше списка списков сделайте **срез** с числами `77, 78`. "
      ]
    },
    {
      "cell_type": "code",
      "metadata": {
        "id": "l1pGFe7uLIPM",
        "outputId": "4cf2859d-4d41-44b9-b37a-c39742443a6f"
      },
      "source": [
        "print(L[3][7][1][1::])\n"
      ],
      "execution_count": null,
      "outputs": [
        {
          "output_type": "stream",
          "text": [
            "[77, 78]\n"
          ],
          "name": "stdout"
        }
      ]
    },
    {
      "cell_type": "markdown",
      "metadata": {
        "id": "RwOlYKGhLIPR"
      },
      "source": [
        "## Функция range()"
      ]
    },
    {
      "cell_type": "markdown",
      "metadata": {
        "id": "s2K0_TThLIPR"
      },
      "source": [
        "### 8.\n",
        "С помощью функции `range` сгенерируйте следующую последовательность: <br>\n",
        "`[0, 1, 2, 3, 4]`"
      ]
    },
    {
      "cell_type": "code",
      "metadata": {
        "id": "vpuvqwqdLIPS",
        "outputId": "86f336a4-c403-4758-b3e9-70b460130930"
      },
      "source": [
        "print(list(range(5)))"
      ],
      "execution_count": null,
      "outputs": [
        {
          "output_type": "stream",
          "text": [
            "[0, 1, 2, 3, 4]\n"
          ],
          "name": "stdout"
        }
      ]
    },
    {
      "cell_type": "markdown",
      "metadata": {
        "id": "WyhA3ipeLIPU"
      },
      "source": [
        "### 9.\n",
        "С помощью функции `range` сгенерируйте следующую последовательность: <br>\n",
        "`[3, 4]`"
      ]
    },
    {
      "cell_type": "code",
      "metadata": {
        "id": "WHoyVxCeLIPV",
        "outputId": "222555d8-4375-4f14-8b01-4a8b9e9f138d"
      },
      "source": [
        "print(list(range(3, 5)))"
      ],
      "execution_count": null,
      "outputs": [
        {
          "output_type": "stream",
          "text": [
            "[3, 4]\n"
          ],
          "name": "stdout"
        }
      ]
    },
    {
      "cell_type": "markdown",
      "metadata": {
        "id": "Clfo7jhOLIPY"
      },
      "source": [
        "### 10.\n",
        "С помощью функции `range` сгенерируйте следующую последовательность: <br>\n",
        "`[4, 8, 12, 16]`"
      ]
    },
    {
      "cell_type": "code",
      "metadata": {
        "id": "WepJj6ZfLIPY",
        "outputId": "31ed7048-a693-485e-a047-8745f2837695"
      },
      "source": [
        "#print([i for i in range(4, 20, 4)])\n",
        "print(list(range(4, 20, 4)))"
      ],
      "execution_count": null,
      "outputs": [
        {
          "output_type": "stream",
          "text": [
            "[4, 8, 12, 16]\n"
          ],
          "name": "stdout"
        }
      ]
    },
    {
      "cell_type": "markdown",
      "metadata": {
        "id": "U9glCsGCLIPb"
      },
      "source": [
        "### 11.\n",
        "С помощью функции `range` сгенерируйте следующую последовательность: <br>\n",
        "`[16, 12, 8, 4]`"
      ]
    },
    {
      "cell_type": "code",
      "metadata": {
        "id": "NDm-DmpTLIPc",
        "outputId": "d47caf14-b1bc-4b30-fd2f-3f289e79bd7a"
      },
      "source": [
        "#можно через функцию решить, но лучше через built-in reversed\n",
        "#print([i for i in reversed(range(4, 20, 4))])\n",
        "print(list(reversed(range(4, 20, 4))))"
      ],
      "execution_count": null,
      "outputs": [
        {
          "output_type": "stream",
          "text": [
            "[16, 12, 8, 4]\n"
          ],
          "name": "stdout"
        }
      ]
    },
    {
      "cell_type": "markdown",
      "metadata": {
        "id": "CHz6UIKyLIPi"
      },
      "source": [
        "### 12.\n",
        "С помощью функции `range` сгенерируйте следующую последовательность: <br>\n",
        "`[0, 5, 10]`"
      ]
    },
    {
      "cell_type": "code",
      "metadata": {
        "id": "9C06f5sTLIPj",
        "outputId": "5297d5a1-835f-4e74-e142-577f24e97dab"
      },
      "source": [
        "#print([i for i in range(0, 11, 5)])\n",
        "print(list(range(0, 11, 5)))"
      ],
      "execution_count": null,
      "outputs": [
        {
          "output_type": "stream",
          "text": [
            "[0, 5, 10]\n"
          ],
          "name": "stdout"
        }
      ]
    },
    {
      "cell_type": "markdown",
      "metadata": {
        "id": "ZZehpNQuLIPm"
      },
      "source": [
        "### 13.\n",
        "С помощью функции `range` сгенерируйте следующую последовательность: <br>\n",
        "`[10, 5, 0]`"
      ]
    },
    {
      "cell_type": "code",
      "metadata": {
        "id": "H4QmyUfZLIPm",
        "outputId": "a1a776a1-429c-44ed-e47e-726f2a7ec178"
      },
      "source": [
        "#print([i for i in reversed(range(0, 11, 5))])\n",
        "print(list(reversed(range(0, 11, 5))))"
      ],
      "execution_count": null,
      "outputs": [
        {
          "output_type": "stream",
          "text": [
            "[10, 5, 0]\n"
          ],
          "name": "stdout"
        }
      ]
    },
    {
      "cell_type": "markdown",
      "metadata": {
        "id": "kwWQ1al2LIPr"
      },
      "source": [
        "### 14.\n",
        "С помощью функции `range` сгенерируйте следующую последовательность: <br>\n",
        "`[-10, -9, -8, -7, -6, -5, -4, -3, -2, -1]`"
      ]
    },
    {
      "cell_type": "code",
      "metadata": {
        "id": "85HO3S_cLIPu",
        "outputId": "2f80eea2-8365-4139-f8b0-b79a95b89d89"
      },
      "source": [
        "#print([-i for i in reversed(range(1, 11))])\n",
        "print(list(reversed(range(0, -11, -1))))"
      ],
      "execution_count": null,
      "outputs": [
        {
          "output_type": "stream",
          "text": [
            "[-10, -9, -8, -7, -6, -5, -4, -3, -2, -1, 0]\n"
          ],
          "name": "stdout"
        }
      ]
    },
    {
      "cell_type": "markdown",
      "metadata": {
        "id": "sbCO0FbLLIP3"
      },
      "source": [
        "### 15.\n",
        "С помощью функции `range` сгенерируйте следующую последовательность: <br>\n",
        "`[-10, -16, -22, -28, -34]`"
      ]
    },
    {
      "cell_type": "code",
      "metadata": {
        "id": "Frychu-HLIP4",
        "outputId": "c43c7a14-7639-4d7c-c2b1-1901e07a2d68"
      },
      "source": [
        "#print([-i for i in range(10, 35, 6)])\n",
        "print(list(range(-10, -36, -6)))"
      ],
      "execution_count": null,
      "outputs": [
        {
          "output_type": "stream",
          "text": [
            "[-10, -16, -22, -28, -34]\n"
          ],
          "name": "stdout"
        }
      ]
    },
    {
      "cell_type": "markdown",
      "metadata": {
        "id": "1Gfu4kFqLIP-"
      },
      "source": [
        "## Операторы и типы данных"
      ]
    },
    {
      "cell_type": "markdown",
      "metadata": {
        "id": "qnWdcLseLIP_"
      },
      "source": [
        "### 16.\n",
        "Часы показывают время в формате h:mm:ss (количество часов (от 0 до 23), двузначное количество минут, двузначное количество секунд). Количество минут и секунд при необходимости дополняются до двузначного числа нулями.\n",
        "\n",
        "Программа должна запрашивать количество секунд S, которое прошло с начала суток, и выводить в формате h:mm:ss, какое время будут показывать часы. <br><br>\n",
        "\n",
        "*Формат ввода:* <br>\n",
        "3600<br><br>\n",
        "\n",
        "*Формат вывода:* <br>\n",
        "1:00:00"
      ]
    },
    {
      "cell_type": "code",
      "metadata": {
        "id": "UaM4-TFYLIP_",
        "outputId": "d224f0af-8be1-441a-fb04-d36cad840fa9"
      },
      "source": [
        "# Очевидно можно более элегантно решить...\n",
        "# добавляем нули, если нужно, по маске вывода через format, в котором tuple с переменными\n",
        "s = int(input('How much seconds: '))\n",
        "hours = int((s // 3600) % 24)\n",
        "minutes = int((s // 60) % 60)\n",
        "seconds = int(s % 60)\n",
        "#seconds = int(((s % 3600) % 60) % 60)\n",
        "print('Source time is: {}:{:02}:{:02}'.format(hours, minutes, seconds))"
      ],
      "execution_count": null,
      "outputs": [
        {
          "output_type": "stream",
          "text": [
            "How much seconds:  3600\n"
          ],
          "name": "stdin"
        },
        {
          "output_type": "stream",
          "text": [
            "Source time is: 1:00:00\n"
          ],
          "name": "stdout"
        }
      ]
    },
    {
      "cell_type": "markdown",
      "metadata": {
        "id": "BnxMhHlDLIQB"
      },
      "source": [
        "### 17.\n",
        "Машина выезжает на нулевой километр МКАД и едет по часовой стрелке с постоянной скоростью V километров в час. На каком километре МКАД машина окажется через T часов? \n",
        "<br> Длина МКАД: 109 км. <br><br> \n",
        "\n",
        "*Формат ввода:* <br>\n",
        "60 <br>\n",
        "1\n",
        "<br><br>\n",
        "*Формат вывода:* <br>\n",
        "60"
      ]
    },
    {
      "cell_type": "code",
      "metadata": {
        "id": "66aeGuRbLIQC",
        "outputId": "e6d4cfcf-db33-47f8-d8db-f1e1b6d13578"
      },
      "source": [
        "# странно сформулировано условие... решу так как я понял)\n",
        "# принимаем на вход скорость(постоянную, в положительном направлении)\n",
        "# время в часах, далее находим расстояние и вычисляем остаток от деления.\n",
        "speed = int(input('Input your speed: '))\n",
        "duration = int(input('How long you are ride: '))\n",
        "pos = (speed * duration) % 109\n",
        "print('You are here {} km'.format(pos))"
      ],
      "execution_count": null,
      "outputs": [
        {
          "output_type": "stream",
          "text": [
            "Input your speed:  60\n",
            "How long you are ride:  1\n"
          ],
          "name": "stdin"
        },
        {
          "output_type": "stream",
          "text": [
            "You are here 60 km\n"
          ],
          "name": "stdout"
        }
      ]
    },
    {
      "cell_type": "markdown",
      "metadata": {
        "id": "ZxMi6_58LIQG"
      },
      "source": [
        "### 18.\n",
        "Напишите программу, которая запрашивает целое пятизначное число и выводит сумму его цифр.\n",
        "\n",
        "*Формат ввода:* <br>\n",
        "11111\n",
        "<br><br>\n",
        "*Формат вывода:* <br>\n",
        "5"
      ]
    },
    {
      "cell_type": "code",
      "metadata": {
        "id": "wasIkbwELIQH",
        "outputId": "aac30c4c-2f22-43ab-f037-029a7ea8ed74"
      },
      "source": [
        "# воспользуемся опять list comprehensions. На входе строка конвертим в инт и с помощью sum вывозим результат\n",
        "n = input()\n",
        "print(sum([int(i) for i in n]))"
      ],
      "execution_count": null,
      "outputs": [
        {
          "output_type": "stream",
          "text": [
            " 11111\n"
          ],
          "name": "stdin"
        },
        {
          "output_type": "stream",
          "text": [
            "5\n"
          ],
          "name": "stdout"
        }
      ]
    },
    {
      "cell_type": "markdown",
      "metadata": {
        "id": "6q6JEgziLIQK"
      },
      "source": [
        "### 19.\n",
        "Напишите программу, которая запрашивает целое четырехзначное число и меняет местами его две первые и две последние цифры.\n",
        "\n",
        "*Формат ввода:* <br>\n",
        "5236 \n",
        "<br><br>\n",
        "*Формат вывода:* <br>\n",
        "3652"
      ]
    },
    {
      "cell_type": "code",
      "metadata": {
        "id": "tupFycemLIQK",
        "outputId": "29313ca6-dde3-46c6-c6d0-c6c4ad9a5987"
      },
      "source": [
        "# Можно решить через функцию.\n",
        "# Получаем на вход строку, конвертим в список переиндексим список и джойним \n",
        "nember = input('Введите четырехзначное число:')\n",
        "list_b = list(nember)\n",
        "listnew = list(list_b[2:] + list_b[0:2]) \n",
        "print(''.join(listnew))"
      ],
      "execution_count": null,
      "outputs": [
        {
          "output_type": "stream",
          "text": [
            "Введите четырехзначное число: 5236\n"
          ],
          "name": "stdin"
        },
        {
          "output_type": "stream",
          "text": [
            "3652\n"
          ],
          "name": "stdout"
        }
      ]
    },
    {
      "cell_type": "markdown",
      "metadata": {
        "id": "3NglY6CQLIQN"
      },
      "source": [
        "### 20.\n",
        "Напишите программу, которая на основании параметра D (сколько километров в день преодолевает машина), расчитывает сколько дней она затратит на путь длиной P километров.  <br><br>\n",
        "*Формат ввода:* <br>\n",
        "105 <br>\n",
        "120\n",
        "<br><br>\n",
        "*Формат вывода:* <br>\n",
        "2"
      ]
    },
    {
      "cell_type": "code",
      "metadata": {
        "id": "7sCggR--LIQN",
        "outputId": "7083655d-be19-4df9-f9a4-ecee12f3a1bf"
      },
      "source": [
        "# решу с помощью функции)\n",
        "d = int(input('сколько километров в день преодолевает машина: '))\n",
        "p = int(input('нужно проехать: '))\n",
        "def dist():\n",
        "    res = 0\n",
        "    res = p // d\n",
        "    if (p % d) != 0:\n",
        "        res += 1\n",
        "    return res\n",
        "dist()"
      ],
      "execution_count": null,
      "outputs": [
        {
          "output_type": "stream",
          "text": [
            "сколько километров в день преодолевает машина:  105\n",
            "нужно проехать:  120\n"
          ],
          "name": "stdin"
        },
        {
          "output_type": "execute_result",
          "data": {
            "text/plain": [
              "2"
            ]
          },
          "metadata": {
            "tags": []
          },
          "execution_count": 31
        }
      ]
    },
    {
      "cell_type": "markdown",
      "metadata": {
        "id": "oWERt2BRLIQR"
      },
      "source": [
        "### 21.\n",
        "Напишите программу, которая считает, сколько рублей и копеек нужно заплатить за N авокадо, если один авокадо стоит R рублей и K копеек. <br><br>\n",
        "*Формат ввода:* <br>\n",
        "40 20 <br>\n",
        "5\n",
        "<br><br>\n",
        "*Формат вывода:* <br>\n",
        "201 руб. 00 коп."
      ]
    },
    {
      "cell_type": "code",
      "metadata": {
        "id": "Zvx5ybP7LIQU",
        "outputId": "6d1f5445-4476-494f-c9fd-3d3d0d34fa95"
      },
      "source": [
        "r = int(input('Рубли '))\n",
        "k = int(input('копецки '))\n",
        "n = int(input('количество авокадо '))\n",
        "\n",
        "roub = r * n + (k * n) // 100\n",
        "cop = (k * n) % 100\n",
        "\n",
        "print('Цена за авокадо: {} руб. {} коп.'. format(roub, cop))"
      ],
      "execution_count": null,
      "outputs": [
        {
          "output_type": "stream",
          "text": [
            "Рубли  40\n",
            "копецки  20\n",
            "количество авокадо  5\n"
          ],
          "name": "stdin"
        },
        {
          "output_type": "stream",
          "text": [
            "Цена за авокадо: 201 руб. 0 коп.\n"
          ],
          "name": "stdout"
        }
      ]
    },
    {
      "cell_type": "markdown",
      "metadata": {
        "id": "Q0u91-MILIQX"
      },
      "source": [
        "### 22.\n",
        "Пусть организаторы мероприятия неправильно составили гугл-форму и просили людей указывать ФИО в неправильном порядке. Сначала спрашивали имя, потом отчество, затем фамилию. Напишите программу, которая будет переставлять ФИО в нужный порядок. <br> <br> \n",
        "\n",
        "*Формат ввода:* <br>\n",
        "Иван Иванович Иванов<br><br>\n",
        "*Формат вывода:* <br>\n",
        "Иванов Иван Иванович"
      ]
    },
    {
      "cell_type": "code",
      "metadata": {
        "id": "hrXguBL7LIQX",
        "outputId": "f50d968e-18e2-46c5-d7f5-40f407f8d517"
      },
      "source": [
        "# понимаю что решение корявое(( title поднимает первую букву каждого слова а потом сплит по пробелу\n",
        "r = input('фио ')\n",
        "list_p = r.title().split(' ')\n",
        "print(list_p[2], list_p[0], list_p[1])"
      ],
      "execution_count": null,
      "outputs": [
        {
          "output_type": "stream",
          "text": [
            "фио  Иван Иванович Иванов\n"
          ],
          "name": "stdin"
        },
        {
          "output_type": "stream",
          "text": [
            "Иванов Иван Иванович\n"
          ],
          "name": "stdout"
        }
      ]
    },
    {
      "cell_type": "markdown",
      "metadata": {
        "id": "vwexBPelLIQb"
      },
      "source": [
        "## Cловари и списки"
      ]
    },
    {
      "cell_type": "markdown",
      "metadata": {
        "id": "nIgc10tKLIQc"
      },
      "source": [
        "### 23.\n",
        "У вас есть список с заказом в ресторане. Напишите программу, которая меняет указанное по названию блюдо на другое. При этом новое блюдо в списке будет расположено на месте того, что было заменено.\n",
        "\n",
        "*Формат ввода:* <br>\n",
        "белое вино<br>\n",
        "красное вино <br><br>\n",
        "*Формат вывода:* <br>\n",
        "`['красное вино', 'салат Цезарь', 'паста Карбонара', 'чизкейк', 'шоколадный сорбет']`"
      ]
    },
    {
      "cell_type": "code",
      "metadata": {
        "id": "O0k3dslvLIQd"
      },
      "source": [
        "order = ['белое вино', 'салат Цезарь', 'паста Карбонара', 'чизкейк', 'шоколадный сорбет']"
      ],
      "execution_count": null,
      "outputs": []
    },
    {
      "cell_type": "code",
      "metadata": {
        "id": "D9s6foo_LIQh",
        "outputId": "db62fa51-739b-4087-8240-952c9ce8ed7e"
      },
      "source": [
        "# делаем поверхностное копирование исходного списка\n",
        "# далее итерируемся по длине списка по всем элементам и подменяем совпадения по индексу.\n",
        "# можно решить и функцией...\n",
        "\n",
        "new_order = order[:] \n",
        "n = input()\n",
        "m = input()\n",
        "\n",
        "for i in range(len(new_order)):\n",
        "    if new_order[i] == n:\n",
        "        new_order[i] = m\n",
        "    \n",
        "print(new_order)\n",
        "#print(order)"
      ],
      "execution_count": null,
      "outputs": [
        {
          "output_type": "stream",
          "text": [
            " белое вино\n",
            " красное вино\n"
          ],
          "name": "stdin"
        },
        {
          "output_type": "stream",
          "text": [
            "['красное вино', 'салат Цезарь', 'паста Карбонара', 'чизкейк', 'шоколадный сорбет']\n"
          ],
          "name": "stdout"
        }
      ]
    },
    {
      "cell_type": "markdown",
      "metadata": {
        "id": "GLx0EKUiLIQj"
      },
      "source": [
        "__________________\n",
        "Вам дан словарь c расписанием на неделю. "
      ]
    },
    {
      "cell_type": "code",
      "metadata": {
        "id": "fbPqWtv_LIQl"
      },
      "source": [
        "diary = {'понедельник': {\n",
        "                          'утро': ['погулять с собакой'],\n",
        "                          'день': [],\n",
        "                          'вечер': ['погулять с собакой']\n",
        "                                      },\n",
        "        'вторник': {\n",
        "                          'утро': ['погулять с собакой'],\n",
        "                          'день': [],\n",
        "                          'вечер': ['погулять с собакой']\n",
        "                                      },\n",
        "        'среда': {\n",
        "                          'утро': ['погулять с собакой'],\n",
        "                          'день': [],\n",
        "                          'вечер': ['погулять с собакой']\n",
        "                                      },\n",
        "        'четверг': {\n",
        "                          'утро': ['погулять с собакой'],\n",
        "                          'день': [],\n",
        "                          'вечер': ['погулять с собакой']\n",
        "                                      },\n",
        "        'пятница': {\n",
        "                          'утро': ['заехать в шиномонтаж', 'помыть машину'],\n",
        "                          'день': [],\n",
        "                          'вечер': ['поход в театр',  'ужин в кафе']\n",
        "                                      },\n",
        "        'суббота': {\n",
        "                          'утро': [],\n",
        "                          'день': [],\n",
        "                          'вечер': []\n",
        "                                      },\n",
        "        'воскресенье': {\n",
        "                          'утро': [],\n",
        "                          'день': [],\n",
        "                          'вечер': []\n",
        "                                      }}"
      ],
      "execution_count": null,
      "outputs": []
    },
    {
      "cell_type": "markdown",
      "metadata": {
        "id": "3FocVZkgLIQn"
      },
      "source": [
        "### 24.\n",
        "Удалите ключи `суббота` и `воскресенье`. Вместо них добавьте пару, где ключ это кортеж `суббота, воскресенье`, а значение – список с делом `посадить цветы на даче`. Можно ли сделать ключ `суббота, воскресенье` списком?"
      ]
    },
    {
      "cell_type": "code",
      "metadata": {
        "id": "lcw8GWcnLIQo",
        "outputId": "0e130e11-5f57-48f4-eea5-fd8562ed3582"
      },
      "source": [
        "\n",
        "diary['суббота'] = ['посадить цветы на даче']\n",
        "diary['воскресенье'] = ['посадить цветы на даче']\n",
        "print(diary)"
      ],
      "execution_count": null,
      "outputs": [
        {
          "output_type": "stream",
          "text": [
            "{'понедельник': {'утро': ['погулять с собакой'], 'день': [], 'вечер': ['погулять с собакой']}, 'вторник': {'утро': ['погулять с собакой'], 'день': [], 'вечер': ['погулять с собакой']}, 'среда': {'утро': ['погулять с собакой'], 'день': [], 'вечер': ['погулять с собакой']}, 'четверг': {'утро': ['погулять с собакой'], 'день': [], 'вечер': ['погулять с собакой']}, 'пятница': {'утро': ['заехать в шиномонтаж', 'помыть машину'], 'день': [], 'вечер': ['поход в театр', 'ужин в кафе']}, 'суббота': ['посадить цветы на даче'], 'воскресенье': ['посадить цветы на даче']}\n"
          ],
          "name": "stdout"
        }
      ]
    },
    {
      "cell_type": "markdown",
      "metadata": {
        "id": "vVhNCrtLLIQs"
      },
      "source": [
        "### 25.\n",
        "Добавьте в список дел во вторник утром `поход к зубному`."
      ]
    },
    {
      "cell_type": "code",
      "metadata": {
        "id": "R4BiwaWlLIQu",
        "outputId": "9a95c9e6-6309-4158-e0e0-b315c9dd690c"
      },
      "source": [
        "diary['вторник']['утро'] = ['поход к зубному']\n",
        "print(diary)"
      ],
      "execution_count": null,
      "outputs": [
        {
          "output_type": "stream",
          "text": [
            "{'понедельник': {'утро': ['погулять с собакой'], 'день': [], 'вечер': ['погулять с собакой']}, 'вторник': {'утро': ['поход к зубному'], 'день': [], 'вечер': ['погулять с собакой']}, 'среда': {'утро': ['погулять с собакой'], 'день': [], 'вечер': ['погулять с собакой']}, 'четверг': {'утро': ['погулять с собакой'], 'день': [], 'вечер': ['погулять с собакой']}, 'пятница': {'утро': ['заехать в шиномонтаж', 'помыть машину'], 'день': [], 'вечер': ['поход в театр', 'ужин в кафе']}, 'суббота': ['посадить цветы на даче'], 'воскресенье': ['посадить цветы на даче']}\n"
          ],
          "name": "stdout"
        }
      ]
    },
    {
      "cell_type": "markdown",
      "metadata": {
        "id": "BPQ5R-PkLIQ2"
      },
      "source": [
        "### 26.\n",
        "Замените `поход в театр` на `поход в кино` в списке дел в пятницу вечером."
      ]
    },
    {
      "cell_type": "code",
      "metadata": {
        "id": "nhqzOrZILIQ5",
        "outputId": "e2486759-3418-473e-a69a-53a7739fff8d"
      },
      "source": [
        "diary['пятница']['вечер'] = ['поход в кино', 'ужин в кафе']\n",
        "print(diary)"
      ],
      "execution_count": null,
      "outputs": [
        {
          "output_type": "stream",
          "text": [
            "{'понедельник': {'утро': ['погулять с собакой'], 'день': [], 'вечер': ['погулять с собакой']}, 'вторник': {'утро': ['поход к зубному'], 'день': [], 'вечер': ['погулять с собакой']}, 'среда': {'утро': ['погулять с собакой'], 'день': [], 'вечер': ['погулять с собакой']}, 'четверг': {'утро': ['погулять с собакой'], 'день': [], 'вечер': ['погулять с собакой']}, 'пятница': {'утро': ['заехать в шиномонтаж', 'помыть машину'], 'день': [], 'вечер': ['поход в кино', 'ужин в кафе']}, 'суббота': ['посадить цветы на даче'], 'воскресенье': ['посадить цветы на даче']}\n"
          ],
          "name": "stdout"
        }
      ]
    },
    {
      "cell_type": "markdown",
      "metadata": {
        "id": "HCE0aq_BLIQ7"
      },
      "source": [
        "### 27.\n",
        "Ваш друг вернется из отпуска на один день раньше, поэтому он заберет свою собаку в среду, а не в четверг. Удалите дело `погулять с собакой` из соответствующих списков."
      ]
    },
    {
      "cell_type": "code",
      "metadata": {
        "id": "WPnIXdTVLIQ7",
        "outputId": "80b6e49b-a2af-4b07-ebc0-f6def9f1e7a0"
      },
      "source": [
        "diary['среда']['утро'] = []\n",
        "diary['среда']['вечер'] = []\n",
        "diary['четверг']['утро'] = []\n",
        "diary['четверг']['вечер'] = []\n",
        "print(diary)"
      ],
      "execution_count": null,
      "outputs": [
        {
          "output_type": "stream",
          "text": [
            "{'понедельник': {'утро': ['погулять с собакой'], 'день': [], 'вечер': ['погулять с собакой']}, 'вторник': {'утро': ['поход к зубному'], 'день': [], 'вечер': ['погулять с собакой']}, 'среда': {'утро': [], 'день': [], 'вечер': []}, 'четверг': {'утро': [], 'день': [], 'вечер': []}, 'пятница': {'утро': ['заехать в шиномонтаж', 'помыть машину'], 'день': [], 'вечер': ['поход в кино', 'ужин в кафе']}, 'суббота': ['посадить цветы на даче'], 'воскресенье': ['посадить цветы на даче']}\n"
          ],
          "name": "stdout"
        }
      ]
    },
    {
      "cell_type": "markdown",
      "metadata": {
        "id": "A80KVUrZLIQ9"
      },
      "source": [
        "### 28.\n",
        "Выведите второе дело из списка дел, которые вам нужно сделать в пятницу утром."
      ]
    },
    {
      "cell_type": "code",
      "metadata": {
        "id": "ofqEBNuZLIQ-",
        "outputId": "e82f1645-5658-4679-d262-e9fe52401f6c"
      },
      "source": [
        "print(diary['пятница']['вечер'][1])"
      ],
      "execution_count": null,
      "outputs": [
        {
          "output_type": "stream",
          "text": [
            "ужин в кафе\n"
          ],
          "name": "stdout"
        }
      ]
    },
    {
      "cell_type": "code",
      "metadata": {
        "id": "MSJTY1dhVaIG"
      },
      "source": [
        ""
      ],
      "execution_count": null,
      "outputs": []
    }
  ]
}